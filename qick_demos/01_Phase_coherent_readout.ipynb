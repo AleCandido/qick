{
 "cells": [
  {
   "cell_type": "markdown",
   "metadata": {},
   "source": [
    "# <center> Calibrating the QICK for phase coherent readout\n",
    "\n",
    "### <center> In this demo you will calibrate the QICK clocks to have the same phase.\n",
    "\n",
    "Before you measure a resonance with your QICK this is the first calibration you should do. It is a calibration for the two synthesizers which belong to the QICK signal generator and the QICK readout, respectively. The two synthesizers are running at the same frequency, but there is initially a constant phase difference $\\phi$ between these two synthesizers. Doing this calibration results in you finding that phase difference $\\phi$. In your subsequent measurements, you can specify this initial phase difference $\\phi$ to compensate for it. From then on, the signal generator can synthesize any frequency and then if you read in data (doing a digital down conversion in the process), the readout will still be phase coherent with respect to the signal generator. \n",
    "\n",
    "<center> The angular frequency $\\omega = 2 \\pi f$ .\n",
    "\n",
    "<center> Also, $\\phi = (\\omega t) + \\phi_0$. \n",
    "\n",
    "<center> So, $\\phi = (2 \\pi f)*t + \\phi_0 $. \n",
    "\n",
    "If $f$ goes up linearly, the phase difference will also change linearly (it will either increase or decrease, depending on whether the readout is ahead or behind of the signal generator- this is randomly determined each time the board clocks are initialized). Once the phase hits 360 degrees it cycles back to 0 again. For a readout frequency of interest $f_i$ there is a corresponding phase difference $\\phi_i$. In this demonstration we assume $f_i \\approx 180$ MHz. You can plot $\\phi(f)$ and evaluate $\\phi(f_i)=\\phi_i$."
   ]
  },
  {
   "cell_type": "code",
   "execution_count": 1,
   "metadata": {},
   "outputs": [
    {
     "data": {
      "application/javascript": [
       "\n",
       "try {\n",
       "require(['notebook/js/codecell'], function(codecell) {\n",
       "  codecell.CodeCell.options_default.highlight_modes[\n",
       "      'magic_text/x-csrc'] = {'reg':[/^%%pybind11/]};\n",
       "  Jupyter.notebook.events.one('kernel_ready.Kernel', function(){\n",
       "      Jupyter.notebook.get_cells().map(function(cell){\n",
       "          if (cell.cell_type == 'code'){ cell.auto_highlight(); } }) ;\n",
       "  });\n",
       "});\n",
       "} catch (e) {};\n"
      ]
     },
     "metadata": {},
     "output_type": "display_data"
    },
    {
     "name": "stdout",
     "output_type": "stream",
     "text": [
      "Populating the interactive namespace from numpy and matplotlib\n"
     ]
    }
   ],
   "source": [
    "# Import the QICK drivers and auxiliary libraries\n",
    "from qick import *\n",
    "%pylab inline"
   ]
  },
  {
   "cell_type": "code",
   "execution_count": 2,
   "metadata": {
    "scrolled": false
   },
   "outputs": [
    {
     "name": "stdout",
     "output_type": "stream",
     "text": [
      "\n",
      "QICK configuration:\n",
      "\n",
      "\tBoard: ZCU111\n",
      "\n",
      "\tGlobal clocks (MHz): DAC fabric 384.000, ADC fabric 384.000, reference 204.800\n",
      "\n",
      "\tGenerator switch: 1 to 7\n",
      "\n",
      "\tAverager switch: 2 to 1\n",
      "\n",
      "\tBuffer switch: 2 to 1\n",
      "\n",
      "\t7 DAC channels:\n",
      "\t0:\ttile 0, channel 0, fs=6144.000 MHz\n",
      "\t1:\ttile 0, channel 1, fs=6144.000 MHz\n",
      "\t2:\ttile 0, channel 2, fs=6144.000 MHz\n",
      "\t3:\ttile 1, channel 0, fs=6144.000 MHz\n",
      "\t4:\ttile 1, channel 1, fs=6144.000 MHz\n",
      "\t5:\ttile 1, channel 2, fs=6144.000 MHz\n",
      "\t6:\ttile 1, channel 3, fs=6144.000 MHz\n",
      "\n",
      "\t2 ADC channels:\n",
      "\t0:\ttile 0, channel 0, fs=3072.000 MHz\n",
      "\t1:\ttile 0, channel 1, fs=3072.000 MHz\n",
      "\n",
      "\tRefclk multiplier factors: 30 (DAC), 15 (ADC)\n",
      "\tFrequency resolution step: 1.431 Hz\n",
      "\n",
      "\t7 signal generators: max length 65536 samples\n",
      "\n",
      "\t2 readout blocks\n",
      "\n",
      "\t2 average+buffer blocks: max length 1024 samples (averages), 1024 (decimated buffer)\n",
      "\n",
      "\ttProc: 1048576 words program memory, 4096 words data memory\n",
      "\t\tprogram RAM: 65536 bytes\n"
     ]
    }
   ],
   "source": [
    "# Load bitstream with custom overlay\n",
    "soc = QickSoc()\n",
    "\n",
    "# Print the QICK configuration\n",
    "print(soc)\n",
    "\n",
    "out_chs = [1,6,7]\n",
    "# Set the loopback and monitor DAC channels to be in 1st Nyquist zone mode\n",
    "for ch in out_chs:\n",
    "    soc.set_nyquist(ch=ch,nqz=1)"
   ]
  },
  {
   "cell_type": "markdown",
   "metadata": {},
   "source": [
    "\n",
    "### Hardware Configuration\n",
    "\n",
    "tProc channel 7   : DAC 229 CH3  <-> Readout channel 0 : ADC 224 CH0\n",
    "\n",
    "The following are optional:\n",
    "\n",
    "* tProc channel 6   : DAC 229 CH2       <-> Readout channel 1 : ADC 224 CH1\n",
    "* tProc channel 1   : DAC 228 CH0(P)    <-> oscilloscope, through a DC-block\n",
    "* PMOD 0_0 (pin 1 on J48 on the ZCU111) <-> oscilloscope\n",
    "\n"
   ]
  },
  {
   "cell_type": "markdown",
   "metadata": {},
   "source": [
    "We are going to drive the DAC outputs in periodic mode, so we only need to specify a short constant waveform and they will continue to run forever.\n",
    "\n",
    "This is useful for the phase measurement, but it's good to stop the DACs afterwards: for that purpose we define a short program."
   ]
  },
  {
   "cell_type": "code",
   "execution_count": 3,
   "metadata": {},
   "outputs": [],
   "source": [
    "def reset_gens(soc):\n",
    "    \"\"\"\n",
    "    Run a minimal tProc program that drives all signal generators with 0's.\n",
    "    Useful for stopping any periodic outputs that may have been driven by a previous program.\n",
    "    \"\"\"\n",
    "    #\"set\" commands with nsamp=1 or 2 fail in a strange way: \n",
    "    #the signal generator plays the entire waveform memory repeatedly for 10-20 seconds\n",
    "    #during this time, new \"set\" commands don't work\n",
    "\n",
    "    nsamp=3\n",
    "\n",
    "    prog = QickProgram()\n",
    "    prog.regwi(1,1,soc.freq2reg(f=200),\"freq\") # an arbitrary frequency seems preferable to 0?\n",
    "    prog.regwi(1,4,(0x8<<16) + nsamp,\"b01000 -> phrst = 0, stdysel = 1, mode = 0, outsel = 00; generator will consume 16*nsamp DAC values\")\n",
    "    for gen in range(7):\n",
    "        prog.set(gen+1,1,1,0,0,0,4,0, \"t=phase=addr=gain=0\")\n",
    "    prog.end()\n",
    "\n",
    "    soc.tproc.stop()\n",
    "    soc.tproc.load_bin_program(prog.compile())\n",
    "    soc.tproc.start()\n",
    "reset_gens(soc)"
   ]
  },
  {
   "cell_type": "markdown",
   "metadata": {},
   "source": [
    "We define the frequency range to be tested, and some helper functions that will process and print the results. For each frequency we will print the measured phase (what we care about), and also the mean magnitude and RMS of the waveform (for debugging - the magnitude should always be much larger than the RMS)."
   ]
  },
  {
   "cell_type": "code",
   "execution_count": 4,
   "metadata": {},
   "outputs": [],
   "source": [
    "# Output frequency f0_v.\n",
    "###################\n",
    "# Try it yourself ! Change the output frequency.\n",
    "###################\n",
    "\n",
    "f0_start=100\n",
    "f0_step=0.000250\n",
    "expts=40\n",
    "# expts=1\n",
    "\n",
    "f0_v = np.arange(0,expts)*f0_step+f0_start\n",
    "\n",
    "# ADC and DAC have different frequency units, and the frequencies used in the two systems must be exactly equal.\n",
    "# adcfreq() gives you the closest frequency that will satisfy this condition.\n",
    "f0_v = soc.adcfreq(f0_v)\n",
    "\n",
    "def calculate_phase(d):\n",
    "    [xi,xq] = d\n",
    "    x = xi +1j*xq\n",
    "\n",
    "    # Average to improve calibration.\n",
    "    xavg = np.mean(x)\n",
    "\n",
    "    # Calculate calibration phase.\n",
    "    fi = np.remainder(np.angle(xavg,deg=True)+360,360)\n",
    "    return [fi, np.abs(xavg), np.std(x)]\n",
    "\n",
    "def print_results(res):\n",
    "    print(\"freq_i = %f MHz, \"%(f0) +\n",
    "         \"phi_i = (%.2f, %.2f) deg, \" % tuple([res[i][0] for i in range(2)]) +\n",
    "         \"mag = (%.2f, %.2f), \" % tuple([res[i][1] for i in range(2)]) +\n",
    "         \"RMS = (%.2f, %.2f) ADU\" % tuple([res[i][2] for i in range(2)]))\n",
    "#     print(\"freq_i = %f MHz, phi_i = (%.2f, %.2f) deg, mag = (%.2f, %.2f), RMS = (%.2f, %.2f) ADU\" %(f0,*out_array,*A,*xrms))"
   ]
  },
  {
   "cell_type": "markdown",
   "metadata": {},
   "source": [
    "### Measurement methods\n",
    "We are going to make the same measurement in several ways, to demonstrate different ways of running the QICK (and hopefully gain some understanding of what's going on under the hood). You can jump to the analysis at the end at any point to plot the data - all methods write the results to the same array.\n",
    "\n",
    "For the first two methods, we will have a common Python method - below - that acquires the data, but doesn't load the tProc program."
   ]
  },
  {
   "cell_type": "code",
   "execution_count": 5,
   "metadata": {},
   "outputs": [],
   "source": [
    "def measure_phase_decimated(soc, f0, fi0, out_array):\n",
    "    \"\"\"\n",
    "    Measure the phase shift for a given frequency using decimated readout, and write it into the provided array.\n",
    "    Assumes that the tProc is already loaded with a program that reads the frequency and phase from memory locations 123 and 124.\n",
    "    \"\"\"\n",
    "    soc.tproc.stop()\n",
    "    \n",
    "    readout_length = 1000\n",
    "\n",
    "    f0_dac_int = soc.freq2reg(f=f0) # Frequency of signal generator\n",
    "    \n",
    "    soc.tproc.single_write(addr=123, data=f0_dac_int)\n",
    "\n",
    "    fi0_int = deg2reg(fi0)\n",
    "    soc.tproc.single_write(addr=124, data=fi0_int)\n",
    "\n",
    "    # Configure readout.\n",
    "    for ch in range(2):\n",
    "        soc.configure_readout(ch=ch, output=\"product\", frequency=f0)\n",
    "#         soc.config_avg(ch=ch, address=0, length=readout_length, enable=True)\n",
    "        soc.config_buf(ch=ch, address=0, length=readout_length, enable=True)\n",
    "    \n",
    "    # Start tProc.\n",
    "    soc.tproc.start()\n",
    "\n",
    "    time.sleep(0.1)\n",
    "    \n",
    "    # Get data.\n",
    "    data = [soc.get_decimated(ch=ch, length=readout_length) for ch in range(2)]\n",
    "#     print(data)\n",
    "\n",
    "    # Process data.\n",
    "    res = [calculate_phase(d) for d in data]\n",
    "\n",
    "    # Save results.\n",
    "    out_array[:] = [a[0] for a in res]\n",
    "    print_results(res)"
   ]
  },
  {
   "cell_type": "markdown",
   "metadata": {},
   "source": [
    "### Load ASM from text file\n",
    "\n",
    "First, let's program the tProc from an assembly language file, which needs to be located in the same directory when you run it: `01_phase_calibration.asm`"
   ]
  },
  {
   "cell_type": "code",
   "execution_count": 6,
   "metadata": {
    "scrolled": false
   },
   "outputs": [
    {
     "name": "stdout",
     "output_type": "stream",
     "text": [
      "freq_i = 100.000000 MHz, phi_i = (303.66, 198.18) deg, mag = (637.93, 635.82), RMS = (1.83, 1.77) ADU\n",
      "freq_i = 100.000249 MHz, phi_i = (283.15, 177.68) deg, mag = (638.80, 635.61), RMS = (1.82, 1.76) ADU\n",
      "freq_i = 100.000500 MHz, phi_i = (262.54, 157.06) deg, mag = (638.92, 635.76), RMS = (1.89, 1.80) ADU\n",
      "freq_i = 100.000750 MHz, phi_i = (241.92, 136.45) deg, mag = (638.55, 635.62), RMS = (1.92, 1.86) ADU\n",
      "freq_i = 100.001000 MHz, phi_i = (221.30, 115.81) deg, mag = (638.47, 635.37), RMS = (1.85, 1.75) ADU\n",
      "freq_i = 100.001249 MHz, phi_i = (200.79, 95.32) deg, mag = (638.64, 635.60), RMS = (1.86, 1.82) ADU\n",
      "freq_i = 100.001500 MHz, phi_i = (180.17, 74.69) deg, mag = (638.45, 635.54), RMS = (1.87, 1.86) ADU\n",
      "freq_i = 100.001750 MHz, phi_i = (159.56, 54.07) deg, mag = (638.47, 635.68), RMS = (1.82, 1.77) ADU\n",
      "freq_i = 100.002000 MHz, phi_i = (138.94, 33.45) deg, mag = (638.74, 635.79), RMS = (1.87, 1.79) ADU\n",
      "freq_i = 100.002251 MHz, phi_i = (118.32, 12.82) deg, mag = (638.64, 635.87), RMS = (1.90, 1.84) ADU\n",
      "freq_i = 100.002500 MHz, phi_i = (97.81, 352.33) deg, mag = (638.43, 635.81), RMS = (1.86, 1.85) ADU\n",
      "freq_i = 100.002750 MHz, phi_i = (77.19, 331.70) deg, mag = (638.65, 635.67), RMS = (1.86, 1.73) ADU\n",
      "freq_i = 100.003000 MHz, phi_i = (56.57, 311.08) deg, mag = (638.92, 635.84), RMS = (2.12, 1.76) ADU\n",
      "freq_i = 100.003251 MHz, phi_i = (35.96, 290.46) deg, mag = (638.73, 635.70), RMS = (1.91, 1.75) ADU\n",
      "freq_i = 100.003500 MHz, phi_i = (15.45, 269.95) deg, mag = (638.53, 635.64), RMS = (1.88, 1.86) ADU\n",
      "freq_i = 100.003750 MHz, phi_i = (354.83, 249.33) deg, mag = (638.68, 635.89), RMS = (1.84, 1.78) ADU\n",
      "freq_i = 100.004000 MHz, phi_i = (334.22, 228.71) deg, mag = (638.90, 635.87), RMS = (1.87, 1.95) ADU\n",
      "freq_i = 100.004251 MHz, phi_i = (313.59, 208.10) deg, mag = (638.57, 635.79), RMS = (1.95, 1.87) ADU\n",
      "freq_i = 100.004499 MHz, phi_i = (293.09, 187.58) deg, mag = (638.58, 635.77), RMS = (1.92, 1.79) ADU\n",
      "freq_i = 100.004750 MHz, phi_i = (272.46, 166.96) deg, mag = (638.74, 635.80), RMS = (1.82, 1.71) ADU\n",
      "freq_i = 100.005000 MHz, phi_i = (251.84, 146.34) deg, mag = (638.62, 635.79), RMS = (1.87, 1.79) ADU\n",
      "freq_i = 100.005250 MHz, phi_i = (231.23, 125.72) deg, mag = (638.68, 635.68), RMS = (1.82, 1.81) ADU\n",
      "freq_i = 100.005499 MHz, phi_i = (210.73, 105.22) deg, mag = (638.31, 635.41), RMS = (1.87, 1.81) ADU\n",
      "freq_i = 100.005750 MHz, phi_i = (190.10, 84.60) deg, mag = (638.50, 636.05), RMS = (1.77, 1.77) ADU\n",
      "freq_i = 100.006000 MHz, phi_i = (169.48, 63.97) deg, mag = (638.38, 635.64), RMS = (1.90, 1.78) ADU\n",
      "freq_i = 100.006250 MHz, phi_i = (148.87, 43.36) deg, mag = (638.88, 635.83), RMS = (1.92, 1.81) ADU\n",
      "freq_i = 100.006499 MHz, phi_i = (128.35, 22.84) deg, mag = (639.01, 635.84), RMS = (1.88, 1.77) ADU\n",
      "freq_i = 100.006750 MHz, phi_i = (107.73, 2.22) deg, mag = (638.78, 635.91), RMS = (1.98, 1.79) ADU\n",
      "freq_i = 100.007000 MHz, phi_i = (87.11, 341.61) deg, mag = (638.60, 635.70), RMS = (1.74, 1.82) ADU\n",
      "freq_i = 100.007250 MHz, phi_i = (66.49, 320.97) deg, mag = (638.71, 636.04), RMS = (1.89, 1.81) ADU\n",
      "freq_i = 100.007501 MHz, phi_i = (45.87, 300.35) deg, mag = (638.77, 635.81), RMS = (1.78, 1.76) ADU\n",
      "freq_i = 100.007750 MHz, phi_i = (25.37, 279.86) deg, mag = (638.78, 635.65), RMS = (1.81, 1.73) ADU\n",
      "freq_i = 100.008000 MHz, phi_i = (4.75, 259.23) deg, mag = (638.33, 635.51), RMS = (1.83, 1.78) ADU\n",
      "freq_i = 100.008250 MHz, phi_i = (344.12, 238.60) deg, mag = (638.56, 635.83), RMS = (1.84, 1.75) ADU\n",
      "freq_i = 100.008501 MHz, phi_i = (323.50, 217.99) deg, mag = (638.53, 635.77), RMS = (1.97, 1.88) ADU\n",
      "freq_i = 100.008749 MHz, phi_i = (302.99, 197.48) deg, mag = (638.71, 635.67), RMS = (1.85, 1.88) ADU\n",
      "freq_i = 100.009000 MHz, phi_i = (282.38, 176.86) deg, mag = (638.66, 635.76), RMS = (1.80, 1.84) ADU\n",
      "freq_i = 100.009250 MHz, phi_i = (261.77, 156.25) deg, mag = (638.92, 635.94), RMS = (1.88, 1.77) ADU\n",
      "freq_i = 100.009501 MHz, phi_i = (241.13, 135.62) deg, mag = (638.67, 635.72), RMS = (1.82, 1.71) ADU\n",
      "freq_i = 100.009749 MHz, phi_i = (220.64, 115.12) deg, mag = (638.50, 635.59), RMS = (1.86, 1.84) ADU\n"
     ]
    }
   ],
   "source": [
    "# Constant, real envelope.\n",
    "# The length must be at least 16 times the nsamp parameter passed to the signal generators.\n",
    "xg_i = 30000*np.ones(160)\n",
    "xg_q = np.zeros(len(xg_i))\n",
    "\n",
    "# Upload waveform.\n",
    "for ch in out_chs:\n",
    "    soc.load_pulse_data(ch=ch,idata=xg_i, qdata=xg_q,addr=0)\n",
    "\n",
    "# Load program.\n",
    "soc.tproc.load_bin_program(parser.parse_to_bin(\"01_phase_calibration.asm\"))\n",
    "# soc.tproc.load_program(\"01_phase_calibration.asm\")\n",
    "\n",
    "# Output phase.\n",
    "fi0 = 0\n",
    "fi_v = np.zeros((2,len(f0_v)))\n",
    "for ii, f0 in enumerate(f0_v):\n",
    "    measure_phase_decimated(soc, f0, fi0, fi_v[:,ii])\n",
    "\n",
    "reset_gens(soc)"
   ]
  },
  {
   "cell_type": "markdown",
   "metadata": {},
   "source": [
    "### QickProgram\n",
    "\n",
    "It's usually easier to define the tProc program dynamically in Python, rather than loading it from a separate file. The low-level tool for this is QickProgram.\n",
    "\n",
    "If you compare `01_phase_calibration.asm` to the commands below, you can see the resemblance; if you convert the QickProgram to .asm format with print(prog) it is very clear."
   ]
  },
  {
   "cell_type": "code",
   "execution_count": 7,
   "metadata": {},
   "outputs": [
    {
     "name": "stdout",
     "output_type": "stream",
     "text": [
      "\n",
      "// Program\n",
      "\n",
      "  memri 1, $1, 123;                             //freq\n",
      "  memri 1, $2, 124;                             //phase\n",
      "  regwi 1, $3, 32000;                           //gain\n",
      "  regwi 1, $4, 10;                              //nsamp: generator will consume 16*nsamp DAC values.\n",
      "  regwi 1, $5, 4;                               //b00100 -> phrst = 0, stdysel = 0, mode = 1, outsel = 00\n",
      "  bitwi 1, $5, $5 << 16;\n",
      "  bitw 1, $4, $4 | $5;\n",
      "  regwi 1, $6, 0;                               //start time\n",
      "  synci 1000;\n",
      "  regwi 0, $1, 1;                               //Send a pulse on pmod 0_0 (pin 1 on J48 on the ZCU111).\n",
      "  seti 0, 0, $1, 0;                             //Start the pulse.\n",
      "  seti 0, 0, $0, 100;                           //End the pulse after 100 ticks (260 ns).\n",
      "  set 1, 1, $1, $2, $0, $3, $4, $6;\n",
      "  set 6, 1, $1, $2, $0, $3, $4, $6;\n",
      "  set 7, 1, $1, $2, $0, $3, $4, $6;\n",
      "  synci 1000;\n",
      "  regwi 0, $1, 49152;                           //Trigger both buffers.\n",
      "  seti 0, 0, $1, 0;                             //Start the pulse.\n",
      "  seti 0, 0, $0, 100;                           //End the pulse after 100 ticks (260 ns).\n",
      "  end ;\n",
      "freq_i = 100.000000 MHz, phi_i = (303.68, 198.18) deg, mag = (638.61, 635.73), RMS = (1.85, 1.83) ADU\n",
      "freq_i = 100.000249 MHz, phi_i = (283.19, 177.68) deg, mag = (638.68, 635.85), RMS = (1.83, 1.77) ADU\n",
      "freq_i = 100.000500 MHz, phi_i = (262.55, 157.05) deg, mag = (638.75, 635.56), RMS = (1.79, 1.83) ADU\n",
      "freq_i = 100.000750 MHz, phi_i = (241.94, 136.43) deg, mag = (638.52, 635.98), RMS = (1.93, 1.72) ADU\n",
      "freq_i = 100.001000 MHz, phi_i = (221.32, 115.81) deg, mag = (638.46, 635.80), RMS = (2.00, 2.00) ADU\n",
      "freq_i = 100.001249 MHz, phi_i = (200.81, 95.31) deg, mag = (638.66, 635.69), RMS = (1.88, 1.73) ADU\n",
      "freq_i = 100.001500 MHz, phi_i = (180.19, 74.68) deg, mag = (638.68, 635.89), RMS = (1.93, 1.77) ADU\n",
      "freq_i = 100.001750 MHz, phi_i = (159.57, 54.06) deg, mag = (638.71, 635.65), RMS = (1.96, 1.71) ADU\n",
      "freq_i = 100.002000 MHz, phi_i = (138.95, 33.44) deg, mag = (638.78, 635.66), RMS = (1.92, 1.83) ADU\n",
      "freq_i = 100.002251 MHz, phi_i = (118.32, 12.82) deg, mag = (638.74, 635.73), RMS = (1.88, 1.83) ADU\n",
      "freq_i = 100.002500 MHz, phi_i = (97.82, 352.33) deg, mag = (638.51, 635.61), RMS = (2.08, 1.76) ADU\n",
      "freq_i = 100.002750 MHz, phi_i = (77.21, 331.70) deg, mag = (638.44, 635.81), RMS = (2.03, 1.88) ADU\n",
      "freq_i = 100.003000 MHz, phi_i = (56.57, 311.07) deg, mag = (638.63, 635.90), RMS = (2.03, 1.74) ADU\n",
      "freq_i = 100.003251 MHz, phi_i = (35.97, 290.45) deg, mag = (638.61, 635.78), RMS = (1.91, 1.70) ADU\n",
      "freq_i = 100.003500 MHz, phi_i = (15.45, 269.95) deg, mag = (638.70, 635.62), RMS = (1.88, 1.77) ADU\n",
      "freq_i = 100.003750 MHz, phi_i = (354.84, 249.33) deg, mag = (638.78, 636.06), RMS = (1.84, 1.73) ADU\n",
      "freq_i = 100.004000 MHz, phi_i = (334.21, 228.71) deg, mag = (638.58, 635.66), RMS = (1.87, 1.79) ADU\n",
      "freq_i = 100.004251 MHz, phi_i = (313.59, 208.08) deg, mag = (638.65, 635.62), RMS = (1.95, 1.75) ADU\n",
      "freq_i = 100.004499 MHz, phi_i = (293.09, 187.58) deg, mag = (638.68, 635.84), RMS = (1.96, 1.81) ADU\n",
      "freq_i = 100.004750 MHz, phi_i = (272.46, 166.96) deg, mag = (638.69, 635.84), RMS = (1.87, 1.78) ADU\n",
      "freq_i = 100.005000 MHz, phi_i = (251.84, 146.33) deg, mag = (638.64, 635.80), RMS = (1.89, 1.89) ADU\n",
      "freq_i = 100.005250 MHz, phi_i = (231.23, 125.71) deg, mag = (638.67, 635.87), RMS = (1.91, 1.76) ADU\n",
      "freq_i = 100.005499 MHz, phi_i = (210.71, 105.21) deg, mag = (638.69, 635.78), RMS = (1.89, 1.86) ADU\n",
      "freq_i = 100.005750 MHz, phi_i = (190.11, 84.58) deg, mag = (638.63, 635.74), RMS = (1.94, 1.84) ADU\n",
      "freq_i = 100.006000 MHz, phi_i = (169.47, 63.97) deg, mag = (638.42, 635.72), RMS = (1.87, 1.77) ADU\n",
      "freq_i = 100.006250 MHz, phi_i = (148.87, 43.35) deg, mag = (638.71, 635.73), RMS = (1.98, 1.82) ADU\n",
      "freq_i = 100.006499 MHz, phi_i = (128.36, 22.84) deg, mag = (638.64, 635.75), RMS = (1.88, 1.78) ADU\n",
      "freq_i = 100.006750 MHz, phi_i = (107.73, 2.22) deg, mag = (638.65, 635.74), RMS = (1.84, 1.95) ADU\n",
      "freq_i = 100.007000 MHz, phi_i = (87.12, 341.61) deg, mag = (638.46, 635.93), RMS = (1.86, 1.76) ADU\n",
      "freq_i = 100.007250 MHz, phi_i = (66.50, 320.98) deg, mag = (638.75, 635.66), RMS = (1.81, 1.77) ADU\n",
      "freq_i = 100.007501 MHz, phi_i = (45.88, 300.36) deg, mag = (638.56, 635.61), RMS = (1.83, 1.71) ADU\n",
      "freq_i = 100.007750 MHz, phi_i = (25.38, 279.86) deg, mag = (638.60, 635.78), RMS = (1.79, 1.73) ADU\n",
      "freq_i = 100.008000 MHz, phi_i = (4.75, 259.23) deg, mag = (638.57, 635.61), RMS = (1.96, 1.81) ADU\n",
      "freq_i = 100.008250 MHz, phi_i = (344.13, 238.61) deg, mag = (638.80, 635.94), RMS = (1.93, 1.80) ADU\n",
      "freq_i = 100.008501 MHz, phi_i = (323.51, 217.99) deg, mag = (638.83, 635.90), RMS = (1.89, 1.81) ADU\n",
      "freq_i = 100.008749 MHz, phi_i = (303.01, 197.48) deg, mag = (638.92, 635.65), RMS = (2.00, 1.87) ADU\n",
      "freq_i = 100.009000 MHz, phi_i = (282.39, 176.87) deg, mag = (638.79, 635.80), RMS = (1.93, 1.77) ADU\n",
      "freq_i = 100.009250 MHz, phi_i = (261.77, 156.24) deg, mag = (638.73, 635.70), RMS = (1.88, 1.76) ADU\n",
      "freq_i = 100.009501 MHz, phi_i = (241.15, 135.62) deg, mag = (638.67, 635.90), RMS = (1.93, 1.83) ADU\n",
      "freq_i = 100.009749 MHz, phi_i = (220.64, 115.10) deg, mag = (638.97, 635.72), RMS = (1.92, 1.73) ADU\n"
     ]
    }
   ],
   "source": [
    "nsamp = 10\n",
    "\n",
    "prog = QickProgram()\n",
    "prog.memri(1,1,123,\"freq\")\n",
    "prog.memri(1,2,124,\"phase\")\n",
    "prog.regwi(1,3,32000,\"gain\")\n",
    "prog.regwi(1,4,nsamp,\"nsamp: generator will consume 16*nsamp DAC values.\")\n",
    "prog.regwi(1,5,0x4,\"b00100 -> phrst = 0, stdysel = 0, mode = 1, outsel = 00\")\n",
    "prog.bitwi(1,5,5,\"<<\",16)\n",
    "prog.bitw(1,4,4,\"|\",5)\n",
    "prog.regwi(1,6,0,\"start time\")\n",
    "prog.synci(1000)\n",
    "prog.comment(\"Set trigger.\")\n",
    "prog.regwi(0,1,0x1,\"Send a pulse on pmod 0_0 (pin 1 on J48 on the ZCU111).\")\n",
    "prog.seti(0,0,1,0,\"Start the pulse.\")\n",
    "prog.seti(0,0,0,100,\"End the pulse after 100 ticks (260 ns).\")\n",
    "\n",
    "prog.comment(\"Program signal generators in periodic mode.\") #TODO: make comments sppear in the printout?\n",
    "prog.comment(\"Channels 4, 5, 6, 7 -> DAC 229 CH0/1/2/3.\")\n",
    "for ch in out_chs:\n",
    "    prog.set(ch,1,1,2,0,3,4,6)\n",
    "prog.synci(1000)\n",
    "prog.comment(\"Set trigger.\")\n",
    "prog.regwi(0,1,0xc000,\"Trigger both buffers.\")\n",
    "prog.seti(0,0,1,0,\"Start the pulse.\")\n",
    "prog.seti(0,0,0,100,\"End the pulse after 100 ticks (260 ns).\")\n",
    "prog.end()\n",
    "\n",
    "print(prog)\n",
    "\n",
    "# soc.load_qick_program(prog)\n",
    "soc.tproc.load_bin_program(prog.compile())\n",
    "\n",
    "\n",
    "# Constant, real envelope.\n",
    "# The length must be at least 16 times the nsamp parameter passed to the signal generators.\n",
    "xg_i = 30000*np.ones(16*nsamp)\n",
    "xg_q = np.zeros(len(xg_i))\n",
    "\n",
    "# Upload waveform.\n",
    "for ch in out_chs:\n",
    "#     soc.gens[gen].load(addr=0,xin_i=xg_i, xin_q=xg_q)\n",
    "    soc.load_pulse_data(ch=ch,idata=xg_i, qdata=xg_q,addr=0)\n",
    "\n",
    "# Output phase.\n",
    "fi0 = 0\n",
    "\n",
    "fi_v = np.zeros((2,len(f0_v)))\n",
    "\n",
    "# Load program.\n",
    "# soc.tproc.load_program(\"01_phase_calibration.asm\")\n",
    "for ii, f0 in enumerate(f0_v):\n",
    "    measure_phase_decimated(soc, f0, fi0, fi_v[:,ii])\n",
    "\n",
    "reset_gens(soc)"
   ]
  },
  {
   "cell_type": "markdown",
   "metadata": {},
   "source": [
    "### AveragerProgram\n",
    "Instead of writing your acquisition code from scratch every time, it is usually easier to use AveragerProgram, which combines the QickProgram functionality with a set of built-in acquisition methods. AveragerProgram can also use the tProc to run the acquisition in a loop, which is much faster."
   ]
  },
  {
   "cell_type": "code",
   "execution_count": 8,
   "metadata": {},
   "outputs": [],
   "source": [
    "class SingleFreqProgram(AveragerProgram):\n",
    "    def __init__(self,cfg):\n",
    "        super().__init__(cfg)\n",
    "\n",
    "    def initialize(self):\n",
    "        cfg=self.cfg   \n",
    "#         r_freq=self.sreg(0, \"freq\")   #Get frequency register for res_ch\n",
    "        self.cfg[\"adc_lengths\"]=[self.cfg[\"readout_length\"]]*2          #add length of adc acquisition to config\n",
    "        self.cfg[\"adc_freqs\"]=[self.cfg[\"pulse_freq\"]]*2   #add frequency of adc ddc to config\n",
    "        idata = 30000*np.ones(16*cfg[\"length\"])\n",
    "\n",
    "        for ch in self.cfg['out_ch']:\n",
    "            self.add_pulse(ch=ch, name=\"measure\", style='arb', idata = idata)\n",
    "        \n",
    "        freq=soc.freq2reg(cfg[\"pulse_freq\"])  # convert frequency to dac frequency (ensuring it is an available adc frequency)\n",
    "        self.marker(t=0,t1=1) # send a pulse on pmod0_0, for scope trigger\n",
    "        for ch in self.cfg['out_ch']:\n",
    "            self.pulse(ch=ch, name=\"measure\", freq=freq, phase=cfg[\"res_phase\"], gain=cfg[\"pulse_gain\"], t=0, play=False) # pre-configure readout pulse\n",
    "\n",
    "        self.synci(200)  # give processor some time to configure pulses\n",
    "    \n",
    "    def body(self):\n",
    "        self.safe_regwi(0,0,0,\"test\")\n",
    "        self.trigger_adc(adc1=1, adc2=1,adc_trig_offset=self.cfg[\"adc_trig_offset\"])  # trigger the adc acquisition\n",
    "        for ch in self.cfg['out_ch']:\n",
    "            self.pulse(ch=ch, name=\"measure\", play=True,mode=1) # play readout pulse\n",
    "        self.synci(2000)  # wait for measurement to complete\n",
    "        self.waiti(3,0)\n",
    "#         self.sync_all(us2cycles(self.cfg[\"relax_delay\"]))  # sync all channels\n",
    "\n",
    "config={\"out_ch\":out_chs,\n",
    "        \"reps\":1, # --Fixed\n",
    "        \"res_phase\":deg2reg(0), # --Fixed\n",
    "        \n",
    "        \"length\":10, # [Clock ticks]\n",
    "        # Try varying length from 10-100 clock ticks\n",
    "        \n",
    "        \"readout_length\":1000, # [Clock ticks]\n",
    "        # Try varying readout_length from 50-1000 clock ticks\n",
    "\n",
    "        \"pulse_gain\":32000, # [DAC units]\n",
    "        # Try varying pulse_gain from 500 to 30000 DAC units\n",
    "\n",
    "        \"pulse_freq\": 100, # [MHz]\n",
    "        # In this program the signal is up and downconverted digitally so you won't see any frequency\n",
    "        # components in the I/Q traces below. But since the signal gain depends on frequency, \n",
    "        # if you lower pulse_freq you will see an increased gain.\n",
    "\n",
    "        \"adc_trig_offset\": 1000, # [Clock ticks]\n",
    "        # Try varying adc_trig_offset from 100 to 220 clock ticks\n",
    "\n",
    "        \"soft_avgs\":1\n",
    "        # Try varying soft_avgs from 1 to 200 averages\n",
    "\n",
    "       }"
   ]
  },
  {
   "cell_type": "markdown",
   "metadata": {},
   "source": [
    "### Decimated readout\n",
    "First, let's run the AveragerProgram in the same mode that we were using before: decimated readout, where we save the full waveform. If you increase the value of `soft_avgs`, the AveragerProgram will average multiple waveforms before giving you the results, so the measurement will take longer (past 10, the readout time is noticeable) but the RMS of the waveform will decrease."
   ]
  },
  {
   "cell_type": "code",
   "execution_count": 9,
   "metadata": {},
   "outputs": [
    {
     "name": "stdout",
     "output_type": "stream",
     "text": [
      "freq_i = 100.000000 MHz, phi_i = (303.69, 198.18) deg, mag = (638.79, 635.97), RMS = (2.20, 1.91) ADU\n",
      "freq_i = 100.000249 MHz, phi_i = (283.19, 177.68) deg, mag = (638.64, 635.87), RMS = (1.98, 1.77) ADU\n",
      "freq_i = 100.000500 MHz, phi_i = (262.57, 157.06) deg, mag = (638.55, 635.54), RMS = (1.88, 1.73) ADU\n",
      "freq_i = 100.000750 MHz, phi_i = (241.96, 136.44) deg, mag = (638.50, 635.61), RMS = (1.84, 1.71) ADU\n",
      "freq_i = 100.001000 MHz, phi_i = (221.34, 115.81) deg, mag = (638.67, 635.77), RMS = (1.89, 1.79) ADU\n",
      "freq_i = 100.001249 MHz, phi_i = (200.82, 95.30) deg, mag = (638.44, 635.69), RMS = (1.81, 1.82) ADU\n",
      "freq_i = 100.001500 MHz, phi_i = (180.21, 74.69) deg, mag = (638.84, 635.54), RMS = (1.95, 1.86) ADU\n",
      "freq_i = 100.001750 MHz, phi_i = (159.57, 54.07) deg, mag = (638.89, 635.82), RMS = (1.94, 1.82) ADU\n",
      "freq_i = 100.002000 MHz, phi_i = (138.95, 33.44) deg, mag = (638.74, 635.88), RMS = (1.78, 1.79) ADU\n",
      "freq_i = 100.002251 MHz, phi_i = (118.34, 12.82) deg, mag = (638.85, 636.06), RMS = (1.86, 1.74) ADU\n",
      "freq_i = 100.002500 MHz, phi_i = (97.83, 352.31) deg, mag = (638.89, 635.76), RMS = (2.00, 1.95) ADU\n",
      "freq_i = 100.002750 MHz, phi_i = (77.22, 331.70) deg, mag = (638.90, 635.75), RMS = (1.83, 1.71) ADU\n",
      "freq_i = 100.003000 MHz, phi_i = (56.60, 311.07) deg, mag = (638.77, 635.78), RMS = (1.90, 1.74) ADU\n",
      "freq_i = 100.003251 MHz, phi_i = (35.97, 290.44) deg, mag = (638.91, 635.64), RMS = (1.94, 1.80) ADU\n",
      "freq_i = 100.003500 MHz, phi_i = (15.47, 269.95) deg, mag = (638.55, 635.29), RMS = (1.96, 1.74) ADU\n",
      "freq_i = 100.003750 MHz, phi_i = (354.85, 249.33) deg, mag = (638.79, 635.67), RMS = (1.85, 1.81) ADU\n",
      "freq_i = 100.004000 MHz, phi_i = (334.24, 228.71) deg, mag = (638.69, 635.44), RMS = (2.29, 1.81) ADU\n",
      "freq_i = 100.004251 MHz, phi_i = (313.61, 208.09) deg, mag = (638.93, 635.73), RMS = (1.98, 1.83) ADU\n",
      "freq_i = 100.004499 MHz, phi_i = (293.10, 187.58) deg, mag = (638.52, 635.55), RMS = (1.92, 1.67) ADU\n",
      "freq_i = 100.004750 MHz, phi_i = (272.47, 166.95) deg, mag = (638.86, 635.61), RMS = (1.81, 1.75) ADU\n",
      "freq_i = 100.005000 MHz, phi_i = (251.86, 146.33) deg, mag = (638.68, 635.62), RMS = (1.94, 1.71) ADU\n",
      "freq_i = 100.005250 MHz, phi_i = (231.23, 125.71) deg, mag = (638.61, 635.73), RMS = (2.02, 1.72) ADU\n",
      "freq_i = 100.005499 MHz, phi_i = (210.73, 105.21) deg, mag = (638.41, 635.70), RMS = (1.78, 1.73) ADU\n",
      "freq_i = 100.005750 MHz, phi_i = (190.12, 84.59) deg, mag = (638.65, 635.79), RMS = (1.83, 1.83) ADU\n",
      "freq_i = 100.006000 MHz, phi_i = (169.49, 63.98) deg, mag = (638.55, 635.48), RMS = (1.87, 1.77) ADU\n",
      "freq_i = 100.006250 MHz, phi_i = (148.87, 43.35) deg, mag = (638.57, 635.76), RMS = (1.83, 1.75) ADU\n",
      "freq_i = 100.006499 MHz, phi_i = (128.36, 22.84) deg, mag = (638.58, 635.65), RMS = (1.83, 1.72) ADU\n",
      "freq_i = 100.006750 MHz, phi_i = (107.75, 2.23) deg, mag = (638.68, 635.79), RMS = (1.89, 1.90) ADU\n",
      "freq_i = 100.007000 MHz, phi_i = (87.13, 341.60) deg, mag = (638.67, 635.46), RMS = (1.94, 1.76) ADU\n",
      "freq_i = 100.007250 MHz, phi_i = (66.51, 320.97) deg, mag = (638.61, 635.67), RMS = (1.82, 1.73) ADU\n",
      "freq_i = 100.007501 MHz, phi_i = (45.89, 300.35) deg, mag = (638.82, 635.67), RMS = (1.79, 1.68) ADU\n",
      "freq_i = 100.007750 MHz, phi_i = (25.38, 279.86) deg, mag = (638.59, 635.80), RMS = (1.93, 1.78) ADU\n",
      "freq_i = 100.008000 MHz, phi_i = (4.76, 259.23) deg, mag = (638.45, 635.60), RMS = (1.86, 1.85) ADU\n",
      "freq_i = 100.008250 MHz, phi_i = (344.14, 238.61) deg, mag = (638.42, 635.91), RMS = (1.91, 1.75) ADU\n",
      "freq_i = 100.008501 MHz, phi_i = (323.51, 217.98) deg, mag = (638.64, 635.81), RMS = (1.83, 1.83) ADU\n",
      "freq_i = 100.008749 MHz, phi_i = (303.01, 197.48) deg, mag = (638.41, 635.51), RMS = (1.89, 1.71) ADU\n",
      "freq_i = 100.009000 MHz, phi_i = (282.41, 176.87) deg, mag = (638.75, 636.05), RMS = (1.88, 1.93) ADU\n",
      "freq_i = 100.009250 MHz, phi_i = (261.77, 156.25) deg, mag = (638.87, 636.21), RMS = (1.93, 1.76) ADU\n",
      "freq_i = 100.009501 MHz, phi_i = (241.15, 135.61) deg, mag = (638.60, 635.87), RMS = (1.91, 1.74) ADU\n",
      "freq_i = 100.009749 MHz, phi_i = (220.64, 115.12) deg, mag = (638.77, 635.77), RMS = (1.96, 1.81) ADU\n"
     ]
    }
   ],
   "source": [
    "res=[]\n",
    "config['reps'] = 1\n",
    "\n",
    "# change this from 1 to 50\n",
    "config['soft_avgs'] = 1\n",
    "\n",
    "# for f0 in [101]:\n",
    "for f0 in f0_v:\n",
    "    config['pulse_freq'] = f0\n",
    "    prog =SingleFreqProgram(config)\n",
    "#     print(prog)\n",
    "    data = prog.acquire_decimated(soc, load_pulses=True, progress=False, debug=False)\n",
    "#     print(data)\n",
    "    res.append([calculate_phase(d) for d in data])\n",
    "    print_results(res[-1])\n",
    "fi_v=np.array([[a[0] for a in r] for r in res]).T\n",
    "\n",
    "# print(prog)"
   ]
  },
  {
   "cell_type": "markdown",
   "metadata": {},
   "source": [
    "### Accumulated readout\n",
    "Since the demodulated waveform is constant over the acquisition window, we don't really need to save the full waveform. In other words, we should use the QICK's accumulating buffer (which sums the values in the window) instead of the decimated buffer.\n",
    "\n",
    "Since we now get one number per acquisition, the RMS is now calculated over acquisitions, not over waveform samples.\n",
    "\n",
    "You should see that a \"repetition\" takes much less time than a \"soft average.\" Normally, decimated readout is only used for finding the correct window to accumulate over, or for debugging."
   ]
  },
  {
   "cell_type": "code",
   "execution_count": 10,
   "metadata": {},
   "outputs": [
    {
     "name": "stdout",
     "output_type": "stream",
     "text": [
      "freq_i = 100.000000 MHz, phi_i = (303.71, 198.18) deg, mag = (638.77, 635.96), RMS = (0.13, 0.14) ADU\n",
      "freq_i = 100.000249 MHz, phi_i = (283.20, 177.68) deg, mag = (638.51, 635.81), RMS = (0.14, 0.14) ADU\n",
      "freq_i = 100.000500 MHz, phi_i = (262.58, 157.06) deg, mag = (638.58, 635.62), RMS = (0.14, 0.14) ADU\n",
      "freq_i = 100.000750 MHz, phi_i = (241.96, 136.44) deg, mag = (638.61, 635.67), RMS = (0.14, 0.14) ADU\n",
      "freq_i = 100.001000 MHz, phi_i = (221.34, 115.82) deg, mag = (638.58, 635.62), RMS = (0.13, 0.13) ADU\n",
      "freq_i = 100.001249 MHz, phi_i = (200.84, 95.31) deg, mag = (638.75, 635.87), RMS = (0.14, 0.13) ADU\n",
      "freq_i = 100.001500 MHz, phi_i = (180.21, 74.69) deg, mag = (638.60, 635.76), RMS = (0.14, 0.14) ADU\n",
      "freq_i = 100.001750 MHz, phi_i = (159.59, 54.07) deg, mag = (638.43, 635.57), RMS = (0.14, 0.14) ADU\n",
      "freq_i = 100.002000 MHz, phi_i = (138.97, 33.45) deg, mag = (638.65, 635.78), RMS = (0.12, 0.13) ADU\n",
      "freq_i = 100.002251 MHz, phi_i = (118.35, 12.83) deg, mag = (638.78, 635.91), RMS = (0.14, 0.14) ADU\n",
      "freq_i = 100.002500 MHz, phi_i = (97.85, 352.32) deg, mag = (638.81, 635.98), RMS = (0.14, 0.13) ADU\n",
      "freq_i = 100.002750 MHz, phi_i = (77.23, 331.70) deg, mag = (638.71, 635.79), RMS = (0.12, 0.12) ADU\n",
      "freq_i = 100.003000 MHz, phi_i = (56.60, 311.08) deg, mag = (638.85, 635.74), RMS = (0.13, 0.14) ADU\n",
      "freq_i = 100.003251 MHz, phi_i = (35.98, 290.46) deg, mag = (638.82, 635.84), RMS = (0.14, 0.13) ADU\n",
      "freq_i = 100.003500 MHz, phi_i = (15.48, 269.95) deg, mag = (638.67, 635.79), RMS = (0.15, 0.13) ADU\n",
      "freq_i = 100.003750 MHz, phi_i = (354.86, 249.33) deg, mag = (638.79, 635.88), RMS = (0.13, 0.12) ADU\n",
      "freq_i = 100.004000 MHz, phi_i = (334.23, 228.71) deg, mag = (638.83, 635.93), RMS = (0.14, 0.15) ADU\n",
      "freq_i = 100.004251 MHz, phi_i = (313.62, 208.09) deg, mag = (638.82, 635.90), RMS = (0.13, 0.14) ADU\n",
      "freq_i = 100.004499 MHz, phi_i = (293.11, 187.59) deg, mag = (638.74, 635.93), RMS = (0.13, 0.13) ADU\n",
      "freq_i = 100.004750 MHz, phi_i = (272.49, 166.96) deg, mag = (638.83, 635.92), RMS = (0.14, 0.14) ADU\n",
      "freq_i = 100.005000 MHz, phi_i = (251.87, 146.34) deg, mag = (638.86, 635.99), RMS = (0.13, 0.14) ADU\n",
      "freq_i = 100.005250 MHz, phi_i = (231.25, 125.72) deg, mag = (638.78, 635.89), RMS = (0.13, 0.14) ADU\n",
      "freq_i = 100.005499 MHz, phi_i = (210.74, 105.22) deg, mag = (638.63, 635.90), RMS = (0.13, 0.15) ADU\n",
      "freq_i = 100.005750 MHz, phi_i = (190.12, 84.60) deg, mag = (638.72, 635.82), RMS = (0.15, 0.13) ADU\n",
      "freq_i = 100.006000 MHz, phi_i = (169.50, 63.97) deg, mag = (638.85, 635.85), RMS = (0.12, 0.13) ADU\n",
      "freq_i = 100.006250 MHz, phi_i = (148.88, 43.35) deg, mag = (638.81, 635.90), RMS = (0.13, 0.13) ADU\n",
      "freq_i = 100.006499 MHz, phi_i = (128.38, 22.85) deg, mag = (638.76, 635.80), RMS = (0.13, 0.14) ADU\n",
      "freq_i = 100.006750 MHz, phi_i = (107.76, 2.23) deg, mag = (638.76, 635.94), RMS = (0.13, 0.14) ADU\n",
      "freq_i = 100.007000 MHz, phi_i = (87.13, 341.61) deg, mag = (638.69, 635.77), RMS = (0.14, 0.14) ADU\n",
      "freq_i = 100.007250 MHz, phi_i = (66.51, 320.98) deg, mag = (638.65, 635.79), RMS = (0.13, 0.13) ADU\n",
      "freq_i = 100.007501 MHz, phi_i = (45.89, 300.36) deg, mag = (638.81, 635.77), RMS = (0.12, 0.14) ADU\n",
      "freq_i = 100.007750 MHz, phi_i = (25.38, 279.86) deg, mag = (638.75, 635.94), RMS = (0.13, 0.14) ADU\n",
      "freq_i = 100.008000 MHz, phi_i = (4.76, 259.24) deg, mag = (638.59, 635.87), RMS = (0.14, 0.16) ADU\n",
      "freq_i = 100.008250 MHz, phi_i = (344.14, 238.62) deg, mag = (638.67, 635.87), RMS = (0.14, 0.14) ADU\n",
      "freq_i = 100.008501 MHz, phi_i = (323.52, 217.99) deg, mag = (638.80, 635.92), RMS = (0.13, 0.13) ADU\n",
      "freq_i = 100.008749 MHz, phi_i = (303.02, 197.49) deg, mag = (638.69, 635.78), RMS = (0.14, 0.13) ADU\n",
      "freq_i = 100.009000 MHz, phi_i = (282.40, 176.87) deg, mag = (638.88, 635.96), RMS = (0.14, 0.14) ADU\n",
      "freq_i = 100.009250 MHz, phi_i = (261.77, 156.25) deg, mag = (638.61, 635.88), RMS = (0.13, 0.14) ADU\n",
      "freq_i = 100.009501 MHz, phi_i = (241.15, 135.62) deg, mag = (638.68, 635.91), RMS = (0.13, 0.13) ADU\n",
      "freq_i = 100.009749 MHz, phi_i = (220.65, 115.12) deg, mag = (638.77, 635.94), RMS = (0.13, 0.14) ADU\n"
     ]
    }
   ],
   "source": [
    "# change this from 10 to 1000\n",
    "config['reps'] = 1000\n",
    "\n",
    "config['soft_avgs'] = 1\n",
    "res=[]\n",
    "for f0 in f0_v:\n",
    "    config['pulse_freq'] = f0\n",
    "    prog =SingleFreqProgram(config)\n",
    "    avg_data = prog.acquire(soc, load_pulses=True, progress=False, debug=False)\n",
    "    data = [[prog.di_buf[i]/config['readout_length'], prog.dq_buf[i]/config['readout_length']] for i in range(2)]\n",
    "    res.append([calculate_phase(d) for d in data])\n",
    "    print_results(res[-1])\n",
    "fi_v=np.array([[a[0] for a in r] for r in res]).T\n",
    "reset_gens(soc)\n"
   ]
  },
  {
   "cell_type": "markdown",
   "metadata": {},
   "source": [
    "### Summary, and RAveragerProgram\n",
    "This mode (AveragerProgram with accumulated readout) is one of the typical ways that we run the QICK.\n",
    "\n",
    "The other uses RAveragerProgram, which has a tProc program with two nested loops: an inner loop for repetitions (just like AveragerProgram) and an outer loop for sweeping a parameter. Because Python can no longer be the bottleneck limiting the measurement speed, this is often much faster.\n",
    "\n",
    "However, RAveragerProgram cannot be used for this particular measurement because we need to sweep the frequency of both the DAC and the ADC simultaneously - the Proc can control the DAC frequency, but not the ADC frequency. "
   ]
  },
  {
   "cell_type": "markdown",
   "metadata": {},
   "source": [
    "### Analysis\n",
    "Now we can plot the phase as a function of frequency.\n",
    "\n",
    "As explained at the beginning, this data can be represented as the sum of a phase offset and a time delay. Over a small frequency range, this looks like a linear dependence on frequency."
   ]
  },
  {
   "cell_type": "code",
   "execution_count": 11,
   "metadata": {},
   "outputs": [
    {
     "data": {
      "image/png": "[encoded data removed]",
      "text/plain": [
       "<matplotlib.figure.Figure at 0x7f818ae240>"
      ]
     },
     "metadata": {},
     "output_type": "display_data"
    }
   ],
   "source": [
    "# Plot results.\n",
    "# plt.figure(2)\n",
    "fig, axs = plt.subplots(2,1)\n",
    "\n",
    "for ch in range(2):\n",
    "    plot = axs[ch]\n",
    "    plot.plot(f0_v,fi_v[ch])\n",
    "    plot.plot(f0_v,fi_v[ch], marker='.', linestyle=\"None\",color=\"Red\")\n",
    "    plot.set_title(r\"$\\phi$ vs $f$\")\n",
    "    plot.set_ylabel(r\"$\\phi$ (degrees)\")\n",
    "    plot.set_xlabel(r\"$f$ (MHz)\")\n",
    "\n",
    "fig.savefig(\"images/Phase_calibration.pdf\", dpi=350)"
   ]
  },
  {
   "cell_type": "markdown",
   "metadata": {},
   "source": [
    "For example, if your cavity tone was generated with an IF of 420.9 MHz, you would look at the above table and see that <code> freq_i </code> = 420.9 MHz corresponds to <code> phi_i </code> = 308.7 degrees (that's specific to this board session, for your QICK it will be different). That value of <code> phi_i </code> will be used as the value of the <code> config </code> file parameter associated with the offset phase of the cavity pulse (the parameter is called <code> res_phase </code> in the demo 00_Send_recieve_pulse)."
   ]
  },
  {
   "cell_type": "markdown",
   "metadata": {},
   "source": [
    "We can try a fit, though the minimization algorithms do not behave very well with the very strongly correlated parameters:"
   ]
  },
  {
   "cell_type": "code",
   "execution_count": 12,
   "metadata": {},
   "outputs": [
    {
     "name": "stdout",
     "output_type": "stream",
     "text": [
      "initial estimate: 79.95 deg shift, 228.81 us delay\n",
      "after minimization: 323.08 deg shift, 251.41 us delay\n",
      "initial estimate: 293.30 deg shift, 228.81 us delay\n",
      "after minimization: 203.44 deg shift, 251.41 us delay\n"
     ]
    },
    {
     "data": {
      "image/png": "[encoded data removed]",
      "text/plain": [
       "<matplotlib.figure.Figure at 0x7f8063ad68>"
      ]
     },
     "metadata": {},
     "output_type": "display_data"
    }
   ],
   "source": [
    "def phase_residuals(data,prediction):\n",
    "    r = np.remainder(data-prediction+180,360)-180\n",
    "    return r\n",
    "    \n",
    "def phase_model(x, f0):\n",
    "    return np.remainder(x[0] - 360*x[1]*(f0), 360)\n",
    "\n",
    "def phase_func(x, *args):\n",
    "    return phase_residuals(args[0], phase_model(x, f0_v))\n",
    "\n",
    "from scipy.optimize import least_squares\n",
    "\n",
    "fig, axs = plt.subplots(2,2)\n",
    "for ch in range(2):\n",
    "\n",
    "    slopes = -1*(fi_v[ch,1:]-fi_v[ch,:-1])/(360*(f0_v[1:]-f0_v[:-1]))\n",
    "#     print(slopes)\n",
    "    x0 = [0.0,0.0]\n",
    "    x0[1] = np.median(slopes)\n",
    "    x0[0] = np.remainder(np.median(phase_residuals(fi_v[ch],phase_model(x0, f0_v))),360)\n",
    "    print(\"initial estimate: %.2f deg shift, %.2f us delay\"% tuple(x0))\n",
    "\n",
    "    fit = least_squares(phase_func, x0, args=(fi_v[ch]))\n",
    "#     fit = least_squares(phase_func, x0, args=(fi_v[ch]), method='lm', x_scale='jac')\n",
    "#     fit = least_squares(phase_func, x0, args=(fi_v[ch]), method='lm', x_scale=(1,1e-5))\n",
    "    fit.x[0] = np.remainder(fit.x[0],360)\n",
    "#     print(fit.status)\n",
    "    print(\"after minimization: %.2f deg shift, %.2f us delay\"% tuple(fit.x))\n",
    "\n",
    "\n",
    "    plot = axs[0,ch]\n",
    "    plot.set_title(r\"$\\phi$ vs $f$\")\n",
    "    plot.set_ylabel(r\"$\\phi$ (degrees)\")\n",
    "    plot.set_xlabel(r\"$f$ (MHz)\")\n",
    "    plot.plot(f0_v,fi_v[ch], marker='.', linestyle=\"None\",color=\"Red\")\n",
    "    plot.plot(f0_v, phase_model(fit.x, f0_v))\n",
    "\n",
    "    plot = axs[1,ch]\n",
    "    plot.set_ylabel(r\"residual (degrees)\")\n",
    "    plot.set_xlabel(r\"$f$ (MHz)\")\n",
    "    plot.plot(f0_v, phase_func(fit.x, (fi_v[ch])), marker='.', linestyle=\"None\",color=\"Red\")\n",
    "#     plot.plot(f0_v, phase_func(x0, (fi_v[ch])), marker='.', linestyle=\"None\",color=\"Red\")\n"
   ]
  },
  {
   "cell_type": "code",
   "execution_count": 13,
   "metadata": {},
   "outputs": [],
   "source": [
    "# \"product\" (0) and \"dds\" (1) work as advertised; \"input\" (2) seems identical to \"product\" and 3 to \"dds\"\n",
    "#     soc.readouts[0].outsel_reg = 0\n",
    "\n",
    "#nsamp=1 or 2 fails in a strange way: \n",
    "#the signal generator plays the entire waveform memory repeatedly for 10-20 seconds\n",
    "#during this time, new \"set\" commands don't work\n",
    "\n",
    "\n",
    "# is there ever a reason not to enable both avg and buf?\n",
    "#         soc.avg_bufs[ch].config_buf(address=0, length=readout_length)\n",
    "#         soc.avg_bufs[ch].enable_buf()\n",
    "#         soc.avg_bufs[ch].disable_avg()\n",
    "\n",
    "\n",
    "\n",
    "#         print(soc.get_accumulated(ch=ch, length=1).T/readout_length, xavg)\n"
   ]
  }
 ],
 "metadata": {
  "kernelspec": {
   "display_name": "Python 3",
   "language": "python",
   "name": "python3"
  },
  "language_info": {
   "codemirror_mode": {
    "name": "ipython",
    "version": 3
   },
   "file_extension": ".py",
   "mimetype": "text/x-python",
   "name": "python",
   "nbconvert_exporter": "python",
   "pygments_lexer": "ipython3",
   "version": "3.6.5"
  }
 },
 "nbformat": 4,
 "nbformat_minor": 4
}
