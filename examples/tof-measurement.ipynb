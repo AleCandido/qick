{
 "cells": [
  {
   "cell_type": "code",
   "execution_count": null,
   "metadata": {},
   "outputs": [],
   "source": [
    "import matplotlib.pyplot as plt\n",
    "\n",
    "from pynq import Overlay\n",
    "import numpy as np\n",
    "\n",
    "from qsystem_2 import *\n",
    "from qsystem2_asm import *"
   ]
  },
  {
   "cell_type": "code",
   "execution_count": null,
   "metadata": {},
   "outputs": [],
   "source": [
    "outputChannel = 7\n",
    "inputChannel = 0\n",
    "\n",
    "soc = PfbSoc('qsystem_2.bit', force_init_clks=False)"
   ]
  },
  {
   "cell_type": "code",
   "execution_count": null,
   "metadata": {},
   "outputs": [],
   "source": [
    "with ASM_Program() as p:\n",
    "\t#Write all memory addresses to program memory\n",
    "\tp.memri(0,2,2,\"Encoded Frequency\")\n",
    "\tp.memri(0,4,4,\"Address\")\n",
    "\tp.memri(0,5,5,\"Gain\")\n",
    "\tp.memri(0,6,6,\"nsamp\")\n",
    "\tp.memri(0,13,11,\"tOffset\")\n",
    "\tp.math(0,1,6,\"+\",13) #Add the pulse duration + the trigger offset to the device. \n",
    "\t#Set up nsamp and DAC selection register.\n",
    "\t# For envelope, set outsel=00\n",
    "\tp.regwi(0,8,0b1000,\"0b1000, stdysel = 1 (zero value), mode = 0 (nsamp), outsel = 00 (envelope).\")\n",
    "\tp.bitwi(0,8,8, \"<<\", 16)\n",
    "\tp.bitw(0,6,6,\"|\",8)\n",
    "\tp.regwi(0,9,0xC001,\"Trigger pmod0 bit0 and input channels 0 and 1\") \n",
    "\t#Delay the start a bit\n",
    "\tp.synci(1000)\n",
    "\t#Trigger value for the average block. \n",
    "\tp.set(0,0,9,9,9,9,9,13)#Start the trigger at the offset value\n",
    "\tp.set(outputChannel,0,2,0,4,5,6,0)\n",
    "\tp.sync(0,1)\n",
    "\t#End the trigger signal\n",
    "\tp.seti(0,0,0,0)\n",
    "\tsoc.tproc.load_asm_program(p)"
   ]
  },
  {
   "cell_type": "code",
   "execution_count": null,
   "metadata": {},
   "outputs": [],
   "source": [
    "#Returns the time of flight for a pulse sent and received by the RF SoC device. All values sent and received are in clocks unless otherwise specified. \n",
    "\n",
    "def measureTOF(\n",
    "        frequency = 500, \n",
    "        gain = 32767, \n",
    "        address = 0, \n",
    "        nsamp = 100, \n",
    "        tOffset = 0):\n",
    "\n",
    "        #Write requsite values to the memory of the tproc\n",
    "        freqRegDAC = freq2reg(soc.fs_dac, frequency, B=32)\n",
    "        soc.tproc.single_write(addr=2, data = freqRegDAC)\n",
    "        soc.tproc.single_write(addr=4, data = address)\n",
    "        soc.tproc.single_write(addr=5, data = gain)\n",
    "        soc.tproc.single_write(addr=6, data = nsamp)\n",
    "        soc.tproc.single_write(addr=11, data = tOffset)\n",
    "\n",
    "        # For envelope, upload envelope\n",
    "        xg_i = gauss(mu=16*nsamp/2, si=nsamp, length=16*nsamp, maxv=30000)\n",
    "        xg_q = np.zeros(len(xg_i))\n",
    "        soc.gens[outputChannel-1].load(addr=address, xin_i=xg_i, xin_q=xg_q)\n",
    "\n",
    "        #Set up the readout channel\n",
    "        soc.readouts[inputChannel].set_out(\"product\")\n",
    "        soc.readouts[inputChannel].set_freq(frequency)\n",
    "        decimatedLength = 1000\n",
    "        soc.avg_bufs[inputChannel].config(address=0, length=1000)\n",
    "        soc.avg_bufs[inputChannel].enable()\n",
    "\n",
    "        #Restart the tproc\n",
    "        soc.tproc.stop()\n",
    "        soc.tproc.start()\n",
    "\n",
    "        #Get the results of the run\n",
    "        idec,qdec = soc.get_decimated(inputChannel, length = decimatedLength)\n",
    "        \n",
    "        amps = np.abs(idec + 1j*qdec)\n",
    "        times = np.linspace(tOffset, tOffset+999, 1000)\n",
    "        \n",
    "        #Plot the amplitudes with the best guess line\n",
    "        bestLine = np.where(amps == np.amax(amps))[0][0]\n",
    "        bestLine = bestLine + tOffset\n",
    "        \n",
    "        fig = plt.figure()\n",
    "        fig.set_figwidth(10)\n",
    "        plt.plot(times, amps)\n",
    "        plt.axvline(bestLine, ls=\"--\", color=\"red\", alpha=0.5, label=\"Detected Peak\")\n",
    "        \n",
    "        tof = bestLine - (nsamp / 2) #Calculate where the pulse actually began\n",
    "        \n",
    "        plt.axvline(tof, ls=\"--\", color=\"green\", alpha = 0.5, label=\"Pulse Start\")\n",
    "        tofLabel = \"Time of Flight: \" + str(tof) + \" clocks or \" + str(tof * 2.6) + \" ns\"\n",
    "        plt.axvspan(tOffset, tof, color=\"lightslategrey\", alpha=0.2, label=tofLabel)\n",
    "        plt.legend()\n",
    "        plt.title(\"Time of Flight Test Readout\")\n",
    "        plt.show()\n",
    "        \n",
    "\n",
    "        #Return\n",
    "        return tof\n",
    "\n",
    "tof = measureTOF(tOffset = 0)\n",
    "print(\"Time of flight: \" + str(tof) + \" clocks or \" + str(tof * 2.6) + \" ns\")"
   ]
  },
  {
   "cell_type": "code",
   "execution_count": null,
   "metadata": {},
   "outputs": [],
   "source": []
  },
  {
   "cell_type": "code",
   "execution_count": null,
   "metadata": {},
   "outputs": [],
   "source": []
  }
 ],
 "metadata": {
  "kernelspec": {
   "display_name": "Python 3",
   "language": "python",
   "name": "python3"
  },
  "language_info": {
   "codemirror_mode": {
    "name": "ipython",
    "version": 3
   },
   "file_extension": ".py",
   "mimetype": "text/x-python",
   "name": "python",
   "nbconvert_exporter": "python",
   "pygments_lexer": "ipython3",
   "version": "3.6.5"
  }
 },
 "nbformat": 4,
 "nbformat_minor": 4
}
