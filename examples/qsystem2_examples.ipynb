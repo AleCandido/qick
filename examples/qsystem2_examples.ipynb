{
 "cells": [
  {
   "cell_type": "code",
   "execution_count": 1,
   "metadata": {},
   "outputs": [
    {
     "name": "stdout",
     "output_type": "stream",
     "text": [
      "Populating the interactive namespace from numpy and matplotlib\n"
     ]
    },
    {
     "data": {
      "application/javascript": [
       "\n",
       "try {\n",
       "require(['notebook/js/codecell'], function(codecell) {\n",
       "  codecell.CodeCell.options_default.highlight_modes[\n",
       "      'magic_text/x-csrc'] = {'reg':[/^%%pybind11/]};\n",
       "  Jupyter.notebook.events.one('kernel_ready.Kernel', function(){\n",
       "      Jupyter.notebook.get_cells().map(function(cell){\n",
       "          if (cell.cell_type == 'code'){ cell.auto_highlight(); } }) ;\n",
       "  });\n",
       "});\n",
       "} catch (e) {};\n"
      ]
     },
     "metadata": {},
     "output_type": "display_data"
    },
    {
     "name": "stdout",
     "output_type": "stream",
     "text": [
      "Warning serial library import failed.\n",
      "Warning could not load Chase AWG dll, check that dll located at 'C:\\_Lib\\python\\slab\\instruments\\awg\\chase\\dax22000_lib_DLL32.dll'\n",
      "Could not load InstrumentManagerWindow\n",
      "Warning could not load LDA labbrick dll, check that dll located at 'C:\\_Lib\\python\\slab\\instruments\\labbrick\\VNX_atten.dll'\n",
      "Warning could not load LMS labbrick dll, check that dll located at 'C:\\_Lib\\python\\slab\\instruments\\labbrick\\vnx_fmsynth.dll'\n",
      "Warning could not load LPS labbrick dll, check that dll located at 'C:\\_Lib\\python\\slab\\instruments\\labbrick\\VNX_dps.dll'\n",
      "Could not load labbrick\n"
     ]
    },
    {
     "name": "stderr",
     "output_type": "stream",
     "text": [
      "/usr/lib/python3/dist-packages/IPython/qt.py:13: ShimWarning: The `IPython.qt` package has been deprecated since IPython 4.0. You should import from qtconsole instead.\n",
      "  \"You should import from qtconsole instead.\", ShimWarning)\n"
     ]
    }
   ],
   "source": [
    "%pylab inline\n",
    "\n",
    "from tqdm import tqdm_notebook as tqdm\n",
    "from qsystem2_asm import *\n",
    "from averager_program import AveragerProgram\n",
    "from slab.instruments import InstrumentManager, Instrument\n",
    "from rfsoc_instrument import *\n",
    "\n",
    "import time\n",
    "\n",
    "\n",
    "#qubit is on 229 ch 3\n",
    "#readout is on 229 ch 2\n",
    "#storage is on 229 ch 1\n",
    "#JPA is on 229 ch 0"
   ]
  },
  {
   "cell_type": "code",
   "execution_count": 2,
   "metadata": {},
   "outputs": [],
   "source": [
    "# Load bitstream with custom overlay\n",
    "im=InstrumentManager(ns_address='192.168.14.1')\n",
    "rLO=im['RF8']\n",
    "#rLO.set_frequency(8.1516e9)\n",
    "rLO.set_frequency(6.9516e9)\n",
    "soc_inst=RFSocInstrument(name=\"soc184\")"
   ]
  },
  {
   "cell_type": "markdown",
   "metadata": {},
   "source": [
    "# Resonator Spectroscopy"
   ]
  },
  {
   "cell_type": "code",
   "execution_count": 10,
   "metadata": {},
   "outputs": [],
   "source": [
    "class ResonatorSpectroscopyProgram(AveragerProgram):\n",
    "    def __init__(self,cfg):\n",
    "        AveragerProgram.__init__(self,cfg)\n",
    "\n",
    "    def initialize(self):\n",
    "        cfg=self.cfg   \n",
    "        self.cfg[\"adc_lengths\"]=[self.cfg[\"readout_length\"]]*2\n",
    "        self.cfg[\"adc_freqs\"]=[self.adcfreq(self.cfg[\"frequency\"])]*2\n",
    "        \n",
    "        self.add_pulse(ch=self.cfg[\"res_ch\"], name=\"measure\",style=\"const\", length=self.cfg[\"readout_length\"])\n",
    "        freq=self.freq2reg(cfg[\"frequency\"])\n",
    "        \n",
    "        self.pulse(ch=cfg[\"res_ch\"], name=\"measure\", freq=freq, phase=0, gain=cfg[\"res_gain\"],  length=self.cfg['readout_length'] , t= 0, play=False)\n",
    "        self.synci(200)\n",
    "    \n",
    "    def body(self):\n",
    "        self.trigger_adc(adc1=1, adc2=1)\n",
    "        self.pulse(ch=self.cfg[\"res_ch\"], play=True)\n",
    "        self.sync_all()\n",
    "        self.delay(self.us2cycles(self.cfg[\"relax_delay\"]))        "
   ]
  },
  {
   "cell_type": "code",
   "execution_count": 28,
   "metadata": {
    "scrolled": false
   },
   "outputs": [
    {
     "name": "stdout",
     "output_type": "stream",
     "text": [
      "{'start': 1090.03125, 'step': 0.09375, 'expts': 100}\n"
     ]
    },
    {
     "data": {
      "application/vnd.jupyter.widget-view+json": {
       "model_id": "f55e9d1ef32b4653a3c8a322542a6535",
       "version_major": 2,
       "version_minor": 0
      },
      "text/plain": [
       "HBox(children=(IntProgress(value=0), HTML(value='')))"
      ]
     },
     "metadata": {},
     "output_type": "display_data"
    },
    {
     "name": "stdout",
     "output_type": "stream",
     "text": [
      "\n"
     ]
    },
    {
     "data": {
      "text/plain": [
       "(-1, 50)"
      ]
     },
     "execution_count": 28,
     "metadata": {},
     "output_type": "execute_result"
    },
    {
     "data": {
      "image/png": "[encoded data removed]",
      "text/plain": [
       "<matplotlib.figure.Figure at 0x7f612f2208>"
      ]
     },
     "metadata": {},
     "output_type": "display_data"
    }
   ],
   "source": [
    "config={\"res_ch\":1,\"reps\":1000,\n",
    "        \"readout_length\":1000, \"res_gain\":15000, \"res_phase\":0,\n",
    "        \"relax_delay\":10, \"frequency\": 1100\n",
    "       }\n",
    "\n",
    "rspec=ResonatorSpectroscopyProgram(config)\n",
    "sweep_cfg={\"start\":rspec.adcfreq(1090), \"step\":rspec.adcfreq(.1), \"expts\":100}\n",
    "print (sweep_cfg)\n",
    "\n",
    "fpts=sweep_cfg[\"start\"]+sweep_cfg[\"step\"]*arange(sweep_cfg[\"expts\"])\n",
    "\n",
    "results=[]\n",
    "for f in tqdm(fpts):\n",
    "    config[\"frequency\"]=f\n",
    "\n",
    "    rspec=ResonatorSpectroscopyProgram(config)\n",
    "    results.append(soc_inst.acquire(rspec, load_pulses=True))\n",
    "    \n",
    "results=np.transpose(results)\n",
    "\n",
    "plot(fpts,results[5],'.')\n",
    "ylim(-1, 50)"
   ]
  },
  {
   "cell_type": "code",
   "execution_count": null,
   "metadata": {},
   "outputs": [],
   "source": []
  }
 ],
 "metadata": {
  "kernelspec": {
   "display_name": "Python 3",
   "language": "python",
   "name": "python3"
  },
  "language_info": {
   "codemirror_mode": {
    "name": "ipython",
    "version": 3
   },
   "file_extension": ".py",
   "mimetype": "text/x-python",
   "name": "python",
   "nbconvert_exporter": "python",
   "pygments_lexer": "ipython3",
   "version": "3.6.5"
  }
 },
 "nbformat": 4,
 "nbformat_minor": 2
}
