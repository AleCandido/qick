{
 "cells": [
  {
   "cell_type": "code",
   "execution_count": 1,
   "metadata": {},
   "outputs": [
    {
     "name": "stdout",
     "output_type": "stream",
     "text": [
      "Populating the interactive namespace from numpy and matplotlib\n"
     ]
    },
    {
     "data": {
      "application/javascript": [
       "\n",
       "try {\n",
       "require(['notebook/js/codecell'], function(codecell) {\n",
       "  codecell.CodeCell.options_default.highlight_modes[\n",
       "      'magic_text/x-csrc'] = {'reg':[/^%%pybind11/]};\n",
       "  Jupyter.notebook.events.one('kernel_ready.Kernel', function(){\n",
       "      Jupyter.notebook.get_cells().map(function(cell){\n",
       "          if (cell.cell_type == 'code'){ cell.auto_highlight(); } }) ;\n",
       "  });\n",
       "});\n",
       "} catch (e) {};\n"
      ]
     },
     "metadata": {},
     "output_type": "display_data"
    },
    {
     "name": "stdout",
     "output_type": "stream",
     "text": [
      "Warning serial library import failed.\n",
      "Warning could not load Chase AWG dll, check that dll located at 'C:\\_Lib\\python\\slab\\instruments\\awg\\chase\\dax22000_lib_DLL32.dll'\n",
      "Could not load InstrumentManagerWindow\n",
      "Warning could not load LDA labbrick dll, check that dll located at 'C:\\_Lib\\python\\slab\\instruments\\labbrick\\VNX_atten.dll'\n",
      "Warning could not load LMS labbrick dll, check that dll located at 'C:\\_Lib\\python\\slab\\instruments\\labbrick\\vnx_fmsynth.dll'\n",
      "Warning could not load LPS labbrick dll, check that dll located at 'C:\\_Lib\\python\\slab\\instruments\\labbrick\\VNX_dps.dll'\n",
      "Could not load labbrick\n"
     ]
    },
    {
     "name": "stderr",
     "output_type": "stream",
     "text": [
      "/usr/lib/python3/dist-packages/IPython/qt.py:13: ShimWarning: The `IPython.qt` package has been deprecated since IPython 4.0. You should import from qtconsole instead.\n",
      "  \"You should import from qtconsole instead.\", ShimWarning)\n"
     ]
    }
   ],
   "source": [
    "%pylab inline\n",
    "from qsystem_2 import PfbSoc, freq2reg\n",
    "from tqdm import tqdm_notebook as tqdm\n",
    "from qsystem2_asm import *\n",
    "#from averager_program import AveragerProgram\n",
    "from slab.instruments import InstrumentManager\n",
    "import time\n",
    "\n",
    "\n",
    "#qubit is on 229 ch 3\n",
    "#readout is on 229 ch 2\n",
    "#storage is on 229 ch 1\n",
    "#JPA is on 229 ch 0"
   ]
  },
  {
   "cell_type": "code",
   "execution_count": 2,
   "metadata": {},
   "outputs": [],
   "source": [
    "# Load bitstream with custom overlay\n",
    "soc = PfbSoc('qsystem_2.bit')\n",
    "im=InstrumentManager(ns_address='192.168.14.1')\n",
    "rLO=im['RF8']\n",
    "rLO.set_frequency(8.1516e9)\n",
    "#rLO.set_frequency(6.9516e9)"
   ]
  },
  {
   "cell_type": "code",
   "execution_count": 3,
   "metadata": {},
   "outputs": [],
   "source": [
    "class AveragerProgram(ASM_Program):\n",
    "    def __init__(self, cfg):\n",
    "        ASM_Program.__init__(self)\n",
    "        self.cfg=cfg\n",
    "        self.make_program()\n",
    "    \n",
    "    def initialize(self):\n",
    "        pass\n",
    "    \n",
    "    def body(self):\n",
    "        pass\n",
    "    \n",
    "    def make_program(self):\n",
    "        p=self\n",
    "        \n",
    "        rcount=12\n",
    "        rii=13\n",
    "        rjj=14\n",
    "        rkk=15\n",
    "\n",
    "        p.initialize()\n",
    "        p.regwi (0, rcount,0)\n",
    "        p.regwi (0, rjj, self.cfg[\"reps\"]-1)\n",
    "        p.label(\"LOOP_J\")\n",
    "\n",
    "        p.body()\n",
    "\n",
    "        p.mathi(0,rcount,rcount,\"+\",1)\n",
    "        \n",
    "        p.memwi(0,rcount,1)\n",
    "                \n",
    "        p.loopnz(0, rjj, 'LOOP_J')\n",
    "\n",
    "        p.seti_trigger(t=0)\n",
    "        \n",
    "        p.end()        \n",
    "        \n",
    "    def acquire(self, soc, load_pulses=True, progress=True):\n",
    "\n",
    "        if load_pulses: \n",
    "            self.load_pulses(soc)\n",
    "        # Readout configuration to route input without frequency translation.\n",
    "        for readout in soc.readouts:\n",
    "            readout.set_out(sel=\"product\")\n",
    "        \n",
    "        # Configure buffer capture.\n",
    "        for avg_buf in soc.avg_bufs:\n",
    "            avg_buf.config_buf(address=0,length=self.cfg['readout_length'])\n",
    "            avg_buf.config_avg(address=0,length=self.cfg['readout_length'])\n",
    "\n",
    "            # Enable buffer capture.\n",
    "            avg_buf.enable_buf()\n",
    "            avg_buf.enable_avg()\n",
    "\n",
    "        soc.tproc.load_asm_program(self)\n",
    "        \n",
    "        reps = self.cfg['reps']\n",
    "        \n",
    "        count=0\n",
    "        last_count=0\n",
    "        total_count=reps\n",
    "\n",
    "        di_buf=np.zeros(total_count)\n",
    "        dq_buf=np.zeros(total_count)\n",
    "        \n",
    "        soc.tproc.stop()\n",
    "        \n",
    "        soc.tproc.single_write(addr= 1,data=0)\n",
    "        self.stats=[]\n",
    "        \n",
    "        soc.tproc.start()\n",
    "        \n",
    "        last_nn=0\n",
    "        while count<total_count-1:\n",
    "#             nn = soc.tproc.single_read(addr= 1)\n",
    "#             if nn<last_nn:\n",
    "#                 wrap=1\n",
    "#             else:\n",
    "#                 wrap=0\n",
    "#             count=(count//2**16+wrap)*2**16 + nn\n",
    "#             last_nn=nn\n",
    "            count = soc.tproc.single_read(addr= 1)\n",
    "            if count>=min(last_count+1000,total_count-1):\n",
    "                addr=last_count % soc.avg_bufs[0].AVG_MAX_LENGTH\n",
    "                length = count-last_count\n",
    "                length -= length%2\n",
    "                di,dq = soc.get_accumulated(ch=0,address=addr, length=length)\n",
    "\n",
    "                di_buf[last_count:last_count+length]=di[:length]\n",
    "                dq_buf[last_count:last_count+length]=dq[:length]\n",
    "\n",
    "                last_count+=length\n",
    "                self.stats.append( (time.time(), count,addr, length))\n",
    "#                 pbar.update(last_count-pbar.n)\n",
    "                #print (count,addr, length)\n",
    "                    \n",
    "        self.di_buf=di_buf\n",
    "        self.dq_buf=dq_buf\n",
    "        \n",
    "        avg_di=np.sum(di_buf)/(reps)/self.cfg['readout_length']\n",
    "        avg_dq=np.sum(dq_buf)/(reps)/self.cfg['readout_length']\n",
    "        avg_amp=np.sqrt(avg_di**2+avg_dq**2)\n",
    "        \n",
    "        return avg_di, avg_dq, avg_amp\n",
    "    \n",
    "    "
   ]
  },
  {
   "cell_type": "markdown",
   "metadata": {},
   "source": [
    "# Resonator Spectroscopy"
   ]
  },
  {
   "cell_type": "code",
   "execution_count": 20,
   "metadata": {},
   "outputs": [],
   "source": [
    "config={\"res_ch\":6,\n",
    "        \"readout_length\":1000, \"res_gain\":8000,\"res_phase\":0,\n",
    "        \"relax_delay\":10, \"frequency\": 1000\n",
    "       }\n",
    "\n",
    "class ResonatorSpectroscopyProgram(AveragerProgram):\n",
    "    def __init__(self,cfg):\n",
    "        AveragerProgram.__init__(self,cfg)\n",
    "        \n",
    "    def initialize(self):\n",
    "        cfg=self.cfg   \n",
    "        #self.measure(ch=cfg[\"res_ch\"],  freq=self.freq2reg(cfg[\"frequency\"]),adc_freq=self.freq2reg_adc(cfg[\"frequency\"]), gain=cfg[\"res_gain\"], phase=cfg[\"res_phase\"], length=self.cfg['readout_length'], play=False)\n",
    "        self.set_wave(ch=cfg[\"res_ch\"], phase=0, gain=cfg[\"res_gain\"], stdysel=0, mode=0, outsel=1, length=self.cfg['readout_length'] , t= 0, play=False)\n",
    "        soc.tproc.single_write(addr=123, data=self.freq2reg(cfg[\"frequency\"]))\n",
    "        self.memri(self.ch_page(cfg[\"res_ch\"]),self.sreg(cfg[\"res_ch\"],\"freq\"),123)\n",
    "        self.synci(1000)\n",
    "    \n",
    "    def body(self):\n",
    "        cfg=self.cfg \n",
    "        #self.measure(ch=self.cfg[\"res_ch\"],  length=self.cfg['readout_length'], play=True)\n",
    "        self.set_wave(ch=cfg[\"res_ch\"], length=self.cfg['readout_length'] , t= 0, play=True)\n",
    "        self.sync_all()\n",
    "        self.delay(self.us2cycles(self.cfg[\"relax_delay\"]))        "
   ]
  },
  {
   "cell_type": "code",
   "execution_count": 21,
   "metadata": {},
   "outputs": [
    {
     "data": {
      "application/vnd.jupyter.widget-view+json": {
       "model_id": "7397d41b11f44fe2be88bad5258a9a5f",
       "version_major": 2,
       "version_minor": 0
      },
      "text/plain": [
       "HBox(children=(IntProgress(value=0, max=200), HTML(value='')))"
      ]
     },
     "metadata": {},
     "output_type": "display_data"
    },
    {
     "name": "stdout",
     "output_type": "stream",
     "text": [
      "\n"
     ]
    },
    {
     "data": {
      "text/plain": [
       "[<matplotlib.lines.Line2D at 0x7f880e36a0>]"
      ]
     },
     "execution_count": 21,
     "metadata": {},
     "output_type": "execute_result"
    },
    {
     "data": {
      "image/png": "[encoded data removed]",
      "text/plain": [
       "<matplotlib.figure.Figure at 0x7f88122080>"
      ]
     },
     "metadata": {},
     "output_type": "display_data"
    }
   ],
   "source": [
    "config={\"res_ch\":6,\"reps\": 2000,\n",
    "        \"readout_length\":1000, \"res_gain\":20000,\"res_phase\":0,\n",
    "        \"relax_delay\":1, \"frequency\": 250\n",
    "       }\n",
    "sweep_cfg={\"start\":1000, \"step\":.1, \"expts\":200, \"reps\": 2000}\n",
    "\n",
    "fpts=sweep_cfg[\"start\"]+sweep_cfg[\"step\"]*arange(sweep_cfg[\"expts\"])\n",
    "results=[]\n",
    "for freq in tqdm(fpts):\n",
    "    rspec=ResonatorSpectroscopyProgram(config)\n",
    "    results.append(rspec.acquire(soc))\n",
    "plot(fpts,np.array(results).T[2])"
   ]
  },
  {
   "cell_type": "code",
   "execution_count": 22,
   "metadata": {},
   "outputs": [
    {
     "data": {
      "text/plain": [
       "'0xc800000'"
      ]
     },
     "execution_count": 22,
     "metadata": {},
     "output_type": "execute_result"
    }
   ],
   "source": [
    "hex(209715200)"
   ]
  },
  {
   "cell_type": "code",
   "execution_count": 23,
   "metadata": {},
   "outputs": [
    {
     "data": {
      "text/plain": [
       "\n",
       "// Program\n",
       "\n",
       "        regwi 2, $24, 0;                        phase\n",
       "        regwi 2, $26, 20000;                        gain\n",
       "        regwi 2, $28, 0;                        t = 0\n",
       "        regwi 2, $25, 0;                        addr\n",
       "        regwi 2, $27, 5096;                        stdysel = 0, mode = 0, outsel = 1, length = 1000\n",
       "        memri 2, $23, 123;\n",
       "        synci 1000;\n",
       "        regwi 0, $12, 0;\n",
       "        regwi 0, $14, 1999;\n",
       "LOOP_J: regwi 2, $28, 0;                        t = 0\n",
       "        regwi 2, $25, 0;                        addr\n",
       "        regwi 2, $27, 33768;                        stdysel = None, mode = None, outsel = None, length = 1000\n",
       "        regwi 2, $28, 0;                        t = 0\n",
       "        set 6, 2, $23, $24, $25, $26, $27, $28;                        ch = 6, out = $23,$25,$26,$27 @t = $28\n",
       "        synci 1000;\n",
       "        synci 384;\n",
       "        mathi 0, $12, $12, +, 1;\n",
       "        memwi 0, $12, 1;\n",
       "        loopnz 0, $14, @LOOP_J;\n",
       "        regwi 0, $31, 0;                        out = 0b{t4}{t3}{t2}{t1}\n",
       "        seti 0, 0, $31, 0;                        ch =0 out = $31 @t = 0\n",
       "        end ;"
      ]
     },
     "execution_count": 23,
     "metadata": {},
     "output_type": "execute_result"
    }
   ],
   "source": [
    "rspec"
   ]
  },
  {
   "cell_type": "code",
   "execution_count": 6,
   "metadata": {},
   "outputs": [
    {
     "name": "stdout",
     "output_type": "stream",
     "text": [
      "209715200 5333\n"
     ]
    }
   ],
   "source": [
    "print (rspec.freq2reg(config[\"frequency\"]),rspec.freq2reg_adc(config[\"frequency\"]))"
   ]
  },
  {
   "cell_type": "code",
   "execution_count": 7,
   "metadata": {},
   "outputs": [
    {
     "data": {
      "text/plain": [
       "7"
      ]
     },
     "execution_count": 7,
     "metadata": {},
     "output_type": "execute_result"
    }
   ],
   "source": [
    "len(rspec.channels.keys())"
   ]
  },
  {
   "cell_type": "code",
   "execution_count": 8,
   "metadata": {},
   "outputs": [],
   "source": [
    "fout = 233\n",
    "tmp = freq2reg(fs=soc.fs_dac,f=fout,B=32)\n"
   ]
  },
  {
   "cell_type": "code",
   "execution_count": 8,
   "metadata": {},
   "outputs": [
    {
     "data": {
      "text/plain": [
       "'0x32000000'"
      ]
     },
     "execution_count": 8,
     "metadata": {},
     "output_type": "execute_result"
    }
   ],
   "source": [
    "hex(rspec.freq2reg(config[\"frequency\"]))"
   ]
  },
  {
   "cell_type": "code",
   "execution_count": 16,
   "metadata": {},
   "outputs": [
    {
     "data": {
      "text/plain": [
       "27682406"
      ]
     },
     "execution_count": 16,
     "metadata": {},
     "output_type": "execute_result"
    }
   ],
   "source": [
    "rspec.freq2reg(33)"
   ]
  },
  {
   "cell_type": "code",
   "execution_count": 30,
   "metadata": {},
   "outputs": [
    {
     "data": {
      "text/plain": [
       "1280.0"
      ]
     },
     "execution_count": 30,
     "metadata": {},
     "output_type": "execute_result"
    }
   ],
   "source": [
    "rspec.reg2freq(2**30)"
   ]
  },
  {
   "cell_type": "code",
   "execution_count": 5,
   "metadata": {},
   "outputs": [
    {
     "data": {
      "text/plain": [
       "'19402e0032000000 -> regwi 2, $23, 838860800'"
      ]
     },
     "execution_count": 5,
     "metadata": {},
     "output_type": "execute_result"
    }
   ],
   "source": [
    "parse_prog(file=\"gaussian_env.asm\",outfmt=\"hex\")[7]"
   ]
  },
  {
   "cell_type": "code",
   "execution_count": 13,
   "metadata": {},
   "outputs": [
    {
     "name": "stdout",
     "output_type": "stream",
     "text": [
      "0x19402e0032000000\n",
      "0x19403a0000005355\n",
      "0x135401d000000000\n",
      "0x1940300000000000\n",
      "0x1940340000004e20\n",
      "0x1940320000000000\n",
      "0x194036000000b710\n",
      "0x1900180000000000\n",
      "0x19001c00000007cf\n",
      "0x19003e000000c000\n",
      "0x130001f000000100\n",
      "0x1940320000000000\n",
      "0x194036000000b710\n",
      "0x1940380000000000\n",
      "0x5158017e633ad800\n",
      "0x19003e0000000000\n",
      "0x130001f00000281a\n",
      "0x1400000000002710\n",
      "0x1400000000000180\n",
      "0x120218c000000001\n",
      "0x1800000600000001\n",
      "0x30021ce000000009\n",
      "0x19003e0000000000\n",
      "0x130001f000000000\n",
      "0x3f00000000000000\n"
     ]
    }
   ],
   "source": [
    "print(rspec.hex())"
   ]
  },
  {
   "cell_type": "code",
   "execution_count": 31,
   "metadata": {},
   "outputs": [
    {
     "data": {
      "text/plain": [
       "'0b110010000000000000000000000000'"
      ]
     },
     "execution_count": 31,
     "metadata": {},
     "output_type": "execute_result"
    }
   ],
   "source": [
    "bin(838860800)"
   ]
  },
  {
   "cell_type": "code",
   "execution_count": 25,
   "metadata": {},
   "outputs": [
    {
     "name": "stdout",
     "output_type": "stream",
     "text": [
      "%d75497472\n"
     ]
    }
   ],
   "source": [
    "print(\"{freq2reg(fs=soc.fs_dac,f=90,B=32)}\")"
   ]
  },
  {
   "cell_type": "code",
   "execution_count": null,
   "metadata": {},
   "outputs": [],
   "source": [
    "rspec"
   ]
  },
  {
   "cell_type": "code",
   "execution_count": 7,
   "metadata": {},
   "outputs": [],
   "source": [
    "soc.tproc.stop()"
   ]
  },
  {
   "cell_type": "code",
   "execution_count": 8,
   "metadata": {},
   "outputs": [],
   "source": [
    "soc.tproc.start()"
   ]
  },
  {
   "cell_type": "code",
   "execution_count": 15,
   "metadata": {},
   "outputs": [],
   "source": [
    "class AveragerProgram(ASM_Program):\n",
    "    def __init__(self, cfg):\n",
    "        ASM_Program.__init__(self)\n",
    "        self.cfg=cfg\n",
    "        self.make_program()\n",
    "    \n",
    "    def initialize(self):\n",
    "        pass\n",
    "    \n",
    "    def initialize_round(self):\n",
    "        pass\n",
    "    \n",
    "    def body(self):\n",
    "        pass\n",
    "    \n",
    "    def update(self):\n",
    "        pass\n",
    "    \n",
    "    def make_program(self):\n",
    "        p=self\n",
    "        \n",
    "        rcount=12\n",
    "        rii=13\n",
    "        rjj=14\n",
    "        rkk=15\n",
    "\n",
    "        p.initialize()\n",
    "\n",
    "        p.regwi(0, rcount,0)\n",
    "        p.regwi (0, rkk, self.cfg[\"rounds\"]-1 )\n",
    "        p.label(\"LOOP_K\")\n",
    "\n",
    "        p.initialize_round()\n",
    "        \n",
    "        p.regwi (0, rii, self.cfg[\"expts\"]-1 )\n",
    "        p.label(\"LOOP_I\")    \n",
    "\n",
    "        p.regwi (0, rjj, self.cfg[\"reps\"]-1)\n",
    "        p.label(\"LOOP_J\")\n",
    "\n",
    "        p.body()\n",
    "\n",
    "        p.mathi(0,rcount,rcount,\"+\",1)\n",
    "        \n",
    "        p.memwi(0,rcount,1)\n",
    "                \n",
    "        p.loopnz(0, rjj, 'LOOP_J')\n",
    "\n",
    "        p.update()\n",
    "        \n",
    "        p.loopnz(0, rii, \"LOOP_I\")    \n",
    "        p.seti_trigger(t=0)\n",
    "\n",
    "        p.loopnz(0,rkk, \"LOOP_K\")\n",
    "\n",
    "        p.end()        \n",
    "\n",
    "    def get_n (self, round_num, expt_num, rep_num):\n",
    "        return (round_num)*self.cfg['expts']*self.cfg['reps'] + (expt_num)*self.cfg['reps']+rep_num\n",
    "\n",
    "    def get_expt_num (self, n):\n",
    "        return (n // self.cfg['reps']) % self.cfg['expts']\n",
    "    \n",
    "    def get_expt_pts(self):\n",
    "        return self.cfg[\"start\"]+np.arange(self.cfg['expts'])*self.cfg[\"step\"]\n",
    "        \n",
    "    def acquire(self, soc, progress=True):\n",
    "\n",
    "        self.load_pulses(soc)\n",
    "        # Readout configuration to route input without frequency translation.\n",
    "        for readout in soc.readouts:\n",
    "            readout.set_out(sel=\"product\")\n",
    "        \n",
    "        # Configure buffer capture.\n",
    "        for avg_buf in soc.avg_bufs:\n",
    "            avg_buf.config_buf(address=0,length=self.cfg['readout_length'])\n",
    "            avg_buf.config_avg(address=0,length=self.cfg['readout_length'])\n",
    "\n",
    "            # Enable buffer capture.\n",
    "            avg_buf.enable_buf()\n",
    "            avg_buf.enable_avg()\n",
    "            \n",
    "        soc.tproc.load_asm_program(self)\n",
    "        \n",
    "        reps,rounds,expts = self.cfg['reps'], self.cfg['rounds'], self.cfg['expts']\n",
    "        \n",
    "        count=0\n",
    "        last_count=0\n",
    "        total_count=reps*rounds*expts\n",
    "\n",
    "        di_buf=np.zeros(total_count)\n",
    "        dq_buf=np.zeros(total_count)\n",
    "        \n",
    "        soc.tproc.stop()\n",
    "        \n",
    "        soc.tproc.single_write(addr= 1,data=0)\n",
    "        self.stats=[]\n",
    "        with tqdm(total=total_count, disable=not progress) as pbar:\n",
    "            soc.tproc.start()\n",
    "            last_nn=0\n",
    "            while count<total_count-1:\n",
    "                nn = soc.tproc.single_read(addr= 1)\n",
    "                if nn<last_nn:\n",
    "                    wrap=1\n",
    "                else:\n",
    "                    wrap=0\n",
    "                count=(count//2**16+wrap)*2**16 + nn\n",
    "                last_nn=nn\n",
    "                if count>=min(last_count+1000,total_count-1):\n",
    "                    addr=last_count % avg_buf.AVG_MAX_LENGTH\n",
    "                    length = count-last_count\n",
    "                    length -= length%2\n",
    "                    di,dq = soc.get_accumulated(ch=0, address=addr, length=length)\n",
    "\n",
    "                    di_buf[last_count:last_count+length]=di[:length]\n",
    "                    dq_buf[last_count:last_count+length]=dq[:length]\n",
    "\n",
    "                    last_count+=length\n",
    "                    self.stats.append( (time.time(), count,addr, length))\n",
    "                    pbar.update(last_count-pbar.n)\n",
    "                    #print (count,addr, length)\n",
    "                    \n",
    "        self.di_buf=di_buf\n",
    "        self.dq_buf=dq_buf\n",
    "        \n",
    "        avg_di=np.sum(di_buf.reshape((rounds,expts, reps)),(2,0))/(reps*rounds)/self.cfg['readout_length']\n",
    "        avg_dq=np.sum(dq_buf.reshape((rounds,expts, reps)),(2,0))/(reps*rounds)/self.cfg['readout_length']\n",
    "        expt_pts=self.get_expt_pts()\n",
    "        amp_pts=np.sqrt(avg_di**2+avg_dq**2)\n",
    "        \n",
    "        return expt_pts, avg_di, avg_dq, amp_pts"
   ]
  },
  {
   "cell_type": "code",
   "execution_count": 21,
   "metadata": {},
   "outputs": [],
   "source": [
    "config={\"res_ch\":3,\n",
    "        \"start\":1090, \"step\":.1, \"expts\":200, \"reps\": 2000, \"rounds\":1,\n",
    "        \"readout_length\":1000, \"res_gain\":8000,\"res_phase\":0,\n",
    "        \"relax_delay\":10\n",
    "       }\n",
    "\n",
    "class ResonatorSpectroscopyProgram(AveragerProgram):\n",
    "    def __init__(self,cfg):\n",
    "        AveragerProgram.__init__(self,cfg)\n",
    "        \n",
    "        \n",
    "    def initialize(self):\n",
    "        cfg=self.cfg\n",
    "   \n",
    "        self.r_freq=self.sreg(cfg[\"res_ch\"],\"freq\")\n",
    "        self.r_adc_freq=self.sreg(cfg[\"res_ch\"],\"adc_freq\")\n",
    "        \n",
    "        self.f_start=self.freq2reg(cfg[\"start\"])\n",
    "        self.f_step=self.freq2reg(cfg[\"step\"])\n",
    "\n",
    "        self.measure(ch=cfg[\"res_ch\"],  freq=self.f_start, adc_freq=self.freq2reg_adc(cfg[\"start\"]),gain=cfg[\"res_gain\"], phase=cfg[\"res_phase\"], length=self.cfg['readout_length'], play=False)\n",
    "    \n",
    "    def get_expt_pts(self):\n",
    "        return self.reg2freq(self.f_start)+arange(self.cfg['expts'])*self.reg2freq(self.f_step)\n",
    "    \n",
    "    def initialize_round(self):\n",
    "        self.regwi(self.ch_page(self.cfg[\"res_ch\"]),self.r_freq, self.f_start)\n",
    "        self.regwi(self.ch_page(self.cfg[\"res_ch\"]),self.r_adc_freq, 2*self.f_start)\n",
    "    \n",
    "    def body(self):\n",
    "        self.measure(ch=self.cfg[\"res_ch\"],  length=self.cfg['readout_length'], play=True)\n",
    "        self.sync_all()\n",
    "        self.delay(self.us2cycles(self.cfg[\"relax_delay\"]))\n",
    "         \n",
    "    def update(self):\n",
    "        self.mathi(self.ch_page(self.cfg[\"res_ch\"]), self.r_freq, self.r_freq, '+', self.f_step)\n",
    "        #self.mathi(self.ch_page(self.cfg[\"res_ch\"]), self.r_adc_freq, self.r_adc_freq, '+', 2*self.f_step)\n",
    "        self.seti(5, self.ch_page(self.cfg[\"res_ch\"]), self.r_adc_freq, 0)\n",
    "        self.synci(10)\n",
    "        "
   ]
  },
  {
   "cell_type": "code",
   "execution_count": 24,
   "metadata": {},
   "outputs": [
    {
     "name": "stdout",
     "output_type": "stream",
     "text": [
      "{'name': 'regwi', 'args': (2, 23, 914358272)}\n",
      "{'name': 'regwi', 'args': (2, 29, 23253)}\n",
      "{'name': 'seti', 'args': (5, 2, 29, 0)}\n",
      "{'name': 'regwi', 'args': (2, 24, 0, 'phase')}\n",
      "{'name': 'regwi', 'args': (2, 26, 10000, 'gain')}\n",
      "{'name': 'regwi', 'args': (2, 25, 0, 'addr')}\n",
      "{'name': 'regwi', 'args': (2, 27, 38864, 'stdysel = None, mode = None, outsel = 1, length = 2000')}\n",
      "{'name': 'regwi', 'args': (0, 12, 0)}\n",
      "{'name': 'regwi', 'args': (0, 15, 0)}\n",
      "{'name': 'regwi', 'args': (2, 23, 914358272)}\n",
      "{'name': 'regwi', 'args': (2, 29, 1828716544)}\n",
      "{'name': 'regwi', 'args': (0, 13, 199)}\n",
      "{'name': 'regwi', 'args': (0, 14, 999)}\n",
      "{'name': 'regwi', 'args': (0, 31, 49152, 'out = 0b{t4}{t3}{t2}{t1}')}\n",
      "{'name': 'seti', 'args': (0, 0, 31, 256, 'ch =0 out = $31 @t = 256')}\n",
      "{'name': 'regwi', 'args': (2, 25, 0, 'addr')}\n",
      "{'name': 'regwi', 'args': (2, 27, 38864, 'stdysel = None, mode = None, outsel = 1, length = 2000')}\n",
      "{'name': 'regwi', 'args': (2, 28, 0, 't = 0')}\n",
      "{'name': 'set', 'args': (6, 2, 23, 24, 25, 26, 27, 28, 'ch = 6, out = $23,$25,$26,$27 @t = $28')}\n",
      "{'name': 'regwi', 'args': (0, 31, 0, 'out = 0b{t4}{t3}{t2}{t1}')}\n",
      "{'name': 'seti', 'args': (0, 0, 31, 2266, 'ch =0 out = $31 @t = 2266')}\n",
      "{'name': 'synci', 'args': (2000,)}\n",
      "{'name': 'synci', 'args': (3840,)}\n",
      "{'name': 'mathi', 'args': (0, 12, 12, '+', 1)}\n",
      "{'name': 'memwi', 'args': (0, 12, 1)}\n",
      "{'name': 'loopnz', 'args': (0, 14, 'LOOP_J')}\n",
      "{'name': 'mathi', 'args': (2, 23, 23, '+', 83886)}\n",
      "{'name': 'seti', 'args': (5, 2, 29, 0)}\n",
      "{'name': 'synci', 'args': (10,)}\n",
      "{'name': 'loopnz', 'args': (0, 13, 'LOOP_I')}\n",
      "{'name': 'regwi', 'args': (0, 31, 0, 'out = 0b{t4}{t3}{t2}{t1}')}\n",
      "{'name': 'seti', 'args': (0, 0, 31, 0, 'ch =0 out = $31 @t = 0')}\n",
      "{'name': 'loopnz', 'args': (0, 15, 'LOOP_K')}\n",
      "{'name': 'end', 'args': ()}\n"
     ]
    },
    {
     "data": {
      "application/vnd.jupyter.widget-view+json": {
       "model_id": "d14f191738e3469f9a20557a8a097fe6",
       "version_major": 2,
       "version_minor": 0
      },
      "text/plain": [
       "HBox(children=(IntProgress(value=0, max=200000), HTML(value='')))"
      ]
     },
     "metadata": {},
     "output_type": "display_data"
    },
    {
     "name": "stdout",
     "output_type": "stream",
     "text": [
      "\n"
     ]
    },
    {
     "ename": "ValueError",
     "evalue": "could not broadcast input array from shape (66744) into shape (2594)",
     "output_type": "error",
     "traceback": [
      "\u001b[0;31m---------------------------------------------------------------------------\u001b[0m",
      "\u001b[0;31mValueError\u001b[0m                                Traceback (most recent call last)",
      "\u001b[0;32m<ipython-input-24-956d987a8ea7>\u001b[0m in \u001b[0;36m<module>\u001b[0;34m()\u001b[0m\n\u001b[1;32m      6\u001b[0m \u001b[0;34m\u001b[0m\u001b[0m\n\u001b[1;32m      7\u001b[0m \u001b[0mrspec\u001b[0m\u001b[0;34m=\u001b[0m\u001b[0mResonatorSpectroscopyProgram\u001b[0m\u001b[0;34m(\u001b[0m\u001b[0mcfg\u001b[0m\u001b[0;34m=\u001b[0m\u001b[0mconfig\u001b[0m\u001b[0;34m)\u001b[0m\u001b[0;34m\u001b[0m\u001b[0m\n\u001b[0;32m----> 8\u001b[0;31m \u001b[0mx_pts\u001b[0m\u001b[0;34m,\u001b[0m \u001b[0mavgi\u001b[0m\u001b[0;34m,\u001b[0m \u001b[0mavgq\u001b[0m\u001b[0;34m,\u001b[0m \u001b[0mavgamp\u001b[0m \u001b[0;34m=\u001b[0m \u001b[0mrspec\u001b[0m\u001b[0;34m.\u001b[0m\u001b[0macquire\u001b[0m\u001b[0;34m(\u001b[0m\u001b[0msoc\u001b[0m\u001b[0;34m)\u001b[0m\u001b[0;34m\u001b[0m\u001b[0m\n\u001b[0m\u001b[1;32m      9\u001b[0m \u001b[0;34m\u001b[0m\u001b[0m\n\u001b[1;32m     10\u001b[0m \u001b[0msubplot\u001b[0m\u001b[0;34m(\u001b[0m\u001b[0;36m111\u001b[0m\u001b[0;34m,\u001b[0m \u001b[0mxlabel\u001b[0m\u001b[0;34m=\u001b[0m\u001b[0;34m'DDS Frequency (MHz)'\u001b[0m\u001b[0;34m,\u001b[0m \u001b[0mylabel\u001b[0m\u001b[0;34m=\u001b[0m\u001b[0;34m'Amplitude'\u001b[0m\u001b[0;34m,\u001b[0m \u001b[0mtitle\u001b[0m\u001b[0;34m=\u001b[0m\u001b[0;34mf'Resonator Spectroscopy'\u001b[0m\u001b[0;34m)\u001b[0m\u001b[0;34m\u001b[0m\u001b[0m\n",
      "\u001b[0;32m<ipython-input-15-eb1c36007ce0>\u001b[0m in \u001b[0;36macquire\u001b[0;34m(self, soc, progress)\u001b[0m\n\u001b[1;32m    113\u001b[0m                     \u001b[0mdi\u001b[0m\u001b[0;34m,\u001b[0m\u001b[0mdq\u001b[0m \u001b[0;34m=\u001b[0m \u001b[0msoc\u001b[0m\u001b[0;34m.\u001b[0m\u001b[0mget_accumulated\u001b[0m\u001b[0;34m(\u001b[0m\u001b[0mch\u001b[0m\u001b[0;34m=\u001b[0m\u001b[0;36m0\u001b[0m\u001b[0;34m,\u001b[0m \u001b[0maddress\u001b[0m\u001b[0;34m=\u001b[0m\u001b[0maddr\u001b[0m\u001b[0;34m,\u001b[0m \u001b[0mlength\u001b[0m\u001b[0;34m=\u001b[0m\u001b[0mlength\u001b[0m\u001b[0;34m)\u001b[0m\u001b[0;34m\u001b[0m\u001b[0m\n\u001b[1;32m    114\u001b[0m \u001b[0;34m\u001b[0m\u001b[0m\n\u001b[0;32m--> 115\u001b[0;31m                     \u001b[0mdi_buf\u001b[0m\u001b[0;34m[\u001b[0m\u001b[0mlast_count\u001b[0m\u001b[0;34m:\u001b[0m\u001b[0mlast_count\u001b[0m\u001b[0;34m+\u001b[0m\u001b[0mlength\u001b[0m\u001b[0;34m]\u001b[0m\u001b[0;34m=\u001b[0m\u001b[0mdi\u001b[0m\u001b[0;34m[\u001b[0m\u001b[0;34m:\u001b[0m\u001b[0mlength\u001b[0m\u001b[0;34m]\u001b[0m\u001b[0;34m\u001b[0m\u001b[0m\n\u001b[0m\u001b[1;32m    116\u001b[0m                     \u001b[0mdq_buf\u001b[0m\u001b[0;34m[\u001b[0m\u001b[0mlast_count\u001b[0m\u001b[0;34m:\u001b[0m\u001b[0mlast_count\u001b[0m\u001b[0;34m+\u001b[0m\u001b[0mlength\u001b[0m\u001b[0;34m]\u001b[0m\u001b[0;34m=\u001b[0m\u001b[0mdq\u001b[0m\u001b[0;34m[\u001b[0m\u001b[0;34m:\u001b[0m\u001b[0mlength\u001b[0m\u001b[0;34m]\u001b[0m\u001b[0;34m\u001b[0m\u001b[0m\n\u001b[1;32m    117\u001b[0m \u001b[0;34m\u001b[0m\u001b[0m\n",
      "\u001b[0;31mValueError\u001b[0m: could not broadcast input array from shape (66744) into shape (2594)"
     ]
    }
   ],
   "source": [
    "config={\"res_ch\":6,\n",
    "        \"start\":1090, \"step\":.1, \"expts\":200, \"reps\": 1000,\"rounds\":1,\n",
    "        \"readout_length\":2000, \"res_gain\":10000,\"res_phase\":0,\n",
    "        \"relax_delay\":10\n",
    "       }\n",
    "\n",
    "rspec=ResonatorSpectroscopyProgram(cfg=config)\n",
    "x_pts, avgi, avgq, avgamp = rspec.acquire(soc)\n",
    "\n",
    "subplot(111, xlabel='DDS Frequency (MHz)', ylabel='Amplitude', title=f'Resonator Spectroscopy')\n",
    "#plot(avg_di, label='I')\n",
    "#plot(avg_dq, label='Q')\n",
    "plot(x_pts,avgamp, label='A')\n",
    "fmax=x_pts[np.argmax(avgamp)]\n",
    "#plot(amps, label='A')\n",
    "axvline(fmax)\n",
    "legend()\n",
    "tight_layout()\n",
    "print(fmax)"
   ]
  },
  {
   "cell_type": "code",
   "execution_count": 20,
   "metadata": {},
   "outputs": [
    {
     "data": {
      "text/plain": [
       "\n",
       "// Program\n",
       "\n",
       "        regwi 2, $23, 914358272;\n",
       "        regwi 2, $29, 23253;\n",
       "        seti 5, 2, $29, 0;\n",
       "        regwi 2, $24, 0;                        phase\n",
       "        regwi 2, $26, 10000;                        gain\n",
       "        regwi 2, $25, 0;                        addr\n",
       "        regwi 2, $27, 38864;                        stdysel = None, mode = None, outsel = 1, length = 2000\n",
       "        regwi 0, $12, 0;\n",
       "        regwi 0, $15, 0;\n",
       "LOOP_K: regwi 2, $23, 914358272;\n",
       "        regwi 2, $29, 1828716544;\n",
       "        regwi 0, $13, 199;\n",
       "LOOP_I: regwi 0, $14, 999;\n",
       "LOOP_J: regwi 0, $31, 49152;                        out = 0b{t4}{t3}{t2}{t1}\n",
       "        seti 0, 0, $31, 256;                        ch =0 out = $31 @t = 256\n",
       "        regwi 2, $25, 0;                        addr\n",
       "        regwi 2, $27, 38864;                        stdysel = None, mode = None, outsel = 1, length = 2000\n",
       "        regwi 2, $28, 0;                        t = 0\n",
       "        set 6, 2, $23, $24, $25, $26, $27, $28;                        ch = 6, out = $23,$25,$26,$27 @t = $28\n",
       "        regwi 0, $31, 0;                        out = 0b{t4}{t3}{t2}{t1}\n",
       "        seti 0, 0, $31, 2266;                        ch =0 out = $31 @t = 2266\n",
       "        synci 2000;\n",
       "        synci 3840;\n",
       "        mathi 0, $12, $12, +, 1;\n",
       "        memwi 0, $12, 1;\n",
       "        loopnz 0, $14, @LOOP_J;\n",
       "        mathi 2, $23, $23, +, 83886;\n",
       "        mathi 2, $29, $29, +, 167772;\n",
       "        seti 5, 2, $29, 0;\n",
       "        synci 10;\n",
       "        loopnz 0, $13, @LOOP_I;\n",
       "        regwi 0, $31, 0;                        out = 0b{t4}{t3}{t2}{t1}\n",
       "        seti 0, 0, $31, 0;                        ch =0 out = $31 @t = 0\n",
       "        loopnz 0, $15, @LOOP_K;\n",
       "        end ;"
      ]
     },
     "execution_count": 20,
     "metadata": {},
     "output_type": "execute_result"
    }
   ],
   "source": [
    "rspec"
   ]
  },
  {
   "cell_type": "code",
   "execution_count": 46,
   "metadata": {},
   "outputs": [
    {
     "name": "stdout",
     "output_type": "stream",
     "text": [
      "{'name': 'memri', 'args': (2, 23, 123)}\n",
      "{'name': 'regwi', 'args': (0, 17, 0, 'phase')}\n",
      "{'name': 'regwi', 'args': (0, 19, 20000, 'gain')}\n",
      "{'name': 'regwi', 'args': (0, 21, 0, 't = 0')}\n",
      "{'name': 'regwi', 'args': (0, 18, 0, 'addr')}\n",
      "{'name': 'regwi', 'args': (0, 20, 6096, 'stdysel = 0, mode = 0, outsel = 1, length = 2000')}\n",
      "{'name': 'regwi', 'args': (0, 14, 19999)}\n",
      "{'name': 'set', 'args': (6, 0, 23, 24, 25, 26, 27, 28)}\n",
      "{'name': 'synci', 'args': (10000,)}\n",
      "{'name': 'loopnz', 'args': (0, 14, 'LOOP_J')}\n",
      "{'name': 'end', 'args': ()}\n"
     ]
    }
   ],
   "source": [
    "\n",
    "cfg={\"res_ch\":6,\n",
    "        \"start\":1090, \"step\":.1, \"expts\":200, \"reps\": 20000,\"rounds\":1,\n",
    "        \"readout_length\":2000, \"res_gain\":20000,\"res_phase\":0,\n",
    "        \"relax_delay\":10\n",
    "       }\n",
    "with ASM_Program() as p:\n",
    "        rjj=14\n",
    "        p.memri(p.ch_page(cfg[\"res_ch\"]),p.sreg(cfg[\"res_ch\"],\"freq\"),123)        \n",
    "        p.set_wave(ch=1, phase=0, gain=cfg[\"res_gain\"], stdysel=0, mode=0, outsel=1, length=cfg['readout_length'] , t= 0, play=False)\n",
    "        p.regwi (0, rjj, cfg[\"reps\"]-1)\n",
    "        \n",
    "        p.label(\"LOOP_J\")\n",
    "        p.set (6, 0, 23, 24, 25, 26, 27, 28)\n",
    "        p.synci(10000)\n",
    "        \n",
    "        p.loopnz(0, rjj, \"LOOP_J\")\n",
    "        \n",
    "        p.end()\n",
    "\n",
    "\n",
    "\n",
    "p\n",
    "soc.tproc.stop()\n",
    "soc.tproc.single_write(addr=123, data=p.freq2reg(cfg[\"start\"]))\n",
    "soc.tproc.load_asm_program(p)\n",
    "soc.tproc.start()"
   ]
  },
  {
   "cell_type": "code",
   "execution_count": 45,
   "metadata": {},
   "outputs": [
    {
     "data": {
      "text/plain": [
       "\n",
       "// Program\n",
       "\n",
       "        memri 2, $23, 123;\n",
       "        regwi 0, $17, 0;                        phase\n",
       "        regwi 0, $19, 20000;                        gain\n",
       "        regwi 0, $21, 0;                        t = 0\n",
       "        regwi 0, $18, 0;                        addr\n",
       "        regwi 0, $20, 6096;                        stdysel = 0, mode = 0, outsel = 1, length = 2000\n",
       "        regwi 0, $14, 9999;\n",
       "LOOP_J: set 6, 0, $23, $24, $25, $26, $27, $28;\n",
       "        synci 10000;\n",
       "        loopnz 0, $14, @LOOP_J;\n",
       "        end ;"
      ]
     },
     "execution_count": 45,
     "metadata": {},
     "output_type": "execute_result"
    }
   ],
   "source": [
    "p"
   ]
  },
  {
   "cell_type": "code",
   "execution_count": null,
   "metadata": {},
   "outputs": [],
   "source": []
  }
 ],
 "metadata": {
  "kernelspec": {
   "display_name": "Python 3",
   "language": "python",
   "name": "python3"
  },
  "language_info": {
   "codemirror_mode": {
    "name": "ipython",
    "version": 3
   },
   "file_extension": ".py",
   "mimetype": "text/x-python",
   "name": "python",
   "nbconvert_exporter": "python",
   "pygments_lexer": "ipython3",
   "version": "3.6.5"
  }
 },
 "nbformat": 4,
 "nbformat_minor": 2
}
