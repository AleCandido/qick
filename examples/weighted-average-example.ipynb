{
 "cells": [
  {
   "cell_type": "code",
   "execution_count": null,
   "metadata": {},
   "outputs": [],
   "source": [
    "from qubitdriver import qubit\n",
    "\n",
    "from matplotlib import pyplot as plt\n",
    "import numpy as np\n",
    "\n",
    "from qsystem_2 import *"
   ]
  },
  {
   "cell_type": "code",
   "execution_count": null,
   "metadata": {},
   "outputs": [],
   "source": [
    "q = qubit()"
   ]
  },
  {
   "cell_type": "code",
   "execution_count": null,
   "metadata": {},
   "outputs": [],
   "source": [
    "pulseCount = 9\n",
    "nsamp = 100\n",
    "nsync = int(1.1 * nsamp)\n",
    "\n",
    "idec,qdec,iacc,qacc = q.runPulseExample(pulseCount = pulseCount, nsamp = nsamp, nsync = nsync)"
   ]
  },
  {
   "cell_type": "code",
   "execution_count": null,
   "metadata": {},
   "outputs": [],
   "source": [
    "amplitudes = np.abs(idec + 1j*qdec)\n",
    "plt.plot(amplitudes)\n",
    "for i in range(pulseCount+1):\n",
    "    plt.axvline(i*nsamp, c='r')\n",
    "    if i < pulseCount:\n",
    "        plt.axvline((i+0.5)*nsamp, c='g', alpha=0.5)"
   ]
  },
  {
   "cell_type": "code",
   "execution_count": null,
   "metadata": {},
   "outputs": [],
   "source": [
    "iaccSums = idec.reshape(-1, nsamp).sum(axis=1)\n",
    "qaccSums = qdec.reshape(-1, nsamp).sum(axis=1)\n",
    "\n",
    "di_feed = q.get_i_acc()\n",
    "dq_feed = q.get_q_acc()\n",
    "if di_feed>2**31:\n",
    "    di_feed = di_feed - 2**32\n",
    "if dq_feed>2**31:\n",
    "    dq_feed = dq_feed - 2**32\n",
    "\n",
    "fig,ax = plt.subplots(4,1,sharex=True)\n",
    "\n",
    "fig.suptitle(\"Before Moving Average Results\")\n",
    "fig.set_size_inches(8,8)\n",
    "ax[0].plot(iaccSums, \"-+\", label=\"get_decimated\")\n",
    "ax[0].plot(iacc, \"x\", label=\"get_accumulated\")\n",
    "ax[0].plot(len(iacc)-1, di_feed, \"o\", mfc='None', label='feedback')\n",
    "ax[0].set_ylabel(\"I\")\n",
    "ax[0].legend(bbox_to_anchor=(0, 1, 1, 0), loc=\"lower left\", mode=\"expand\", ncol=3)\n",
    "\n",
    "ax[1].plot(qaccSums, \"-+\")\n",
    "ax[1].plot(qacc, \"x\")\n",
    "ax[1].plot(len(iacc)-1, dq_feed, \"o\", mfc='None', label='feedback')\n",
    "ax[1].set_ylabel(\"Q\")\n",
    "\n",
    "ax[2].plot(np.abs(iaccSums + 1j*qaccSums), \"-+\")\n",
    "ax[2].plot(np.abs(iacc + 1j*qacc), \"x\")\n",
    "ax[2].plot(len(iacc)-1, np.abs(di_feed + 1j*dq_feed), \"o\", mfc='None', label='feedback')\n",
    "ax[2].set_ylabel(\"Amplitude\")\n",
    "\n",
    "ax[3].plot(np.arctan2(qaccSums, iaccSums), \"-+\")\n",
    "ax[3].plot(np.arctan2(qacc, iacc), \"x\")\n",
    "ax[3].plot(len(iacc)-1, np.arctan2(dq_feed, di_feed), \"o\", mfc='None', label='feedback')\n",
    "ax[3].set_ylabel(\"$\\phi$ [Rad]\")\n",
    "\n",
    "ax[3].set_xlabel(\"Pulse Number\")"
   ]
  },
  {
   "cell_type": "code",
   "execution_count": null,
   "metadata": {},
   "outputs": [],
   "source": [
    "#Divide the amplitude array into segments and create the gaussian curve that matches the data. \n",
    "\n",
    "experiments = amplitudes.reshape(-1, nsamp)\n",
    "gaussian = gauss(mu=16*nsamp/2, si=nsamp, length=16*nsamp, maxv=30000)\n",
    "gaussian = gaussian[0::16]\n",
    "\n",
    "experiments = np.array(experiments)\n",
    "gaussian = np.array(gaussian)"
   ]
  },
  {
   "cell_type": "code",
   "execution_count": null,
   "metadata": {},
   "outputs": [],
   "source": [
    "#Check the alignment of the gaussian with the first experimental data\n",
    "\n",
    "print(np.amax(experiments[0]))\n",
    "print(np.amax(gaussian))\n",
    "\n",
    "print(np.where(experiments[0] == np.amax(experiments[0]))[0][0])\n",
    "print(np.where(gaussian == np.amax(gaussian))[0][0])\n",
    "\n",
    "plt.plot(gaussian * 0.0215, alpha=0.5)\n",
    "plt.plot(experiments[0])\n",
    "plt.axvline(np.where(experiments[0] == np.amax(experiments[0]))[0][0], color='blue', alpha=0.5)\n",
    "plt.axvline(np.where(gaussian == np.amax(gaussian))[0][0], color='orange', alpha=0.5)\n",
    "plt.show()"
   ]
  },
  {
   "cell_type": "code",
   "execution_count": null,
   "metadata": {},
   "outputs": [],
   "source": [
    "#Find the weighted average of the data. \n",
    "newAmps = []\n",
    "for i in range(len(experiments)):\n",
    "    experiments[i] = experiments[i] * gaussian\n",
    "    newAmps.append(np.sum(experiments[i]) / np.sum(gaussian))"
   ]
  },
  {
   "cell_type": "code",
   "execution_count": null,
   "metadata": {},
   "outputs": [],
   "source": [
    "#Plot the results:\n",
    "\n",
    "plt.plot(newAmps)\n",
    "plt.title(\"Amplitude After Weighted Average\")\n",
    "plt.show()\n",
    "\n",
    "oldAmps = np.abs(iaccSums + 1j*qaccSums)\n",
    "print(\"Range before weighting: \", np.amax(oldAmps) - np.amin(oldAmps))\n",
    "print(\"Range after weighting: \", np.amax(newAmps) - np.amin(newAmps))"
   ]
  },
  {
   "cell_type": "code",
   "execution_count": null,
   "metadata": {},
   "outputs": [],
   "source": []
  }
 ],
 "metadata": {
  "kernelspec": {
   "display_name": "Python 3",
   "language": "python",
   "name": "python3"
  },
  "language_info": {
   "codemirror_mode": {
    "name": "ipython",
    "version": 3
   },
   "file_extension": ".py",
   "mimetype": "text/x-python",
   "name": "python",
   "nbconvert_exporter": "python",
   "pygments_lexer": "ipython3",
   "version": "3.6.5"
  }
 },
 "nbformat": 4,
 "nbformat_minor": 4
}
