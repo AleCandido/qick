{
 "cells": [
  {
   "cell_type": "markdown",
   "metadata": {},
   "source": [
    "# <center> Sweeping variables demonstration\n",
    "\n",
    "### <center> In this demo you will sweep the amplitude of a pulse in loopback to demonstrate control over the QICK. \n",
    "\n",
    "We will sweep in two ways:\n",
    "* Within the QICK assembly language (advantage: faster, disadvantage: does not maintain phase coherent readout)\n",
    "* With a Python outer loop (advantage: maintains phase coherent readout, disadvantage: slower)"
   ]
  },
  {
   "cell_type": "code",
   "execution_count": 1,
   "metadata": {},
   "outputs": [
    {
     "data": {
      "application/javascript": [
       "\n",
       "try {\n",
       "require(['notebook/js/codecell'], function(codecell) {\n",
       "  codecell.CodeCell.options_default.highlight_modes[\n",
       "      'magic_text/x-csrc'] = {'reg':[/^%%pybind11/]};\n",
       "  Jupyter.notebook.events.one('kernel_ready.Kernel', function(){\n",
       "      Jupyter.notebook.get_cells().map(function(cell){\n",
       "          if (cell.cell_type == 'code'){ cell.auto_highlight(); } }) ;\n",
       "  });\n",
       "});\n",
       "} catch (e) {};\n"
      ]
     },
     "metadata": {},
     "output_type": "display_data"
    },
    {
     "name": "stdout",
     "output_type": "stream",
     "text": [
      "Populating the interactive namespace from numpy and matplotlib\n"
     ]
    }
   ],
   "source": [
    "# Import the QICK drivers and auxiliary libraries\n",
    "from qick import *\n",
    "from qick.helpers import gauss\n",
    "import time\n",
    "%pylab inline"
   ]
  },
  {
   "cell_type": "code",
   "execution_count": 2,
   "metadata": {},
   "outputs": [],
   "source": [
    "# Load bitstream with custom overlay\n",
    "soc = QickSoc('../qick_lib/qick.bit')\n",
    "# Set the loopback DAC channel to be in 1st Nyquist zone mode\n",
    "soc.set_nyquist(ch=6,nqz=1); "
   ]
  },
  {
   "cell_type": "markdown",
   "metadata": {},
   "source": [
    "### Hardware Configuration\n",
    "\n",
    "tProc channel 6   : DAC 229 CH3  <-> Readout channel 1 : ADC 224 CH1"
   ]
  },
  {
   "cell_type": "code",
   "execution_count": 3,
   "metadata": {},
   "outputs": [],
   "source": [
    "class LoopbackProgram(AveragerProgram):\n",
    "    def __init__(self,cfg):\n",
    "        AveragerProgram.__init__(self,cfg)\n",
    "\n",
    "    def initialize(self):\n",
    "        cfg=self.cfg   \n",
    "        r_freq=self.sreg(cfg[\"res_ch\"], \"freq\")   #Get frequency register for res_ch\n",
    "        self.cfg[\"adc_lengths\"]=[self.cfg[\"readout_length\"]]*2          #add length of adc acquisition to config\n",
    "        self.cfg[\"adc_freqs\"]=[adcfreq(self.cfg[\"pulse_freq\"])]*2   #add frequency of adc ddc to config\n",
    "        \n",
    "        if self.cfg[\"pulse_style\"] == \"const\":\n",
    "            self.add_pulse(ch=self.cfg[\"res_ch\"], name=\"measure\", style=self.cfg[\"pulse_style\"], length=self.cfg[\"pulse_length\"])  #add a constant pulse to the pulse library\n",
    "        if self.cfg[\"pulse_style\"] == \"arb\":\n",
    "            self.add_pulse(ch=self.cfg[\"res_ch\"], name=\"measure\", style=self.cfg[\"pulse_style\"], idata = self.cfg[\"idata\"]) \n",
    "        \n",
    "        freq=freq2reg(adcfreq(cfg[\"pulse_freq\"]))  # convert frequency to dac frequency (ensuring it is an available adc frequency)\n",
    "        self.pulse(ch=cfg[\"res_ch\"], name=\"measure\", freq=freq, phase=0, gain=cfg[\"pulse_gain\"], t= 0, play=False) # pre-configure readout pulse\n",
    "        self.synci(200)  # give processor some time to configure pulses\n",
    "    \n",
    "    def body(self):\n",
    "        self.trigger_adc(adc1=1, adc2=1,adc_trig_offset=self.cfg[\"adc_trig_offset\"])  # trigger the adc acquisition\n",
    "        if self.cfg[\"pulse_style\"] == \"const\":\n",
    "            self.pulse(ch=self.cfg[\"res_ch\"], length=self.cfg[\"pulse_length\"], play=True) # play readout pulse\n",
    "        if self.cfg[\"pulse_style\"] == \"arb\":\n",
    "            self.pulse(ch=self.cfg[\"res_ch\"], play=True) # play readout pulse\n",
    "        self.sync_all(us2cycles(self.cfg[\"relax_delay\"]))  # sync all channels"
   ]
  },
  {
   "cell_type": "code",
   "execution_count": 4,
   "metadata": {},
   "outputs": [],
   "source": [
    "class SweepProgram(RAveragerProgram):\n",
    "    def __init__(self,cfg):\n",
    "        AveragerProgram.__init__(self,cfg)\n",
    "\n",
    "    def initialize(self):\n",
    "        cfg=self.cfg   \n",
    "        self.r_rp=self.ch_page(self.cfg[\"res_ch\"])     # get register page for res_ch\n",
    "        self.r_gain=self.sreg(cfg[\"res_ch\"], \"gain\")   #Get gain register for res_ch\n",
    "        \n",
    "        r_freq=self.sreg(cfg[\"res_ch\"], \"freq\")   #Get frequency register for res_ch\n",
    "        self.cfg[\"adc_lengths\"]=[self.cfg[\"readout_length\"]]*2          #add length of adc acquisition to config\n",
    "        self.cfg[\"adc_freqs\"]=[adcfreq(self.cfg[\"pulse_freq\"])]*2   #add frequency of adc ddc to config\n",
    "        \n",
    "        self.add_pulse(ch=self.cfg[\"res_ch\"], name=\"measure\", style=self.cfg[\"pulse_style\"], length=self.cfg[\"pulse_length\"])  #add a constant pulse to the pulse library\n",
    "        freq=freq2reg(adcfreq(cfg[\"pulse_freq\"]))  # convert frequency to dac frequency (ensuring it is an available adc frequency)\n",
    "        self.pulse(ch=cfg[\"res_ch\"], name=\"measure\", freq=freq, phase=0, gain=cfg[\"start\"], t= 0, play=False) # pre-configure readout pulse\n",
    "#         self.synci(200)  # give processor some time to configure pulses\n",
    "        self.sync_all(us2cycles(500))\n",
    "\n",
    "    def body(self):        \n",
    "        self.sync_all(us2cycles(0.05)) # align channels and wait 50ns\n",
    "        self.trigger_adc(adc1=1, adc2=1,adc_trig_offset=self.cfg[\"adc_trig_offset\"])  # trigger the adc acquisition\n",
    "        self.pulse(ch=self.cfg[\"res_ch\"], length=self.cfg[\"pulse_length\"], play=True) # play readout pulse\n",
    "        self.sync_all(us2cycles(self.cfg[\"relax_delay\"]))  # sync all channels\n",
    "        self.synci(1000)\n",
    "        \n",
    "    def update(self):\n",
    "        self.mathi(self.r_rp, self.r_gain, self.r_gain, '+', self.cfg[\"step\"]) # update gain of the pulse"
   ]
  },
  {
   "cell_type": "markdown",
   "metadata": {},
   "source": [
    "### Sweeping via the QICK assembly language\n"
   ]
  },
  {
   "cell_type": "code",
   "execution_count": 5,
   "metadata": {},
   "outputs": [
    {
     "data": {
      "application/vnd.jupyter.widget-view+json": {
       "model_id": "c76762a4c50c44f3bf878bc3443a71e0",
       "version_major": 2,
       "version_minor": 0
      },
      "text/plain": [
       "HBox(children=(IntProgress(value=0, max=1000), HTML(value='')))"
      ]
     },
     "metadata": {},
     "output_type": "display_data"
    },
    {
     "name": "stdout",
     "output_type": "stream",
     "text": [
      "\n"
     ]
    }
   ],
   "source": [
    "config={\"res_ch\":6, # --Fixed\n",
    "        \"relax_delay\":0, # --Fixed\n",
    "        \"res_phase\":0, # --Fixed\n",
    "        \"pulse_style\": \"const\", # --Fixed\n",
    "        \"pulse_length\":100, # [Clock ticks]        \n",
    "        \"readout_length\":200, # [Clock ticks]\n",
    "        \"pulse_gain\":0, # [DAC units]\n",
    "        \"pulse_freq\": 100, # [MHz]\n",
    "        \"adc_trig_offset\": 100, # [Clock ticks]\n",
    "        \"reps\":50, \n",
    "        # New variables\n",
    "        \"expts\": 20,\n",
    "        \"start\":0, # [DAC units]\n",
    "        \"step\":100 # [DAC units]\n",
    "       }\n",
    "\n",
    "prog =SweepProgram(config)\n",
    "expt_pts, avg_di, avg_dq, avg_amp = prog.acquire(soc, load_pulses=True)"
   ]
  },
  {
   "cell_type": "code",
   "execution_count": null,
   "metadata": {},
   "outputs": [],
   "source": []
  },
  {
   "cell_type": "code",
   "execution_count": 6,
   "metadata": {},
   "outputs": [
    {
     "data": {
      "image/png": "[encoded data removed]",
      "text/plain": [
       "<matplotlib.figure.Figure at 0x7f8ffe8e10>"
      ]
     },
     "metadata": {},
     "output_type": "display_data"
    }
   ],
   "source": [
    "# Plot results.\n",
    "plt.figure(1)\n",
    "plt.plot(expt_pts, avg_di[1][0], label=\"I value; ADC 0\")\n",
    "plt.plot(expt_pts, avg_dq[1][0], label=\"Q value; ADC 0\")\n",
    "plt.plot(expt_pts, avg_amp[1][0], label=\"Amplitude; ADC 0\")\n",
    "# plt.plot(expt_pts, avg_di1, label=\"I value; ADC 1\")\n",
    "# plt.plot(expt_pts, avg_dq1, label=\"Q value; ADC 1\")\n",
    "# plt.plot(expt_pts, avg_amp1, label=\"Amplitude; ADC 1\")\n",
    "plt.ylabel(\"a.u.\")\n",
    "plt.xlabel(\"Pulse gain (DAC units)\")\n",
    "plt.title(\"Averages = \" + str(config[\"reps\"]))\n",
    "plt.legend()\n",
    "plt.savefig(\"images/Gain_sweep.pdf\", dpi=350)"
   ]
  },
  {
   "cell_type": "markdown",
   "metadata": {},
   "source": [
    "### Sweeping via a Python outer loop"
   ]
  },
  {
   "cell_type": "code",
   "execution_count": 7,
   "metadata": {},
   "outputs": [],
   "source": [
    "config={\"res_ch\":6, # --Fixed\n",
    "        \"relax_delay\":0, # --Fixed\n",
    "        \"res_phase\":0, # --Fixed\n",
    "        \"pulse_style\": \"const\", # --Fixed\n",
    "        \"pulse_length\":100, # [Clock ticks]        \n",
    "        \"readout_length\":200, # [Clock ticks]\n",
    "        \"pulse_gain\":0, # [DAC units]\n",
    "        \"pulse_freq\": 100, # [MHz]\n",
    "        \"adc_trig_offset\": 100, # [Clock ticks]\n",
    "        \"reps\":50, \n",
    "       }\n",
    "\n",
    "prog =LoopbackProgram(config)\n",
    "sweep_cfg={\"start\":0, \"step\":100, \"expts\":20}\n",
    "gpts=sweep_cfg[\"start\"] + sweep_cfg[\"step\"]*np.arange(sweep_cfg[\"expts\"])\n",
    "\n",
    "prog =LoopbackProgram(config)\n",
    "avg_di0, avg_dq0, avg_amp0,avg_di1, avg_dq1, avg_amp1 = prog.acquire(soc, load_pulses=True)\n",
    "    \n",
    "results=[]\n",
    "for g in gpts:\n",
    "    config[\"pulse_gain\"]=int(g)\n",
    "    prog =LoopbackProgram(config)\n",
    "    results.append(prog.acquire(soc, load_pulses=True))\n",
    "results=np.transpose(results)"
   ]
  },
  {
   "cell_type": "code",
   "execution_count": 8,
   "metadata": {},
   "outputs": [
    {
     "data": {
      "image/png": "[encoded data removed]",
      "text/plain": [
       "<matplotlib.figure.Figure at 0x7f8c23c908>"
      ]
     },
     "metadata": {},
     "output_type": "display_data"
    }
   ],
   "source": [
    "plt.figure(2)\n",
    "plt.plot(gpts, results[3],label=\"I value; ADC 0\")\n",
    "plt.plot(gpts, results[4],label=\"Q value; ADC 0\")\n",
    "plt.plot(gpts, results[5],label=\"Amplitude; ADC 0\")\n",
    "plt.ylabel(\"a.u.\")\n",
    "plt.xlabel(\"Pulse gain (DAC units)\")\n",
    "plt.title(\"Averages = \" + str(config[\"reps\"]))\n",
    "plt.legend()\n",
    "plt.savefig(\"images/Gain_sweep_python.pdf\", dpi=350)"
   ]
  },
  {
   "cell_type": "code",
   "execution_count": null,
   "metadata": {},
   "outputs": [],
   "source": []
  },
  {
   "cell_type": "code",
   "execution_count": null,
   "metadata": {},
   "outputs": [],
   "source": []
  }
 ],
 "metadata": {
  "kernelspec": {
   "display_name": "Python 3",
   "language": "python",
   "name": "python3"
  },
  "language_info": {
   "codemirror_mode": {
    "name": "ipython",
    "version": 3
   },
   "file_extension": ".py",
   "mimetype": "text/x-python",
   "name": "python",
   "nbconvert_exporter": "python",
   "pygments_lexer": "ipython3",
   "version": "3.6.5"
  }
 },
 "nbformat": 4,
 "nbformat_minor": 2
}
