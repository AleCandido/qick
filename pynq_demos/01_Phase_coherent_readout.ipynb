{
 "cells": [
  {
   "cell_type": "markdown",
   "metadata": {},
   "source": [
    "# <center> Calibrating the QICK for phase coherent readout\n",
    "\n",
    "### <center> In this demo you will calibrate the QICK clocks to have the same phase.\n",
    "\n",
    "Before you measure a resonance with your QICK this is the first calibration you should do. It is a calibration for the two synthesizers which belong to the QICK signal generator and the QICK readout, respectively. The two synthesizers are running at the same frequency, but there is initially a constant phase difference $\\phi$ between these two synthesizers. Doing this calibration results in you finding that phase difference $\\phi$. In your subsequent measurements, you can specify this initial phase difference $\\phi$ to compensate for it. From then on, the signal generator can synthesize any frequency and then if you read in data (doing a digital down conversion in the process), the readout will still be phase coherent with respect to the signal generator. \n",
    "\n",
    "<center> The angular frequency $\\omega = 2 \\pi f$ .\n",
    "\n",
    "<center> Also, $\\phi = (\\omega t) + \\phi_0$. \n",
    "\n",
    "<center> So, $\\phi = (2 \\pi f)*t + \\phi_0 $. \n",
    "\n",
    "If $f$ goes up linearly, the phase difference will also change linearly (it will either increase or decrease, depending on whether the readout is ahead or behind of the signal generator- this is randomly determined each time the board clocks are initialized). Once the phase hits 360 degrees it cycles back to 0 again. For a readout frequency of interest $f_i$ there is a corresponding phase difference $\\phi_i$. In this demonstration we assume $f_i \\approx 180$ MHz. You can plot $\\phi(f)$ and evaluate $\\phi(f_i)=\\phi_i$."
   ]
  },
  {
   "cell_type": "code",
   "execution_count": 1,
   "metadata": {},
   "outputs": [
    {
     "data": {
      "application/javascript": [
       "\n",
       "try {\n",
       "require(['notebook/js/codecell'], function(codecell) {\n",
       "  codecell.CodeCell.options_default.highlight_modes[\n",
       "      'magic_text/x-csrc'] = {'reg':[/^%%pybind11/]};\n",
       "  Jupyter.notebook.events.one('kernel_ready.Kernel', function(){\n",
       "      Jupyter.notebook.get_cells().map(function(cell){\n",
       "          if (cell.cell_type == 'code'){ cell.auto_highlight(); } }) ;\n",
       "  });\n",
       "});\n",
       "} catch (e) {};\n"
      ]
     },
     "metadata": {},
     "output_type": "display_data"
    },
    {
     "name": "stdout",
     "output_type": "stream",
     "text": [
      "Populating the interactive namespace from numpy and matplotlib\n"
     ]
    }
   ],
   "source": [
    "# Import the QICK drivers and auxiliary libraries\n",
    "from qick import *\n",
    "%pylab inline"
   ]
  },
  {
   "cell_type": "code",
   "execution_count": 2,
   "metadata": {},
   "outputs": [],
   "source": [
    "# Load bitstream with custom overlay\n",
    "soc = QickSoc()"
   ]
  },
  {
   "cell_type": "markdown",
   "metadata": {},
   "source": [
    "\n",
    "### Hardware Configuration\n",
    "\n",
    "tProc channel 7   : DAC 229 CH3  <-> Readout channel 0 : ADC 224 CH0\n",
    "* This program has an associated assembly language file which needs to be located in the same directory when you run it: <code> phase_calibration.asm </code>\n"
   ]
  },
  {
   "cell_type": "code",
   "execution_count": 3,
   "metadata": {},
   "outputs": [
    {
     "name": "stdout",
     "output_type": "stream",
     "text": [
      "Iteration i = 0, freq_i = 420.000000 MHz, phi_i = 238.808185 degrees\n",
      "Iteration i = 1, freq_i = 420.034483 MHz, phi_i = 217.043682 degrees\n",
      "Iteration i = 2, freq_i = 420.068966 MHz, phi_i = 195.264870 degrees\n",
      "Iteration i = 3, freq_i = 420.103448 MHz, phi_i = 173.481337 degrees\n",
      "Iteration i = 4, freq_i = 420.137931 MHz, phi_i = 151.660396 degrees\n",
      "Iteration i = 5, freq_i = 420.172414 MHz, phi_i = 129.865373 degrees\n",
      "Iteration i = 6, freq_i = 420.206897 MHz, phi_i = 107.956891 degrees\n",
      "Iteration i = 7, freq_i = 420.241379 MHz, phi_i = 86.203174 degrees\n",
      "Iteration i = 8, freq_i = 420.275862 MHz, phi_i = 64.388774 degrees\n",
      "Iteration i = 9, freq_i = 420.310345 MHz, phi_i = 42.609386 degrees\n",
      "Iteration i = 10, freq_i = 420.344828 MHz, phi_i = 20.833213 degrees\n",
      "Iteration i = 11, freq_i = 420.379310 MHz, phi_i = 358.899679 degrees\n",
      "Iteration i = 12, freq_i = 420.413793 MHz, phi_i = 337.142699 degrees\n",
      "Iteration i = 13, freq_i = 420.448276 MHz, phi_i = 315.341618 degrees\n",
      "Iteration i = 14, freq_i = 420.482759 MHz, phi_i = 293.556108 degrees\n",
      "Iteration i = 15, freq_i = 420.517241 MHz, phi_i = 271.780578 degrees\n",
      "Iteration i = 16, freq_i = 420.551724 MHz, phi_i = 249.874398 degrees\n",
      "Iteration i = 17, freq_i = 420.586207 MHz, phi_i = 228.080719 degrees\n",
      "Iteration i = 18, freq_i = 420.620690 MHz, phi_i = 206.281412 degrees\n",
      "Iteration i = 19, freq_i = 420.655172 MHz, phi_i = 184.509191 degrees\n",
      "Iteration i = 20, freq_i = 420.689655 MHz, phi_i = 162.728458 degrees\n",
      "Iteration i = 21, freq_i = 420.724138 MHz, phi_i = 140.836132 degrees\n",
      "Iteration i = 22, freq_i = 420.758621 MHz, phi_i = 119.055994 degrees\n",
      "Iteration i = 23, freq_i = 420.793103 MHz, phi_i = 97.291632 degrees\n",
      "Iteration i = 24, freq_i = 420.827586 MHz, phi_i = 75.458388 degrees\n",
      "Iteration i = 25, freq_i = 420.862069 MHz, phi_i = 53.693544 degrees\n",
      "Iteration i = 26, freq_i = 420.896552 MHz, phi_i = 31.789909 degrees\n",
      "Iteration i = 27, freq_i = 420.931034 MHz, phi_i = 10.000217 degrees\n",
      "Iteration i = 28, freq_i = 420.965517 MHz, phi_i = 348.207338 degrees\n",
      "Iteration i = 29, freq_i = 421.000000 MHz, phi_i = 326.454828 degrees\n"
     ]
    }
   ],
   "source": [
    "# Constant, real envelope.\n",
    "xg_i = 30000*np.ones(320)\n",
    "xg_q = np.zeros(len(xg_i))\n",
    "\n",
    "# Upload waveform.\n",
    "gen = soc.gens[6].load(addr=0,xin_i=xg_i, xin_q=xg_q)\n",
    "\n",
    "# Output frequency f0_v.\n",
    "###################\n",
    "# Try it yourself ! Change the output frequency.\n",
    "###################\n",
    "# f0_v = np.linspace(180,180.006,70)\n",
    "f0_v = np.linspace(420,421,30) \n",
    "\n",
    "fi_v = np.zeros(len(f0_v))\n",
    "td_v = np.zeros(len(f0_v))\n",
    "for ii in np.arange(len(f0_v)):\n",
    "    f0 = f0_v[ii]\n",
    "    \n",
    "    f0_dac_int = freq2reg(f=f0) # Frequency of signal generator\n",
    "    soc.tproc.single_write(addr=123, data=f0_dac_int)\n",
    "\n",
    "    # Output phase.\n",
    "    fi0 = 0\n",
    "    tmp = deg2reg(fi0)\n",
    "    soc.tproc.single_write(addr=124, data=tmp)\n",
    "\n",
    "    # Configure readout.\n",
    "    soc.readouts[0].set_out(\"product\")\n",
    "    #soc.readouts[0].set_freq(f0)\n",
    "    soc.readouts[0].set_freq_int(2*f0_dac_int) # Using the same frequency multiplied by 2\n",
    "    soc.avg_bufs[0].config(address=0, length=1000)\n",
    "    soc.avg_bufs[0].enable()\n",
    "    \n",
    "#     time.sleep(1)\n",
    "\n",
    "    # Load program.\n",
    "    soc.tproc.load_program(\"01_phase_calibration.asm\")\n",
    "\n",
    "    # Start tProc.\n",
    "    soc.tproc.stop()\n",
    "    soc.tproc.start()\n",
    "\n",
    "    time.sleep(0.1)\n",
    "\n",
    "    # Get data.\n",
    "    [xi,xq] = soc.get_decimated(ch=0, length=1000)\n",
    "    x = xi +1j*xq\n",
    "\n",
    "    # Average to improve calibration.\n",
    "    xavg = np.sum(x)/len(x)\n",
    "\n",
    "    # Calculate calibration phase.\n",
    "    A = np.abs(xavg)\n",
    "    fi = np.angle(xavg,deg=True)\n",
    "    if fi<0:\n",
    "        fi = fi+360\n",
    "\n",
    "    print(\"Iteration i = %d, freq_i = %f MHz, phi_i = %f degrees\" %(ii,f0, fi))\n",
    "    \n",
    "    # Save results.\n",
    "    fi_v[ii] = fi"
   ]
  },
  {
   "cell_type": "code",
   "execution_count": 4,
   "metadata": {},
   "outputs": [
    {
     "data": {
      "image/png": "[encoded data removed]",
      "text/plain": [
       "<matplotlib.figure.Figure at 0x7f7810dc18>"
      ]
     },
     "metadata": {},
     "output_type": "display_data"
    }
   ],
   "source": [
    "# Plot results.\n",
    "plt.figure(2)\n",
    "plt.plot(f0_v,fi_v)\n",
    "plt.plot(f0_v,fi_v, marker='.', linestyle=\"None\",color=\"Red\")\n",
    "plt.title(r\"$\\phi$ vs $f$\")\n",
    "plt.ylabel(r\"$\\phi$ (degrees)\")\n",
    "plt.xlabel(r\"$f$ (MHz)\")\n",
    "plt.savefig(\"images/Phase_calibration.pdf\", dpi=350)"
   ]
  },
  {
   "cell_type": "markdown",
   "metadata": {},
   "source": [
    "For example, if your cavity tone was generated with an IF of 420.9 MHz, you would look at the above table and see that <code> freq_i </code> = 420.9 MHz corresponds to <code> phi_i </code> = 308.7 degrees (that's specific to this board session, for your QICK it will be different). That value of <code> phi_i </code> will be used as the value of the <code> config </code> file parameter associated with the offset phase of the cavity pulse (the parameter is called <code> res_phase </code> in the demo 00_Send_recieve_pulse)."
   ]
  },
  {
   "cell_type": "code",
   "execution_count": null,
   "metadata": {},
   "outputs": [],
   "source": []
  },
  {
   "cell_type": "code",
   "execution_count": null,
   "metadata": {},
   "outputs": [],
   "source": []
  }
 ],
 "metadata": {
  "kernelspec": {
   "display_name": "Python 3",
   "language": "python",
   "name": "python3"
  },
  "language_info": {
   "codemirror_mode": {
    "name": "ipython",
    "version": 3
   },
   "file_extension": ".py",
   "mimetype": "text/x-python",
   "name": "python",
   "nbconvert_exporter": "python",
   "pygments_lexer": "ipython3",
   "version": "3.6.5"
  }
 },
 "nbformat": 4,
 "nbformat_minor": 4
}
