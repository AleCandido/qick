{
 "cells": [
  {
   "cell_type": "markdown",
   "metadata": {},
   "source": [
    "# <center> Calibrating the QICK for phase coherent readout\n",
    "\n",
    "### <center> In this demo you will calibrate the QICK clocks to have the same phase.\n",
    "\n",
    "Before you measure a resonance with your QICK this is the first calibration you should do. It is a calibration for the two synthesizers which belong to the QICK signal generator and the QICK readout, respectively. The two synthesizers are running at the same frequency, but there is initially a constant phase difference $\\phi$ between these two synthesizers. Doing this calibration results in you finding that phase difference $\\phi$. In your subsequent measurements, you can specify this initial phase difference $\\phi$ to compensate for it. From then on, the signal generator can synthesize any frequency and then if you read in data (doing a digital down conversion in the process), the readout will still be phase coherent with respect to the signal generator. \n",
    "\n",
    "<center> The angular frequency $\\omega = 2 \\pi f$ .\n",
    "\n",
    "<center> Also, $\\phi = (\\omega t) + \\phi_0$. \n",
    "\n",
    "<center> So, $\\phi = (2 \\pi f)*t + \\phi_0 $. \n",
    "\n",
    "If $f$ goes up linearly, the phase difference will also change linearly (it will either increase or decrease, depending on whether the readout is ahead or behind of the signal generator- this is randomly determined each time the board clocks are initialized). Once the phase hits 360 degrees it cycles back to 0 again. For a readout frequency of interest $f_i$ there is a corresponding phase difference $\\phi_i$. In this demonstration we assume $f_i \\approx 180$ MHz. You can plot $\\phi(f)$ and evaluate $\\phi(f_i)=\\phi_i$."
   ]
  },
  {
   "cell_type": "code",
   "execution_count": 1,
   "metadata": {},
   "outputs": [
    {
     "data": {
      "application/javascript": [
       "\n",
       "try {\n",
       "require(['notebook/js/codecell'], function(codecell) {\n",
       "  codecell.CodeCell.options_default.highlight_modes[\n",
       "      'magic_text/x-csrc'] = {'reg':[/^%%pybind11/]};\n",
       "  Jupyter.notebook.events.one('kernel_ready.Kernel', function(){\n",
       "      Jupyter.notebook.get_cells().map(function(cell){\n",
       "          if (cell.cell_type == 'code'){ cell.auto_highlight(); } }) ;\n",
       "  });\n",
       "});\n",
       "} catch (e) {};\n"
      ]
     },
     "metadata": {},
     "output_type": "display_data"
    },
    {
     "name": "stdout",
     "output_type": "stream",
     "text": [
      "Populating the interactive namespace from numpy and matplotlib\n"
     ]
    }
   ],
   "source": [
    "# Import the QICK drivers and auxiliary libraries\n",
    "from qick import *\n",
    "%pylab inline"
   ]
  },
  {
   "cell_type": "code",
   "execution_count": 2,
   "metadata": {},
   "outputs": [],
   "source": [
    "# Load bitstream with custom overlay\n",
    "soc = QickSoc()"
   ]
  },
  {
   "cell_type": "markdown",
   "metadata": {},
   "source": [
    "\n",
    "### Hardware Configuration\n",
    "\n",
    "tProc channel 7   : DAC 229 CH3  <-> Readout channel 0 : ADC 224 CH0\n",
    "* This program has an associated assembly language file which needs to be located in the same directory when you run it: <code> phase_calibration.asm </code>\n"
   ]
  },
  {
   "cell_type": "code",
   "execution_count": 7,
   "metadata": {},
   "outputs": [
    {
     "name": "stdout",
     "output_type": "stream",
     "text": [
      "Iteration i = 0, freq_i = 100.007500 MHz, phi_i = 199.104192 degrees\n",
      "Iteration i = 1, freq_i = 100.007625 MHz, phi_i = 188.621903 degrees\n",
      "Iteration i = 2, freq_i = 100.007750 MHz, phi_i = 178.049071 degrees\n",
      "Iteration i = 3, freq_i = 100.007875 MHz, phi_i = 167.570076 degrees\n",
      "Iteration i = 4, freq_i = 100.008000 MHz, phi_i = 156.985169 degrees\n",
      "Iteration i = 5, freq_i = 100.008125 MHz, phi_i = 146.512192 degrees\n",
      "Iteration i = 6, freq_i = 100.008250 MHz, phi_i = 136.055701 degrees\n",
      "Iteration i = 7, freq_i = 100.008375 MHz, phi_i = 125.455873 degrees\n",
      "Iteration i = 8, freq_i = 100.008500 MHz, phi_i = 115.005619 degrees\n",
      "Iteration i = 9, freq_i = 100.008625 MHz, phi_i = 104.523935 degrees\n",
      "Iteration i = 10, freq_i = 100.008750 MHz, phi_i = 93.945564 degrees\n",
      "Iteration i = 11, freq_i = 100.008875 MHz, phi_i = 83.473408 degrees\n",
      "Iteration i = 12, freq_i = 100.009000 MHz, phi_i = 72.888737 degrees\n",
      "Iteration i = 13, freq_i = 100.009125 MHz, phi_i = 62.424571 degrees\n",
      "Iteration i = 14, freq_i = 100.009250 MHz, phi_i = 51.955738 degrees\n",
      "Iteration i = 15, freq_i = 100.009375 MHz, phi_i = 41.359090 degrees\n",
      "Iteration i = 16, freq_i = 100.009500 MHz, phi_i = 30.903729 degrees\n",
      "Iteration i = 17, freq_i = 100.009625 MHz, phi_i = 20.314413 degrees\n",
      "Iteration i = 18, freq_i = 100.009750 MHz, phi_i = 9.848951 degrees\n",
      "Iteration i = 19, freq_i = 100.009875 MHz, phi_i = 359.372596 degrees\n",
      "Iteration i = 20, freq_i = 100.010000 MHz, phi_i = 348.783280 degrees\n",
      "Iteration i = 21, freq_i = 100.010125 MHz, phi_i = 338.319377 degrees\n",
      "Iteration i = 22, freq_i = 100.010250 MHz, phi_i = 327.850371 degrees\n",
      "Iteration i = 23, freq_i = 100.010375 MHz, phi_i = 317.267889 degrees\n",
      "Iteration i = 24, freq_i = 100.010500 MHz, phi_i = 306.802232 degrees\n",
      "Iteration i = 25, freq_i = 100.010625 MHz, phi_i = 296.212179 degrees\n",
      "Iteration i = 26, freq_i = 100.010750 MHz, phi_i = 285.744062 degrees\n",
      "Iteration i = 27, freq_i = 100.010875 MHz, phi_i = 275.276482 degrees\n",
      "Iteration i = 28, freq_i = 100.011000 MHz, phi_i = 264.681238 degrees\n",
      "Iteration i = 29, freq_i = 100.011125 MHz, phi_i = 254.224667 degrees\n",
      "Iteration i = 30, freq_i = 100.011250 MHz, phi_i = 243.739891 degrees\n",
      "Iteration i = 31, freq_i = 100.011375 MHz, phi_i = 233.172826 degrees\n",
      "Iteration i = 32, freq_i = 100.011500 MHz, phi_i = 222.710343 degrees\n",
      "Iteration i = 33, freq_i = 100.011625 MHz, phi_i = 212.128186 degrees\n",
      "Iteration i = 34, freq_i = 100.011750 MHz, phi_i = 201.654410 degrees\n",
      "Iteration i = 35, freq_i = 100.011875 MHz, phi_i = 191.183844 degrees\n",
      "Iteration i = 36, freq_i = 100.012000 MHz, phi_i = 180.597638 degrees\n",
      "Iteration i = 37, freq_i = 100.012125 MHz, phi_i = 170.123089 degrees\n",
      "Iteration i = 38, freq_i = 100.012250 MHz, phi_i = 159.538070 degrees\n",
      "Iteration i = 39, freq_i = 100.012375 MHz, phi_i = 149.070209 degrees\n"
     ]
    }
   ],
   "source": [
    "# Constant, real envelope.\n",
    "xg_i = 30000*np.ones(320)\n",
    "xg_q = np.zeros(len(xg_i))\n",
    "\n",
    "# Upload waveform.\n",
    "gen = soc.gens[6].load(addr=0,xin_i=xg_i, xin_q=xg_q)\n",
    "\n",
    "# Output frequency f0_v.\n",
    "###################\n",
    "# Try it yourself ! Change the output frequency.\n",
    "###################\n",
    "\n",
    "# params 1\n",
    "start=100\n",
    "step=0.0005\n",
    "expts=40\n",
    "\n",
    "# # params 2\n",
    "start=100\n",
    "step=0.000125\n",
    "expts=160\n",
    "\n",
    "# # params 3\n",
    "start=100.0075\n",
    "step=0.000125\n",
    "expts=40\n",
    "            \n",
    "f0_v = np.arange(0,expts)*step+start\n",
    "# f0_v = np.arange(420,421,30) \n",
    "\n",
    "fi_v = np.zeros(len(f0_v))\n",
    "td_v = np.zeros(len(f0_v))\n",
    "for ii in np.arange(len(f0_v)):\n",
    "    f0 = f0_v[ii]\n",
    "    \n",
    "    f0_dac_int = freq2reg(f=f0) # Frequency of signal generator\n",
    "    soc.tproc.single_write(addr=123, data=f0_dac_int)\n",
    "\n",
    "    # Output phase.\n",
    "    fi0 = 0\n",
    "    tmp = deg2reg(fi0)\n",
    "    soc.tproc.single_write(addr=124, data=tmp)\n",
    "\n",
    "    # Configure readout.\n",
    "    soc.readouts[0].set_out(\"product\")\n",
    "    #soc.readouts[0].set_freq(f0)\n",
    "    soc.readouts[0].set_freq_int(2*f0_dac_int) # Using the same frequency multiplied by 2\n",
    "    soc.avg_bufs[0].config(address=0, length=1000)\n",
    "    soc.avg_bufs[0].enable()\n",
    "    \n",
    "#     time.sleep(1)\n",
    "\n",
    "    # Load program.\n",
    "    soc.tproc.load_program(\"01_phase_calibration.asm\")\n",
    "\n",
    "    # Start tProc.\n",
    "    soc.tproc.stop()\n",
    "    soc.tproc.start()\n",
    "\n",
    "    time.sleep(0.1)\n",
    "\n",
    "    # Get data.\n",
    "    [xi,xq] = soc.get_decimated(ch=0, length=1000)\n",
    "    x = xi +1j*xq\n",
    "\n",
    "    # Average to improve calibration.\n",
    "    xavg = np.sum(x)/len(x)\n",
    "\n",
    "    # Calculate calibration phase.\n",
    "    A = np.abs(xavg)\n",
    "    fi = np.angle(xavg,deg=True)\n",
    "    if fi<0:\n",
    "        fi = fi+360\n",
    "\n",
    "    print(\"Iteration i = %d, freq_i = %f MHz, phi_i = %f degrees\" %(ii,f0, fi))\n",
    "    \n",
    "    # Save results.\n",
    "    fi_v[ii] = fi"
   ]
  },
  {
   "cell_type": "code",
   "execution_count": 8,
   "metadata": {},
   "outputs": [
    {
     "data": {
      "image/png": "[encoded data removed]",
      "text/plain": [
       "<matplotlib.figure.Figure at 0x7f980c4048>"
      ]
     },
     "metadata": {},
     "output_type": "display_data"
    }
   ],
   "source": [
    "# Plot results.\n",
    "plt.figure(2)\n",
    "plt.plot(f0_v,fi_v)\n",
    "plt.plot(f0_v,fi_v, marker='.', linestyle=\"None\",color=\"Red\")\n",
    "plt.title(r\"$\\phi$ vs $f$\")\n",
    "plt.ylabel(r\"$\\phi$ (degrees)\")\n",
    "plt.xlabel(r\"$f$ (MHz)\")\n",
    "plt.savefig(\"images/Phase_calibration.pdf\", dpi=350)"
   ]
  },
  {
   "cell_type": "markdown",
   "metadata": {},
   "source": [
    "For example, if your cavity tone was generated with an IF of 420.9 MHz, you would look at the above table and see that <code> freq_i </code> = 420.9 MHz corresponds to <code> phi_i </code> = 308.7 degrees (that's specific to this board session, for your QICK it will be different). That value of <code> phi_i </code> will be used as the value of the <code> config </code> file parameter associated with the offset phase of the cavity pulse (the parameter is called <code> res_phase </code> in the demo 00_Send_recieve_pulse)."
   ]
  },
  {
   "cell_type": "code",
   "execution_count": null,
   "metadata": {},
   "outputs": [],
   "source": []
  },
  {
   "cell_type": "code",
   "execution_count": null,
   "metadata": {},
   "outputs": [],
   "source": []
  }
 ],
 "metadata": {
  "kernelspec": {
   "display_name": "Python 3",
   "language": "python",
   "name": "python3"
  },
  "language_info": {
   "codemirror_mode": {
    "name": "ipython",
    "version": 3
   },
   "file_extension": ".py",
   "mimetype": "text/x-python",
   "name": "python",
   "nbconvert_exporter": "python",
   "pygments_lexer": "ipython3",
   "version": "3.6.5"
  }
 },
 "nbformat": 4,
 "nbformat_minor": 4
}
