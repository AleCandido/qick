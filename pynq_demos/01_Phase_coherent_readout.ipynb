{
 "cells": [
  {
   "cell_type": "markdown",
   "metadata": {},
   "source": [
    "# <center> Calibrating the QICK for phase coherent readout\n",
    "\n",
    "### <center> In this demo you will calibrate the QICK clocks to have the same phase.\n",
    "\n",
    "Before you measure a resonance with your QICK this is the first calibration you should do. It is a calibration for the two synthesizers which belong to the QICK signal generator and the QICK readout, respectively. The two synthesizers are running at the same frequency, but there is initially a constant phase difference $\\phi$ between these two synthesizers. Doing this calibration results in you finding that phase difference $\\phi$. In your subsequent measurements, you can specify this initial phase difference $\\phi$ to compensate for it. From then on, the signal generator can synthesize any frequency and then if you read in data (doing a digital down conversion in the process), the readout will still be phase coherent with respect to the signal generator. \n",
    "\n",
    "<center> The angular frequency $\\omega = 2 \\pi f$ .\n",
    "\n",
    "<center> Also, $\\phi = (\\omega t) + \\phi_0$. \n",
    "\n",
    "<center> So, $\\phi = (2 \\pi f)*t + \\phi_0 $. \n",
    "\n",
    "If $f$ goes up linearly, the phase difference will also change linearly (it will either increase or decrease, depending on whether the readout is ahead or behind of the signal generator- this is randomly determined each time the board clocks are initialized). Once the phase hits 360 degrees it cycles back to 0 again. For a readout frequency of interest $f_i$ there is a corresponding phase difference $\\phi_i$. In this demonstration we assume $f_i \\approx 180$ MHz. You can plot $\\phi(f)$ and evaluate $\\phi(f_i)=\\phi_i$."
   ]
  },
  {
   "cell_type": "code",
   "execution_count": 1,
   "metadata": {},
   "outputs": [
    {
     "data": {
      "application/javascript": [
       "\n",
       "try {\n",
       "require(['notebook/js/codecell'], function(codecell) {\n",
       "  codecell.CodeCell.options_default.highlight_modes[\n",
       "      'magic_text/x-csrc'] = {'reg':[/^%%pybind11/]};\n",
       "  Jupyter.notebook.events.one('kernel_ready.Kernel', function(){\n",
       "      Jupyter.notebook.get_cells().map(function(cell){\n",
       "          if (cell.cell_type == 'code'){ cell.auto_highlight(); } }) ;\n",
       "  });\n",
       "});\n",
       "} catch (e) {};\n"
      ]
     },
     "metadata": {},
     "output_type": "display_data"
    },
    {
     "name": "stdout",
     "output_type": "stream",
     "text": [
      "Populating the interactive namespace from numpy and matplotlib\n"
     ]
    }
   ],
   "source": [
    "# Import the QICK drivers and auxiliary libraries\n",
    "from qick import *\n",
    "%pylab inline"
   ]
  },
  {
   "cell_type": "code",
   "execution_count": 2,
   "metadata": {},
   "outputs": [],
   "source": [
    "# Load bitstream with custom overlay\n",
    "soc = QickSoc('../qick_lib/qick.bit')"
   ]
  },
  {
   "cell_type": "markdown",
   "metadata": {},
   "source": [
    "\n",
    "### Hardware Configuration\n",
    "\n",
    "tProc channel 6   : DAC 229 CH2  <-> Readout channel 1 : ADC 224 CH1\n",
    "* This program has an associated assembly language file which needs to be located in the same directory when you run it: <code> phase_calibration.asm </code>\n"
   ]
  },
  {
   "cell_type": "code",
   "execution_count": 3,
   "metadata": {},
   "outputs": [
    {
     "name": "stdout",
     "output_type": "stream",
     "text": [
      "Iteration i = 0, freq_i = 420.000000 MHz, A = 575.192295, phi_i = 329.781350 degrees\n",
      "Iteration i = 1, freq_i = 420.172414 MHz, A = 575.447894, phi_i = 350.961780 degrees\n",
      "Iteration i = 2, freq_i = 420.344828 MHz, A = 575.350556, phi_i = 11.991743 degrees\n",
      "Iteration i = 3, freq_i = 420.517241 MHz, A = 575.389376, phi_i = 33.051365 degrees\n",
      "Iteration i = 4, freq_i = 420.689655 MHz, A = 575.238293, phi_i = 54.107480 degrees\n",
      "Iteration i = 5, freq_i = 420.862069 MHz, A = 575.059660, phi_i = 75.112444 degrees\n",
      "Iteration i = 6, freq_i = 421.034483 MHz, A = 575.214556, phi_i = 96.172367 degrees\n",
      "Iteration i = 7, freq_i = 421.206897 MHz, A = 575.452294, phi_i = 117.213653 degrees\n",
      "Iteration i = 8, freq_i = 421.379310 MHz, A = 575.405472, phi_i = 138.245589 degrees\n",
      "Iteration i = 9, freq_i = 421.551724 MHz, A = 575.099874, phi_i = 159.286829 degrees\n",
      "Iteration i = 10, freq_i = 421.724138 MHz, A = 575.228449, phi_i = 180.328400 degrees\n",
      "Iteration i = 11, freq_i = 421.896552 MHz, A = 574.812569, phi_i = 201.361061 degrees\n",
      "Iteration i = 12, freq_i = 422.068966 MHz, A = 574.811814, phi_i = 222.406482 degrees\n",
      "Iteration i = 13, freq_i = 422.241379 MHz, A = 574.755340, phi_i = 243.427192 degrees\n",
      "Iteration i = 14, freq_i = 422.413793 MHz, A = 575.070645, phi_i = 264.459469 degrees\n",
      "Iteration i = 15, freq_i = 422.586207 MHz, A = 574.977052, phi_i = 285.502385 degrees\n",
      "Iteration i = 16, freq_i = 422.758621 MHz, A = 574.650061, phi_i = 306.548146 degrees\n",
      "Iteration i = 17, freq_i = 422.931034 MHz, A = 574.695214, phi_i = 327.578754 degrees\n",
      "Iteration i = 18, freq_i = 423.103448 MHz, A = 574.757743, phi_i = 348.624007 degrees\n",
      "Iteration i = 19, freq_i = 423.275862 MHz, A = 574.763594, phi_i = 9.701460 degrees\n",
      "Iteration i = 20, freq_i = 423.448276 MHz, A = 574.628762, phi_i = 30.743884 degrees\n",
      "Iteration i = 21, freq_i = 423.620690 MHz, A = 574.516815, phi_i = 51.780330 degrees\n",
      "Iteration i = 22, freq_i = 423.793103 MHz, A = 574.411346, phi_i = 72.820679 degrees\n",
      "Iteration i = 23, freq_i = 423.965517 MHz, A = 574.748802, phi_i = 93.876249 degrees\n",
      "Iteration i = 24, freq_i = 424.137931 MHz, A = 574.447962, phi_i = 114.919557 degrees\n",
      "Iteration i = 25, freq_i = 424.310345 MHz, A = 574.650588, phi_i = 135.949781 degrees\n",
      "Iteration i = 26, freq_i = 424.482759 MHz, A = 574.525978, phi_i = 157.000778 degrees\n",
      "Iteration i = 27, freq_i = 424.655172 MHz, A = 574.413960, phi_i = 178.040298 degrees\n",
      "Iteration i = 28, freq_i = 424.827586 MHz, A = 574.330904, phi_i = 199.076316 degrees\n",
      "Iteration i = 29, freq_i = 425.000000 MHz, A = 574.536903, phi_i = 220.146977 degrees\n"
     ]
    }
   ],
   "source": [
    "# Constant, real envelope.\n",
    "xg_i = 30000*np.ones(320)\n",
    "xg_q = np.zeros(len(xg_i))\n",
    "\n",
    "# Upload waveform.\n",
    "gen = soc.gens[5].load(addr=0,xin_i=xg_i, xin_q=xg_q)\n",
    "\n",
    "# Output frequency f0_v.\n",
    "###################\n",
    "# Try it yourself ! Change the output frequency.\n",
    "###################\n",
    "# f0_v = np.linspace(180,180.006,70)\n",
    "f0_v = np.linspace(420,425,30) \n",
    "\n",
    "fi_v = np.zeros(len(f0_v))\n",
    "td_v = np.zeros(len(f0_v))\n",
    "for ii in np.arange(len(f0_v)):\n",
    "    f0 = f0_v[ii]\n",
    "    \n",
    "    f0_dac_int = freq2reg(f=f0) # Frequency of signal generator\n",
    "    soc.tproc.single_write(addr=123, data=f0_dac_int)\n",
    "\n",
    "    # Output phase.\n",
    "    fi0 = 0\n",
    "    tmp = deg2reg(fi0)\n",
    "    soc.tproc.single_write(addr=124, data=tmp)\n",
    "\n",
    "    # Configure readout.\n",
    "    soc.readouts[1].set_out(\"product\")\n",
    "    #soc.readouts[1].set_freq(f0)\n",
    "    soc.readouts[1].set_freq_int(2*f0_dac_int) # Using the same frequency multiplied by 2\n",
    "    soc.avg_bufs[1].config(address=0, length=1000)\n",
    "    soc.avg_bufs[1].enable()\n",
    "    \n",
    "#     time.sleep(1)\n",
    "\n",
    "    # Load program.\n",
    "    soc.tproc.load_program(\"01_phase_calibration.asm\")\n",
    "\n",
    "    # Start tProc.\n",
    "    soc.tproc.stop()\n",
    "    soc.tproc.start()\n",
    "\n",
    "    time.sleep(0.1)\n",
    "\n",
    "    # Get data.\n",
    "    [xi,xq] = soc.get_decimated(ch=1, length=1000)\n",
    "    x = xi +1j*xq\n",
    "\n",
    "    # Average to improve calibration.\n",
    "    xavg = np.sum(x)/len(x)\n",
    "\n",
    "    # Calculate calibration phase.\n",
    "    A = np.abs(xavg)\n",
    "    fi = np.angle(xavg,deg=True)\n",
    "    if fi<0:\n",
    "        fi = fi+360\n",
    "\n",
    "    print(\"Iteration i = %d, freq_i = %f MHz, A = %f, phi_i = %f degrees\" %(ii,f0, A, fi))\n",
    "    \n",
    "    # Save results.\n",
    "    fi_v[ii] = fi"
   ]
  },
  {
   "cell_type": "code",
   "execution_count": 4,
   "metadata": {},
   "outputs": [
    {
     "data": {
      "image/png": "[encoded data removed]",
      "text/plain": [
       "<matplotlib.figure.Figure at 0x7f892feda0>"
      ]
     },
     "metadata": {},
     "output_type": "display_data"
    }
   ],
   "source": [
    "# Plot results.\n",
    "plt.figure(2)\n",
    "plt.plot(f0_v,fi_v)\n",
    "plt.plot(f0_v,fi_v, marker='.', linestyle=\"None\",color=\"Red\")\n",
    "plt.title(r\"$\\phi$ vs $f$\")\n",
    "plt.ylabel(r\"$\\phi$ (degrees)\")\n",
    "plt.xlabel(r\"$f$ (MHz)\")\n",
    "plt.savefig(\"images/Phase_calibration.pdf\", dpi=350)"
   ]
  }
 ],
 "metadata": {
  "kernelspec": {
   "display_name": "Python 3",
   "language": "python",
   "name": "python3"
  },
  "language_info": {
   "codemirror_mode": {
    "name": "ipython",
    "version": 3
   },
   "file_extension": ".py",
   "mimetype": "text/x-python",
   "name": "python",
   "nbconvert_exporter": "python",
   "pygments_lexer": "ipython3",
   "version": "3.6.5"
  }
 },
 "nbformat": 4,
 "nbformat_minor": 4
}
