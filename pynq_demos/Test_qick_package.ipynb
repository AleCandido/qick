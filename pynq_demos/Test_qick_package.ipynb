{
 "cells": [
  {
   "cell_type": "code",
   "execution_count": 1,
   "metadata": {},
   "outputs": [],
   "source": [
    "import qick"
   ]
  },
  {
   "cell_type": "code",
   "execution_count": 2,
   "metadata": {},
   "outputs": [
    {
     "name": "stdout",
     "output_type": "stream",
     "text": [
      "Help on package qick:\n",
      "\n",
      "NAME\n",
      "    qick\n",
      "\n",
      "PACKAGE CONTENTS\n",
      "    averager_program\n",
      "    qick\n",
      "    qick_asm\n",
      "\n",
      "FILE\n",
      "    /usr/local/lib/python3.6/dist-packages/qick/__init__.py\n",
      "\n",
      "\n"
     ]
    }
   ],
   "source": [
    "help(qick)"
   ]
  },
  {
   "cell_type": "code",
   "execution_count": 3,
   "metadata": {},
   "outputs": [
    {
     "data": {
      "application/javascript": [
       "\n",
       "try {\n",
       "require(['notebook/js/codecell'], function(codecell) {\n",
       "  codecell.CodeCell.options_default.highlight_modes[\n",
       "      'magic_text/x-csrc'] = {'reg':[/^%%pybind11/]};\n",
       "  Jupyter.notebook.events.one('kernel_ready.Kernel', function(){\n",
       "      Jupyter.notebook.get_cells().map(function(cell){\n",
       "          if (cell.cell_type == 'code'){ cell.auto_highlight(); } }) ;\n",
       "  });\n",
       "});\n",
       "} catch (e) {};\n"
      ]
     },
     "metadata": {},
     "output_type": "display_data"
    }
   ],
   "source": [
    "from qick.qick_asm import *"
   ]
  },
  {
   "cell_type": "code",
   "execution_count": 4,
   "metadata": {},
   "outputs": [
    {
     "data": {
      "text/plain": [
       "69905066"
      ]
     },
     "execution_count": 4,
     "metadata": {},
     "output_type": "execute_result"
    }
   ],
   "source": [
    "freq2reg(f=100)"
   ]
  },
  {
   "cell_type": "code",
   "execution_count": 5,
   "metadata": {},
   "outputs": [],
   "source": [
    "from qick.qick import *"
   ]
  },
  {
   "cell_type": "code",
   "execution_count": 6,
   "metadata": {},
   "outputs": [
    {
     "data": {
      "text/plain": [
       "array([1.10363832e+001, 1.58187727e+001, 2.09302898e+001, 2.55643137e+001,\n",
       "       2.88236832e+001, 3.00000000e+001, 2.88236832e+001, 2.55643137e+001,\n",
       "       2.09302898e+001, 1.58187727e+001, 1.10363832e+001, 7.10783276e+000,\n",
       "       4.22575263e+000, 2.31914221e+000, 1.17491685e+000, 5.49469167e-001,\n",
       "       2.37211622e-001, 9.45333480e-002, 3.47768752e-002, 1.18100712e-002,\n",
       "       3.70229412e-003, 1.07138549e-003, 2.86204886e-004, 7.05772560e-005,\n",
       "       1.60660434e-005, 3.37605524e-006, 6.54887339e-007, 1.17268153e-007,\n",
       "       1.93842953e-008, 2.95785167e-009, 4.16638316e-010, 5.41749431e-011,\n",
       "       6.50270665e-012, 7.20520434e-013, 7.36978611e-014, 6.95856849e-015,\n",
       "       6.06514755e-016, 4.87999386e-017, 3.62454606e-018, 2.48510310e-019,\n",
       "       1.57286570e-020, 9.18957259e-022, 4.95627535e-023, 2.46758420e-024,\n",
       "       1.13408335e-025, 4.81143267e-027, 1.88434444e-028, 6.81243877e-030,\n",
       "       2.27353358e-031, 7.00416835e-033, 1.99190316e-034, 5.22921269e-036,\n",
       "       1.26724572e-037, 2.83492649e-039, 5.85435714e-041, 1.11602279e-042,\n",
       "       1.96391803e-044, 3.19028948e-046, 4.78402310e-048, 6.62236152e-050,\n",
       "       8.46231027e-052, 9.98208916e-054, 1.08695205e-055, 1.09258635e-057,\n",
       "       1.01381239e-059, 8.68392093e-062, 6.86642322e-064, 5.01189215e-066,\n",
       "       3.37698637e-068, 2.10045480e-070, 1.20601806e-072, 6.39220549e-075,\n",
       "       3.12754872e-077, 1.41258270e-079, 5.88952299e-082, 2.26674571e-084,\n",
       "       8.05344920e-087, 2.64129852e-089, 7.99667585e-092, 2.23489919e-094,\n",
       "       5.76584318e-097, 1.37316952e-099, 3.01885273e-102, 6.12655221e-105,\n",
       "       1.14774865e-107, 1.98487832e-110, 3.16867301e-113, 4.66957550e-116,\n",
       "       6.35234126e-119, 7.97713023e-122, 9.24732209e-125, 9.89559081e-128,\n",
       "       9.77516088e-131, 8.91379292e-134, 7.50339153e-137, 5.83054455e-140,\n",
       "       4.18231817e-143, 2.76937305e-146, 1.69278692e-149, 9.55167574e-153])"
      ]
     },
     "execution_count": 6,
     "metadata": {},
     "output_type": "execute_result"
    }
   ],
   "source": [
    "gauss(5,5,100,30)"
   ]
  },
  {
   "cell_type": "code",
   "execution_count": 7,
   "metadata": {},
   "outputs": [],
   "source": [
    "from qick.averager_program import *"
   ]
  },
  {
   "cell_type": "code",
   "execution_count": 8,
   "metadata": {},
   "outputs": [],
   "source": [
    "class LoopbackProgram(AveragerProgram):\n",
    "    def __init__(self,cfg):\n",
    "        AveragerProgram.__init__(self,cfg)\n",
    "\n",
    "    def initialize(self):\n",
    "        cfg=self.cfg   \n",
    "        r_freq=self.sreg(cfg[\"res_ch\"], \"freq\")   #Get frequency register for res_ch\n",
    "        self.cfg[\"adc_lengths\"]=[self.cfg[\"readout_length\"]]*2          #add length of adc acquisition to config\n",
    "        self.cfg[\"adc_freqs\"]=[adcfreq(self.cfg[\"pulse_freq\"])]*2   #add frequency of adc ddc to config\n",
    "        \n",
    "        if self.cfg[\"pulse_style\"] == \"const\":\n",
    "            self.add_pulse(ch=self.cfg[\"res_ch\"], name=\"measure\", style=self.cfg[\"pulse_style\"], length=self.cfg[\"pulse_length\"])  #add a constant pulse to the pulse library\n",
    "        if self.cfg[\"pulse_style\"] == \"arb\":\n",
    "            self.add_pulse(ch=self.cfg[\"res_ch\"], name=\"measure\", style=self.cfg[\"pulse_style\"], idata = self.cfg[\"idata\"]) \n",
    "        \n",
    "        freq=freq2reg(adcfreq(cfg[\"pulse_freq\"]))  # convert frequency to dac frequency (ensuring it is an available adc frequency)\n",
    "        self.pulse(ch=cfg[\"res_ch\"], name=\"measure\", freq=freq, phase=0, gain=cfg[\"pulse_gain\"], t= 0, play=False) # pre-configure readout pulse\n",
    "        self.synci(200)  # give processor some time to configure pulses\n",
    "    \n",
    "    def body(self):\n",
    "        self.trigger_adc(adc1=1, adc2=1,adc_trig_offset=self.cfg[\"adc_trig_offset\"])  # trigger the adc acquisition\n",
    "        if self.cfg[\"pulse_style\"] == \"const\":\n",
    "            self.pulse(ch=self.cfg[\"res_ch\"], length=self.cfg[\"pulse_length\"], play=True) # play readout pulse\n",
    "        if self.cfg[\"pulse_style\"] == \"arb\":\n",
    "            self.pulse(ch=self.cfg[\"res_ch\"], play=True) # play readout pulse\n",
    "        self.sync_all(us2cycles(self.cfg[\"relax_delay\"]))  # sync all channels"
   ]
  },
  {
   "cell_type": "code",
   "execution_count": null,
   "metadata": {},
   "outputs": [],
   "source": []
  }
 ],
 "metadata": {
  "kernelspec": {
   "display_name": "Python 3",
   "language": "python",
   "name": "python3"
  },
  "language_info": {
   "codemirror_mode": {
    "name": "ipython",
    "version": 3
   },
   "file_extension": ".py",
   "mimetype": "text/x-python",
   "name": "python",
   "nbconvert_exporter": "python",
   "pygments_lexer": "ipython3",
   "version": "3.6.5"
  }
 },
 "nbformat": 4,
 "nbformat_minor": 2
}
