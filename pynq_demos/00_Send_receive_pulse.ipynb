{
 "cells": [
  {
   "cell_type": "markdown",
   "metadata": {},
   "source": [
    "# <center> Sending and receiving a pulse demonstration\n",
    "\n",
    "### <center> In this demo you will send and receive a pulse in loopback to demonstrate control over the QICK. \n",
    "\n",
    "By modifying the <code> config </code> Python dictionary in the below notebook cell, you can change several variables:\n",
    "* The pulse length <code> pulse_length </code> in FPGA clock ticks (1 clock tick = 2.6 ns).\n",
    "* The readout buffer length <code> readout_length </code> in FPGA clock ticks.\n",
    "* The pulse envelope shape <code> pulse_style </code> (either <code> const </code> or <code> arb </code>)\n",
    "* The pulse amplitude <code> pulse_gain </code> in DAC units.\n",
    "* The pulse frequency <code> pulse_freq </code> in MHz.\n",
    "* The readout \"time of flight\" <code> adc_trig_offset </code> in FPGA clock ticks.\n",
    "* The number of times you average the read <code> soft_avgs </code>"
   ]
  },
  {
   "cell_type": "code",
   "execution_count": 1,
   "metadata": {},
   "outputs": [
    {
     "data": {
      "application/javascript": [
       "\n",
       "try {\n",
       "require(['notebook/js/codecell'], function(codecell) {\n",
       "  codecell.CodeCell.options_default.highlight_modes[\n",
       "      'magic_text/x-csrc'] = {'reg':[/^%%pybind11/]};\n",
       "  Jupyter.notebook.events.one('kernel_ready.Kernel', function(){\n",
       "      Jupyter.notebook.get_cells().map(function(cell){\n",
       "          if (cell.cell_type == 'code'){ cell.auto_highlight(); } }) ;\n",
       "  });\n",
       "});\n",
       "} catch (e) {};\n"
      ]
     },
     "metadata": {},
     "output_type": "display_data"
    },
    {
     "name": "stdout",
     "output_type": "stream",
     "text": [
      "Populating the interactive namespace from numpy and matplotlib\n"
     ]
    }
   ],
   "source": [
    "# Import the QICK drivers and auxiliary libraries\n",
    "from qick import *\n",
    "import time\n",
    "%pylab inline"
   ]
  },
  {
   "cell_type": "code",
   "execution_count": 2,
   "metadata": {},
   "outputs": [],
   "source": [
    "# Helper function\n",
    "def gauss(mu=0,si=0,length=100,maxv=30000):\n",
    "    x = np.arange(0,length)\n",
    "    y = 1/(2*np.pi*si**2)*np.exp(-(x-mu)**2/si**2)\n",
    "    y = y/np.max(y)*maxv\n",
    "    return y"
   ]
  },
  {
   "cell_type": "code",
   "execution_count": 3,
   "metadata": {},
   "outputs": [],
   "source": [
    "# Load bitstream with custom overlay\n",
    "soc = QickSoc('../qick_lib/qick.bit')\n",
    "# Set the loopback DAC channel to be in 1st Nyquist zone mode\n",
    "soc.set_nyquist(ch=6,nqz=1); "
   ]
  },
  {
   "cell_type": "markdown",
   "metadata": {},
   "source": [
    "### Hardware Configuration\n",
    "\n",
    "tProc channel 6   : DAC 229 CH2  <-> Readout channel 1 : ADC 224 CH1\n"
   ]
  },
  {
   "cell_type": "code",
   "execution_count": 4,
   "metadata": {},
   "outputs": [],
   "source": [
    "class LoopbackProgram(AveragerProgram):\n",
    "    def __init__(self,cfg):\n",
    "        AveragerProgram.__init__(self,cfg)\n",
    "\n",
    "    def initialize(self):\n",
    "        cfg=self.cfg   \n",
    "        r_freq=self.sreg(cfg[\"res_ch\"], \"freq\")   #Get frequency register for res_ch\n",
    "        self.cfg[\"adc_lengths\"]=[self.cfg[\"readout_length\"]]*2          #add length of adc acquisition to config\n",
    "        self.cfg[\"adc_freqs\"]=[adcfreq(self.cfg[\"pulse_freq\"])]*2   #add frequency of adc ddc to config\n",
    "        \n",
    "        if self.cfg[\"pulse_style\"] == \"const\":\n",
    "            self.add_pulse(ch=self.cfg[\"res_ch\"], name=\"measure\", style=self.cfg[\"pulse_style\"], length=self.cfg[\"pulse_length\"])  #add a constant pulse to the pulse library\n",
    "        if self.cfg[\"pulse_style\"] == \"arb\":\n",
    "            self.add_pulse(ch=self.cfg[\"res_ch\"], name=\"measure\", style=self.cfg[\"pulse_style\"], idata = self.cfg[\"idata\"]) \n",
    "        \n",
    "        freq=freq2reg(adcfreq(cfg[\"pulse_freq\"]))  # convert frequency to dac frequency (ensuring it is an available adc frequency)\n",
    "        self.pulse(ch=cfg[\"res_ch\"], name=\"measure\", freq=freq, phase=0, gain=cfg[\"pulse_gain\"], t= 0, play=False) # pre-configure readout pulse\n",
    "        self.synci(200)  # give processor some time to configure pulses\n",
    "    \n",
    "    def body(self):\n",
    "        self.trigger_adc(adc1=1, adc2=1,adc_trig_offset=self.cfg[\"adc_trig_offset\"])  # trigger the adc acquisition\n",
    "        if self.cfg[\"pulse_style\"] == \"const\":\n",
    "            self.pulse(ch=self.cfg[\"res_ch\"], length=self.cfg[\"pulse_length\"], play=True) # play readout pulse\n",
    "        if self.cfg[\"pulse_style\"] == \"arb\":\n",
    "            self.pulse(ch=self.cfg[\"res_ch\"], play=True) # play readout pulse\n",
    "        self.sync_all(us2cycles(self.cfg[\"relax_delay\"]))  # sync all channels"
   ]
  },
  {
   "cell_type": "markdown",
   "metadata": {},
   "source": [
    "### Send/receive a pulse with <code> pulse_style </code> = <code> const </code>"
   ]
  },
  {
   "cell_type": "code",
   "execution_count": 5,
   "metadata": {},
   "outputs": [
    {
     "data": {
      "application/vnd.jupyter.widget-view+json": {
       "model_id": "163bb0cd7ea54922980d269839406efa",
       "version_major": 2,
       "version_minor": 0
      },
      "text/plain": [
       "HBox(children=(IntProgress(value=0), HTML(value='')))"
      ]
     },
     "metadata": {},
     "output_type": "display_data"
    },
    {
     "name": "stdout",
     "output_type": "stream",
     "text": [
      "\n"
     ]
    }
   ],
   "source": [
    "config={\"res_ch\":6, # --Fixed\n",
    "        \"reps\":1, # --Fixed\n",
    "        \"relax_delay\":0, # --Fixed\n",
    "        \"res_phase\":0, # --Fixed\n",
    "        \"pulse_style\": \"const\", # --Fixed\n",
    "        \n",
    "        \"pulse_length\":20, # [Clock ticks]\n",
    "        # Try varying pulse_length from 10-100 clock ticks\n",
    "        \n",
    "        \"readout_length\":200, # [Clock ticks]\n",
    "        # Try varying readout_length from 50-1000 clock ticks\n",
    "\n",
    "        \"pulse_gain\":3000, # [DAC units]\n",
    "        # Try varying pulse_gain from 500 to 30000 DAC units\n",
    "\n",
    "        \"pulse_freq\": 100, # [MHz]\n",
    "        # In this program the signal is up and downconverted digitally so you won't see any frequency\n",
    "        # components in the I/Q traces below. But since the signal gain depends on frequency, \n",
    "        # if you lower pulse_freq you will see an increased gain.\n",
    "\n",
    "        \"adc_trig_offset\": 100, # [Clock ticks]\n",
    "        # Try varying adc_trig_offset from 100 to 220 clock ticks\n",
    "\n",
    "        \"soft_avgs\":100\n",
    "        # Try varying soft_avgs from 1 to 200 averages\n",
    "\n",
    "       }\n",
    "\n",
    "###################\n",
    "# Try it yourself !\n",
    "###################\n",
    "\n",
    "prog =LoopbackProgram(config)\n",
    "di0, dq0, di1, dq1 = prog.acquire_decimated(soc, load_pulses=True, progress=True, debug=False)\n"
   ]
  },
  {
   "cell_type": "code",
   "execution_count": 6,
   "metadata": {},
   "outputs": [
    {
     "data": {
      "image/png": "[encoded data removed]",
      "text/plain": [
       "<matplotlib.figure.Figure at 0x7f661513c8>"
      ]
     },
     "metadata": {},
     "output_type": "display_data"
    }
   ],
   "source": [
    "# Plot results.\n",
    "plt.figure(1)\n",
    "plt.plot(di0, label=\"I value; ADC 0\")\n",
    "plt.plot(dq0, label=\"Q value; ADC 0\")\n",
    "plt.plot(di1, label=\"I value; ADC 1\")\n",
    "plt.plot(dq1, label=\"Q value; ADC 1\")\n",
    "plt.ylabel(\"a.u.\")\n",
    "plt.xlabel(\"Clock ticks\")\n",
    "plt.title(\"Averages = \" + str(config[\"soft_avgs\"]))\n",
    "plt.legend()\n",
    "plt.savefig(\"images/Send_recieve_pulse_const.pdf\", dpi=350)"
   ]
  },
  {
   "cell_type": "markdown",
   "metadata": {},
   "source": [
    "### Send/receive a pulse with <code> pulse_style </code> = <code> arb </code>"
   ]
  },
  {
   "cell_type": "code",
   "execution_count": 7,
   "metadata": {},
   "outputs": [
    {
     "data": {
      "application/vnd.jupyter.widget-view+json": {
       "model_id": "60efa856963d4bb28fd6e4d9b3c9e091",
       "version_major": 2,
       "version_minor": 0
      },
      "text/plain": [
       "HBox(children=(IntProgress(value=0), HTML(value='')))"
      ]
     },
     "metadata": {},
     "output_type": "display_data"
    },
    {
     "name": "stdout",
     "output_type": "stream",
     "text": [
      "\n"
     ]
    }
   ],
   "source": [
    "config={\"res_ch\":6, # --Fixed\n",
    "        \"reps\":1, # --Fixed\n",
    "        \"relax_delay\":0, # --Fixed\n",
    "        \"res_phase\":0, # --Fixed\n",
    "        \"pulse_style\": \"arb\", # --Fixed\n",
    "        \n",
    "        \"sigma\": 30, # [Clock ticks]\n",
    "        # Try varying sigma from 10-50 clock ticks\n",
    "        \n",
    "        \"readout_length\":200, # [Clock ticks]\n",
    "        # Try varying readout_length from 50-1000 clock ticks\n",
    "\n",
    "        \"pulse_gain\":5000, # [DAC units]\n",
    "        # Try varying pulse_gain from 500 to 30000 DAC units\n",
    "\n",
    "        \"pulse_freq\": 100, # [MHz]\n",
    "        # In this program the signal is up and downconverted digitally so you won't see any frequency\n",
    "        # components in the I/Q traces below. But since the signal gain depends on frequency, \n",
    "        # if you lower pulse_freq you will see an increased gain.\n",
    "\n",
    "        \"adc_trig_offset\": 200, # [Clock ticks]\n",
    "        # Try varying adc_trig_offset from 100 to 220 clock ticks\n",
    "\n",
    "        \"soft_avgs\":100\n",
    "        # Try varying soft_avgs from 1 to 200 averages\n",
    "\n",
    "       }\n",
    "config[\"idata\"] = gauss(mu=config[\"sigma\"]*16*5/2,si=config[\"sigma\"]*16,length=5*config[\"sigma\"]*16,maxv=32000)\n",
    "# Try varying idata to be an arbitrary numpy array of your choosing!\n",
    "\n",
    "###################\n",
    "# Try it yourself !\n",
    "###################\n",
    "\n",
    "prog =LoopbackProgram(config)\n",
    "di0, dq0, di1, dq1 = prog.acquire_decimated(soc, load_pulses=True, progress=True, debug=False)\n"
   ]
  },
  {
   "cell_type": "code",
   "execution_count": 8,
   "metadata": {},
   "outputs": [
    {
     "data": {
      "image/png": "[encoded data removed]",
      "text/plain": [
       "<matplotlib.figure.Figure at 0x7f5b4506d8>"
      ]
     },
     "metadata": {},
     "output_type": "display_data"
    }
   ],
   "source": [
    "# Plot results.\n",
    "plt.figure(1)\n",
    "plt.plot(di0, label=\"I value; ADC 0\")\n",
    "plt.plot(dq0, label=\"Q value; ADC 0\")\n",
    "plt.plot(di1, label=\"I value; ADC 1\")\n",
    "plt.plot(dq1, label=\"Q value; ADC 1\")\n",
    "plt.ylabel(\"a.u.\")\n",
    "plt.xlabel(\"Clock ticks\")\n",
    "plt.title(\"Averages = \" + str(config[\"soft_avgs\"]))\n",
    "plt.legend()\n",
    "plt.savefig(\"images/Send_recieve_pulse_arb.pdf\", dpi=350)"
   ]
  },
  {
   "cell_type": "markdown",
   "metadata": {},
   "source": [
    "### Compare the two main ways of acquiring data: <code> prog.acquire_decimated_ds </code> and <code> prog.acquire </code>\n",
    "\n",
    "In the previous two demonstrations we used <code> prog.acquire_decimated_ds </code> which uses the QICK decimated buffer (acquiring a whole time trace of data for every measurement shot. The QICK accumulated buffer is used in <code> prog.acquire </code>, which acquires a single I/Q data point per measurement shot- the average of the I/Q values in the decimated buffer. In qubit experiments we will be mainly using <code> prog.acquire </code> since for every shot we only need one I/Q value to assess the state of the qubit. So let's verify that <code> prog.acquire_decimated_ds </code> and <code> prog.acquire </code> produce similar results (to within +/- 5 DAC units)."
   ]
  },
  {
   "cell_type": "code",
   "execution_count": 9,
   "metadata": {},
   "outputs": [
    {
     "data": {
      "application/vnd.jupyter.widget-view+json": {
       "model_id": "e149ae952f494e7f9b29e181201f959c",
       "version_major": 2,
       "version_minor": 0
      },
      "text/plain": [
       "HBox(children=(IntProgress(value=0), HTML(value='')))"
      ]
     },
     "metadata": {},
     "output_type": "display_data"
    },
    {
     "name": "stdout",
     "output_type": "stream",
     "text": [
      "\n"
     ]
    }
   ],
   "source": [
    "# First, lets collect the results with the decimated buffer as we did before.\n",
    "config={\"res_ch\":6, # --Fixed\n",
    "        \"reps\":1, # --Fixed\n",
    "        \"relax_delay\":0, # --Fixed\n",
    "        \"res_phase\":0, # --Fixed\n",
    "        \"pulse_style\": \"const\", # --Fixed\n",
    "        \"pulse_length\":20, # [Clock ticks]        \n",
    "        \"readout_length\":200, # [Clock ticks]\n",
    "        \"pulse_gain\":1000, # [DAC units]\n",
    "        \"pulse_freq\": 100, # [MHz]\n",
    "        \"adc_trig_offset\": 100, # [Clock ticks]\n",
    "        \"soft_avgs\":100\n",
    "       }\n",
    "\n",
    "prog =LoopbackProgram(config)\n",
    "di0, dq0, di1, dq1 = prog.acquire_decimated(soc, load_pulses=True, progress=True, debug=False)"
   ]
  },
  {
   "cell_type": "code",
   "execution_count": 10,
   "metadata": {},
   "outputs": [
    {
     "name": "stdout",
     "output_type": "stream",
     "text": [
      "I value; ADC 0; Decimated buffer:  0.01345\n",
      "Q value; ADC 0; Decimated buffer:  -0.01\n"
     ]
    }
   ],
   "source": [
    "print(\"I value; ADC 0; Decimated buffer: \",  np.sum(di0)/config[\"readout_length\"])\n",
    "print(\"Q value; ADC 0; Decimated buffer: \", np.sum(dq0)/config[\"readout_length\"])"
   ]
  },
  {
   "cell_type": "code",
   "execution_count": 11,
   "metadata": {},
   "outputs": [],
   "source": [
    "# Now, lets collect the results with the accumulated buffer. \n",
    "config[\"reps\"] = 100; # Set reps equal to soft_avgs in the prior acquisition method\n",
    "\n",
    "prog =LoopbackProgram(config)\n",
    "avg_di0, avg_dq0, avg_amp0,avg_di1, avg_dq1, avg_amp1 = prog.acquire(soc, load_pulses=True)"
   ]
  },
  {
   "cell_type": "code",
   "execution_count": 12,
   "metadata": {},
   "outputs": [
    {
     "name": "stdout",
     "output_type": "stream",
     "text": [
      "I value; ADC 0; Accumulated buffer:  -0.0031\n",
      "Q value; ADC 0; Accumulated buffer:  -0.0003\n"
     ]
    }
   ],
   "source": [
    "print(\"I value; ADC 0; Accumulated buffer: \", avg_di0)\n",
    "print(\"Q value; ADC 0; Accumulated buffer: \", avg_dq0)"
   ]
  },
  {
   "cell_type": "code",
   "execution_count": 13,
   "metadata": {},
   "outputs": [
    {
     "name": "stdout",
     "output_type": "stream",
     "text": [
      "\n",
      "// Program\n",
      "\n",
      "        regwi 2, $23, 69905066;                 //freq = 99.99999904632568 MHz\n",
      "        regwi 2, $24, 0;                        //phase = 0\n",
      "        regwi 2, $26, 1000;                     //gain = 1000\n",
      "        regwi 2, $28, 0;                        //t = 0\n",
      "        regwi 2, $27, 589844;                   //stdysel | mode | outsel = 0b01001 | length = 20 \n",
      "        synci 200;\n",
      "        regwi 0, $15, 0;\n",
      "        regwi 0, $14, 99;\n",
      "LOOP_J: regwi 0, $31, 49152;                    //out = 0b1100000000000000\n",
      "        seti 0, 0, $31, 100;                    //ch =0 out = $31 @t = 0\n",
      "        regwi 0, $31, 0;                        //out = 0b0000000000000000\n",
      "        seti 0, 0, $31, 110;                    //ch =0 out = $31 @t = 0\n",
      "        regwi 2, $27, 589844;                   //stdysel | mode | outsel = 0b01001 | length = 20 \n",
      "        regwi 2, $28, 0;                        //t = 0\n",
      "        set 6, 2, $23, $24, $25, $26, $27, $28; //ch = 6, out = $23,$25,$26,$27 @t = $28\n",
      "        synci 20;\n",
      "        mathi 0, $15, $15, +, 1;\n",
      "        memwi 0, $15, 1;\n",
      "        loopnz 0, $14, @LOOP_J;\n",
      "        end ;\n"
     ]
    }
   ],
   "source": [
    "print(prog)"
   ]
  },
  {
   "cell_type": "code",
   "execution_count": null,
   "metadata": {},
   "outputs": [],
   "source": []
  }
 ],
 "metadata": {
  "kernelspec": {
   "display_name": "Python 3",
   "language": "python",
   "name": "python3"
  },
  "language_info": {
   "codemirror_mode": {
    "name": "ipython",
    "version": 3
   },
   "file_extension": ".py",
   "mimetype": "text/x-python",
   "name": "python",
   "nbconvert_exporter": "python",
   "pygments_lexer": "ipython3",
   "version": "3.6.5"
  }
 },
 "nbformat": 4,
 "nbformat_minor": 2
}
