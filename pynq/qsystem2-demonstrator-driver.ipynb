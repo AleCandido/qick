{
 "cells": [
  {
   "cell_type": "markdown",
   "metadata": {},
   "source": [
    "# qsystem2 Demonstrator -- Driver Version\n",
    "\n",
    "***Collin Bradford***\n",
    "\n",
    "This code does exactly the same thing as the qsystem demonstrator but uses a qubit driver class. "
   ]
  },
  {
   "cell_type": "code",
   "execution_count": null,
   "metadata": {},
   "outputs": [],
   "source": [
    "from qubitdriver import qubit\n",
    "\n",
    "from matplotlib import pyplot as plt\n",
    "import numpy as np"
   ]
  },
  {
   "cell_type": "code",
   "execution_count": null,
   "metadata": {},
   "outputs": [],
   "source": [
    "q = qubit()"
   ]
  },
  {
   "cell_type": "code",
   "execution_count": null,
   "metadata": {},
   "outputs": [],
   "source": [
    "pulseCount = 9\n",
    "nsamp = 100\n",
    "nsync = int(1.1 * nsamp)\n",
    "\n",
    "idec,qdec,iacc,qacc = q.runPulseExample(pulseCount = pulseCount, nsamp = nsamp, nsync = nsync)"
   ]
  },
  {
   "cell_type": "code",
   "execution_count": null,
   "metadata": {},
   "outputs": [],
   "source": [
    "plt.plot(np.abs(idec + 1j*qdec))\n",
    "for i in range(pulseCount+1):\n",
    "    plt.axvline(i*nsamp, c='r')\n",
    "    if i < pulseCount:\n",
    "        plt.axvline((i+0.5)*nsamp, c='g', alpha=0.5)"
   ]
  },
  {
   "cell_type": "code",
   "execution_count": null,
   "metadata": {},
   "outputs": [],
   "source": [
    "iaccSums = idec.reshape(-1, nsamp).sum(axis=1)\n",
    "qaccSums = qdec.reshape(-1, nsamp).sum(axis=1)\n",
    "\n",
    "di_feed = q.get_i_acc()\n",
    "dq_feed = q.get_q_acc()\n",
    "if di_feed>2**31:\n",
    "    di_feed = di_feed - 2**32\n",
    "if dq_feed>2**31:\n",
    "    dq_feed = dq_feed - 2**32\n",
    "\n",
    "fig,ax = plt.subplots(4,1,sharex=True)\n",
    "ax[0].plot(iaccSums, \"-+\", label=\"get_decimated\")\n",
    "ax[0].plot(iacc, \"x\", label=\"get_accumulated\")\n",
    "ax[0].plot(len(iacc)-1, di_feed, \"o\", mfc='None', label='feedback')\n",
    "ax[0].set_ylabel(\"I\")\n",
    "ax[0].legend(bbox_to_anchor=(0, 1, 1, 0), loc=\"lower left\", mode=\"expand\", ncol=3)\n",
    "\n",
    "ax[1].plot(qaccSums, \"-+\")\n",
    "ax[1].plot(qacc, \"x\")\n",
    "ax[1].plot(len(iacc)-1, dq_feed, \"o\", mfc='None', label='feedback')\n",
    "ax[1].set_ylabel(\"Q\")\n",
    "\n",
    "ax[2].plot(np.abs(iaccSums + 1j*qaccSums), \"-+\")\n",
    "ax[2].plot(np.abs(iacc + 1j*qacc), \"x\")\n",
    "ax[2].plot(len(iacc)-1, np.abs(di_feed + 1j*dq_feed), \"o\", mfc='None', label='feedback')\n",
    "ax[2].set_ylabel(\"Amplitude\")\n",
    "\n",
    "ax[3].plot(np.arctan2(qaccSums, iaccSums), \"-+\")\n",
    "ax[3].plot(np.arctan2(qacc, iacc), \"x\")\n",
    "ax[3].plot(len(iacc)-1, np.arctan2(dq_feed, di_feed), \"o\", mfc='None', label='feedback')\n",
    "ax[3].set_ylabel(\"$\\phi$ [Rad]\")\n",
    "\n",
    "ax[3].set_xlabel(\"Pulse Number\")"
   ]
  },
  {
   "cell_type": "code",
   "execution_count": null,
   "metadata": {},
   "outputs": [],
   "source": [
    "# Demonstrate how scope mode works\n",
    "pulseCount = 5 # Make it smaller so we don't overflow the buffer\n",
    "nsync = int(nsamp*1.5)\n",
    "\n",
    "idec,qdec,iacc,qacc = q.runPulseExample(pulseCount = pulseCount, nsync = nsync, nsamp = nsamp, scopeMode = True)"
   ]
  },
  {
   "cell_type": "code",
   "execution_count": null,
   "metadata": {},
   "outputs": [],
   "source": [
    "plt.plot(np.abs(idec + 1j*qdec))\n",
    "for i in range(pulseCount+1):\n",
    "    plt.axvline(i*nsync, c='r', alpha=0.4)"
   ]
  },
  {
   "cell_type": "code",
   "execution_count": null,
   "metadata": {},
   "outputs": [],
   "source": []
  }
 ],
 "metadata": {
  "kernelspec": {
   "display_name": "Python 3",
   "language": "python",
   "name": "python3"
  },
  "language_info": {
   "codemirror_mode": {
    "name": "ipython",
    "version": 3
   },
   "file_extension": ".py",
   "mimetype": "text/x-python",
   "name": "python",
   "nbconvert_exporter": "python",
   "pygments_lexer": "ipython3",
   "version": "3.6.5"
  }
 },
 "nbformat": 4,
 "nbformat_minor": 4
}
