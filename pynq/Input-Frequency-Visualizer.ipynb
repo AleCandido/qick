{
 "cells": [
  {
   "cell_type": "markdown",
   "metadata": {},
   "source": [
    "# Input Frequency Visualizer"
   ]
  },
  {
   "cell_type": "code",
   "execution_count": 2,
   "metadata": {},
   "outputs": [
    {
     "data": {
      "application/javascript": [
       "\n",
       "try {\n",
       "require(['notebook/js/codecell'], function(codecell) {\n",
       "  codecell.CodeCell.options_default.highlight_modes[\n",
       "      'magic_text/x-csrc'] = {'reg':[/^%%pybind11/]};\n",
       "  Jupyter.notebook.events.one('kernel_ready.Kernel', function(){\n",
       "      Jupyter.notebook.get_cells().map(function(cell){\n",
       "          if (cell.cell_type == 'code'){ cell.auto_highlight(); } }) ;\n",
       "  });\n",
       "});\n",
       "} catch (e) {};\n"
      ]
     },
     "metadata": {},
     "output_type": "display_data"
    }
   ],
   "source": [
    "import matplotlib.pyplot as plt\n",
    "\n",
    "from pynq import Overlay\n",
    "import numpy as np\n",
    "\n",
    "from qsystem_2 import *\n",
    "from qsystem2_asm import *"
   ]
  },
  {
   "cell_type": "code",
   "execution_count": 12,
   "metadata": {},
   "outputs": [],
   "source": [
    "# Signal Generator V4.\n",
    "# 31  ..   0 : frequency.\n",
    "# 63  ..  32 : phase.\n",
    "# 79  ..  64 : addr.\n",
    "# 95  ..  80 : xxxx (not used).\n",
    "# 111 ..  96 : gain.\n",
    "# 127 .. 112 : xxxx (not used).\n",
    "# 143 .. 128 : nsamp.\n",
    "# 145 .. 144 : outsel  (00: product, 01: dds, 10: table, 11: zero value).\n",
    "#        146 : mode    (0: nsamp, 1: periodic).\n",
    "#        147 : stdysel (0: last value, 1: zero value).\n",
    "#        148 : phrst   (not implemented yet).\n",
    "# 159 .. 149 : xxxx (not used).\n",
    "\n",
    "#ASM 2.0 for DDS Frequency Visualization\n",
    "soc = PfbSoc('qsystem_2.bit', force_init_clks=True)\n",
    "with ASM_Program() as p:\n",
    "    #Write all memory addresses to program memory\n",
    "    p.memri(0,1,0,\"freq\")\n",
    "    p.memri(0,2,5,\"gain\")\n",
    "    p.memri(0,3,2,\"nsamp\")\n",
    "    #p.memri(1,7,1) # Set the readout frequency I believe this is depreciated. \n",
    "    p.memri(1,2,3,\"Nsync\")\n",
    "    p.memri(1,3,4,\"Loop\")\n",
    "    #Set up nsamp and DAC selection register. \n",
    "    p.regwi(0,4,0b0101,\"0b1001, stdysel = 1 (zero value), mode = 0 (nsamp), outsel = 01 (dds).\")\n",
    "    p.bitwi(0,4,4, \"<<\", 16)\n",
    "    p.bitw(0,3,3,\"|\",4)\n",
    "    #Delay the start a bit\n",
    "    p.synci(1000)\n",
    "    #Trigger the average block. \n",
    "    p.regwi(1, 1, 0x4001)\n",
    "    p.seti(0,1,0,0) #Just set the triger to 0. \n",
    "    p.set(4,0,1,0,0,2,3,0)\n",
    "    p.set(5,0,1,0,0,2,3,0)\n",
    "    p.set(6,0,1,0,0,2,3,0)\n",
    "    p.set(7,0,1,0,0,2,3,0)\n",
    "    #Loop\n",
    "    p.label(\"LOOP\")\n",
    "    p.seti(0,1,1,0) #Trigger the readout\n",
    "    p.seti(0,1,0,5) #Disable trigger 5 clocks later. \n",
    "    p.sync(1,2)\n",
    "    p.loopnz(1,3,\"LOOP\")\n",
    "    #End loop\n",
    "    #Signal End\n",
    "    p.seti(0, 1, 0, 0)\n",
    "    p.end(\"all done\")\n",
    "soc.tproc.load_asm_program(p)"
   ]
  },
  {
   "cell_type": "code",
   "execution_count": 15,
   "metadata": {},
   "outputs": [],
   "source": [
    "#Sends a pulse at the given frequency (freq) for the given time (nsamp) with the given gain (gain)\n",
    "#and reads back a signal from the average buffer that is 1.3 times the duration (nsamp). \n",
    "#This is repeated (loop) times. \n",
    "\n",
    "debugMode = False\n",
    "enablePrintSignature = True\n",
    "enablePrintBuffers = False\n",
    "enablePrintAverages = False\n",
    "enableTestFunction = False\n",
    "\n",
    "def getAvgSamples (freq=150, gain=30000, nsamp=150, loop=3, outputType=\"product\"):\n",
    "    \n",
    "    if enablePrintSignature: \n",
    "        print(f\"DAC/DDS Frequency: {freq}\")\n",
    "        print(f\"ADC Gain: {gain}\")\n",
    "        print(f\"Number of Samples: {nsamp}\")\n",
    "        print(f\"Loop Count: {loop}\")\n",
    "        print(f\"Input Type: {outputType}\")\n",
    "    \n",
    "    #Set the address register space. \n",
    "    #Format the numbers and send them to the tproc for output frequency\n",
    "    freqRegDAQ = freq2reg(soc.fs_dac, freq, B=32)\n",
    "    soc.tproc.single_write(addr=0, data = freqRegDAQ)\n",
    "    if debugMode: print(f\"Output Frequency DAC: {freqRegDAQ}\")\n",
    "    #Format the nubmers and send them to the tproc for DDS frequency\n",
    "    freqRegADC = freq2reg(soc.fs_adc, freq) #DDS is set to same freq as DAC\n",
    "    soc.tproc.single_write(addr=1, data = freqRegADC)\n",
    "    if debugMode: print(f\"DDS Frequency: {freqRegADC}\")\n",
    "    #Simply write to the amp address WITHOUT formatting. (It is assumed that the user will do this)\n",
    "    soc.tproc.single_write(addr=2, data = nsamp)\n",
    "    if debugMode: print(f\"nsamp: {nsamp}\")\n",
    "    #Write the size  of the pulse on the ADC domain (nSync). This is defined to be 1.3 times the duration (nsamp)\n",
    "    nsync = int(nsamp * 1.3) #With no multiplier, there will be no delay between pulses. \n",
    "    soc.tproc.single_write(addr=3, data = nsync)\n",
    "    if debugMode: print(f\"nsync: {nsync}\")\n",
    "    #Write the loop iteration count (Loop). It should be noted that the loop iteration variable must be loopCount-1. \n",
    "    soc.tproc.single_write(addr=4, data = loop-1)\n",
    "    if debugMode: print(f\"loop: {loop}\")\n",
    "    #Write output gain WITHOUT formatting to the output gain address. \n",
    "    soc.tproc.single_write(addr=5, data = gain)\n",
    "    if debugMode: print(f\"gain: {gain}\")\n",
    "    \n",
    "    #Set the size of the average buffer to nsamp (number of decimated samples) and enable the buffer. \n",
    "    adcChannel=1\n",
    "    soc.readouts[adcChannel].set_out(outputType)\n",
    "    soc.readouts[adcChannel].set_freq(freq)\n",
    "    soc.avg_bufs[adcChannel].config(address = 0, length = int(nsamp))\n",
    "    soc.avg_bufs[adcChannel].enable()\n",
    "    if debugMode: print(f\"Average Buffer Length: {nsamp}\")\n",
    "    \n",
    "    #Start tProc\n",
    "    #soc.setSelection(\"product\")\n",
    "    soc.tproc.stop()\n",
    "    soc.tproc.start()\n",
    "    \n",
    "    #Get I/Q decimated samples with the length loop * nsync where nsync is the number of decimated samples and \n",
    "    decimatedLength = loop * nsamp\n",
    "    #idec,qdec = soc.get_decimated(ch=0, length = (loop) * nsamp)\n",
    "    try:\n",
    "        idec,qdec = soc.get_decimated(ch=0, length = decimatedLength)\n",
    "        if enablePrintBuffers:\n",
    "\n",
    "            #Plot everything. \n",
    "            fig,ax = plt.subplots(2, 1, sharex=True)\n",
    "            ax[0].plot(idec)\n",
    "            ax[0].set_ylabel(\"I\")\n",
    "            ax[1].plot(qdec)\n",
    "            ax[1].set_ylabel(\"Q\")\n",
    "            ax[1].set_xlabel(\"Sample Number\")\n",
    "            ax[0].set_title(\"Decimated Samples\")\n",
    "    except RuntimeError as e:\n",
    "        idec,qdec = None,None\n",
    "        print(\"Trouble reading decimated values\",e)\n",
    "        \n",
    "    #Get I/Q accumulated samples with the number of loop iterations. \n",
    "    try:\n",
    "        iacc,qacc =  soc.get_accumulated(ch=0, length=loop)\n",
    "    except RuntimeError as e:\n",
    "        iacc,qacc = None,None\n",
    "        print(\"Trouble reading accumulated values\",e)\n",
    "    \n",
    "    if enablePrintAverages: \n",
    "        #Get the absolute value of the I and Q values\n",
    "        absValues = np.sqrt(iacc ** 2 + qacc ** 2)\n",
    "\n",
    "        #Get the phase for each sample\n",
    "        phases = np.arctan2(qacc, iacc)\n",
    "\n",
    "        #Plot everything. \n",
    "        fig,ax = plt.subplots(4,1,sharex=True)\n",
    "        ax[0].plot(iacc, \"*-\")\n",
    "        ax[0].set_ylabel(\"I\")\n",
    "        ax[1].plot(qacc, \"*-\")\n",
    "        ax[1].set_ylabel(\"Q\")\n",
    "        ax[2].plot(absValues, \"*-\")\n",
    "        ax[2].set_ylabel(\"Abs Values\")\n",
    "        ax[3].set_xlabel(\"sample number\")\n",
    "        ax[3].plot(phases, \"*-\")\n",
    "        ax[3].set_ylabel(\"Phases\")\n",
    "        ax[0].set_title(\"from getAccumulated\")\n",
    "    \n",
    "    return idec, qdec, iacc, qacc"
   ]
  },
  {
   "cell_type": "code",
   "execution_count": 18,
   "metadata": {},
   "outputs": [
    {
     "name": "stdout",
     "output_type": "stream",
     "text": [
      "DAC/DDS Frequency: 50\n",
      "ADC Gain: 15000\n",
      "Number of Samples: 100\n",
      "Loop Count: 10\n",
      "Input Type: product\n"
     ]
    },
    {
     "data": {
      "image/png": "[encoded data removed]",
      "text/plain": [
       "<matplotlib.figure.Figure at 0x7f5ec8e978>"
      ]
     },
     "metadata": {},
     "output_type": "display_data"
    },
    {
     "data": {
      "image/png": "[encoded data removed]",
      "text/plain": [
       "<matplotlib.figure.Figure at 0x7f5e9e09e8>"
      ]
     },
     "metadata": {},
     "output_type": "display_data"
    }
   ],
   "source": [
    "nsamp = 100\n",
    "iterations = 10\n",
    "freq = 50\n",
    "outputType = \"product\"\n",
    "gain = 30000\n",
    "\n",
    "idec, qdec, iacc, qacc = getAvgSamples(freq=freq, gain=15000, nsamp=nsamp, loop=iterations, outputType=outputType)\n",
    "\n",
    "if idec is not None:\n",
    "    fig,ax = plt.subplots(2,1,sharex=True)\n",
    "    ax[0].plot(idec)\n",
    "    ax[0].set_title(\"Decimated I Samples\")\n",
    "    ax[0].set_ylabel(\"Amplitude\")\n",
    "    ax[1].plot(qdec)\n",
    "    ax[1].set_title(\"Decimated Q Samples\")\n",
    "    ax[1].set_ylabel(\"Amplitdue\")\n",
    "    ax[1].set_xlabel(\"Sample\")\n",
    "    for i in range(0, iterations):\n",
    "        ax[0].axvline(nsamp * (i+1), color=\"r\", alpha=0.25)\n",
    "        ax[1].axvline(nsamp * (i+1), color=\"r\", alpha=0.25)\n",
    "    plt.show()\n",
    "\n",
    "if iacc is not None:\n",
    "    fig,ax = plt.subplots(2,1,sharex=True)\n",
    "    ax[0].plot(iacc)\n",
    "    ax[0].set_title(\"I Accumulated Samples\")\n",
    "    ax[0].set_ylabel(\"Amplitude\")\n",
    "    ax[1].plot(qacc)\n",
    "    ax[1].set_title(\"Q Accumulated Samples\")\n",
    "    ax[1].set_ylabel(\"Amplitude\")\n",
    "    ax[1].set_xlabel(\"Sample\")\n",
    "    plt.show()"
   ]
  },
  {
   "cell_type": "code",
   "execution_count": null,
   "metadata": {},
   "outputs": [],
   "source": []
  },
  {
   "cell_type": "code",
   "execution_count": null,
   "metadata": {},
   "outputs": [],
   "source": []
  }
 ],
 "metadata": {
  "kernelspec": {
   "display_name": "Python 3",
   "language": "python",
   "name": "python3"
  },
  "language_info": {
   "codemirror_mode": {
    "name": "ipython",
    "version": 3
   },
   "file_extension": ".py",
   "mimetype": "text/x-python",
   "name": "python",
   "nbconvert_exporter": "python",
   "pygments_lexer": "ipython3",
   "version": "3.6.5"
  }
 },
 "nbformat": 4,
 "nbformat_minor": 4
}
