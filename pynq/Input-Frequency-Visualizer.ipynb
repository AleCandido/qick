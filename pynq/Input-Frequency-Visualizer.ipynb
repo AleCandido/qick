{
 "cells": [
  {
   "cell_type": "markdown",
   "metadata": {},
   "source": [
    "# Input Frequency Visualizer"
   ]
  },
  {
   "cell_type": "code",
   "execution_count": 2,
   "metadata": {},
   "outputs": [
    {
     "data": {
      "application/javascript": [
       "\n",
       "try {\n",
       "require(['notebook/js/codecell'], function(codecell) {\n",
       "  codecell.CodeCell.options_default.highlight_modes[\n",
       "      'magic_text/x-csrc'] = {'reg':[/^%%pybind11/]};\n",
       "  Jupyter.notebook.events.one('kernel_ready.Kernel', function(){\n",
       "      Jupyter.notebook.get_cells().map(function(cell){\n",
       "          if (cell.cell_type == 'code'){ cell.auto_highlight(); } }) ;\n",
       "  });\n",
       "});\n",
       "} catch (e) {};\n"
      ]
     },
     "metadata": {},
     "output_type": "display_data"
    }
   ],
   "source": [
    "import matplotlib.pyplot as plt\n",
    "\n",
    "from pynq import Overlay\n",
    "import numpy as np\n",
    "\n",
    "from qsystem_2 import *\n",
    "from qsystem2_asm import *"
   ]
  },
  {
   "cell_type": "code",
   "execution_count": 3,
   "metadata": {},
   "outputs": [],
   "source": [
    "soc = PfbSoc('qsystem_2.bit', force_init_clks=False)"
   ]
  },
  {
   "cell_type": "code",
   "execution_count": 4,
   "metadata": {},
   "outputs": [],
   "source": [
    "with ASM_Program() as p:\n",
    "    p.memri(0,1,0,\"freq\")\n",
    "    p.memri(0,2,5,\"gain\")\n",
    "    p.memri(0,3,2,\"nsamp\")\n",
    "    p.regwi(0,4,0x9,\"0b1001, stdysel = 1 (zero value), mode = 0 (nsamp), outsel = 01 (dds).\")\n",
    "    p.bitwi(0,4,4, \"<<\", 16)\n",
    "    p.bitw(0,3,3,\"|\",4)\n",
    "    p.regwi(0,5,0,\"t\")\n",
    "    p.synci(1000)\n",
    "    p.comment(\"Set readout frequency\")\n",
    "    p.memri(1,7,1) # Set the readout frequency\n",
    "    p.seti(5,1,7,0)\n",
    "    p.comment(\"Start\")\n",
    "    p.regwi(1,1,0x8001,\"bit 15 = 1, bit 0 = 1\")\n",
    "    p.regwi(1,6,0xc001,\"bit 15 = 1, bit 14 = 1, bit 0 = 1\")\n",
    "    p.regwi(1,7,100)\n",
    "    p.seti(0,1,0,0) # test_tproc.asm has seti 0, 1, $0, 0\n",
    "    p.comment(\"Loop\")\n",
    "    p.memri(1,2,3,\"Nsync\")\n",
    "    p.memri(1,3,4,\"Loop\")\n",
    "    p.label(\"LOOP\")\n",
    "    p.set(6,0,1,0,0,2,3,5)\n",
    "    p.set(7,0,1,0,0,2,3,5)\n",
    "    p.seti(0,1,6,0)\n",
    "    p.seti(0,1,1,10)\n",
    "    p.sync(1,2)\n",
    "    p.loopnz(1,3,\"LOOP\")\n",
    "    p.comment(\" End\")\n",
    "    p.seti(0,1,0,0)\n",
    "    p.end(\"all done\")\n",
    "soc.tproc.load_asm_program(p)"
   ]
  },
  {
   "cell_type": "code",
   "execution_count": 13,
   "metadata": {},
   "outputs": [],
   "source": [
    "#Sends a pulse at the given frequency (freq) for the given time (nsamp) with the given gain (gain)\n",
    "#and reads back a signal from the average buffer that is 1.3 times the duration (nsamp). \n",
    "#This is repeated (loop) times. \n",
    "\n",
    "debugMode = False\n",
    "enablePrintSignature = True\n",
    "enablePrintBuffers = False\n",
    "enablePrintAverages = False\n",
    "enableTestFunction = False\n",
    "\n",
    "def getAvgSamples (freq=150, gain=30000, nsamp=150, loop=3, outputType=\"product\"):\n",
    "    \n",
    "    if enablePrintSignature: \n",
    "        print(f\"DAC/DDS Frequency: {freq}\")\n",
    "        print(f\"ADC Gain: {gain}\")\n",
    "        print(f\"Number of Samples: {nsamp}\")\n",
    "        print(f\"Loop Count: {loop}\")\n",
    "        print(f\"Input Type: {outputType}\")\n",
    "    \n",
    "    #Set the address register space. \n",
    "    #Format the numbers and send them to the tproc for output frequency\n",
    "    freqRegDAQ = freq2reg(soc.fs_dac, freq)\n",
    "    soc.tproc.single_write(addr=0, data = freqRegDAQ)\n",
    "    if debugMode: print(f\"Output Frequency DAC: {freqRegDAQ}\")\n",
    "    #Format the nubmers and send them to the tproc for DDS frequency\n",
    "    freqRegADC = freq2reg(soc.fs_adc, freq) #DDS is set to same freq as DAC\n",
    "    soc.tproc.single_write(addr=1, data = freqRegADC)\n",
    "    if debugMode: print(f\"DDS Frequency: {freqRegADC}\")\n",
    "    #Simply write to the nsamp address WITHOUT formatting. (It is assumed that the user will do this)\n",
    "    soc.tproc.single_write(addr=2, data = nsamp)\n",
    "    if debugMode: print(f\"nsamp: {nsamp}\")\n",
    "    #Write the size  of the pulse on the ADC domain (nSync). This is defined to be 1.3 times the duration (nsamp)\n",
    "    nsync = int(nsamp * 1.3)\n",
    "    soc.tproc.single_write(addr=3, data = nsync)\n",
    "    if debugMode: print(f\"nsync: {nsync}\")\n",
    "    #Write the loop iteration count (Loop). It should be noted that the loop iteration variable must be loopCount-1. \n",
    "    soc.tproc.single_write(addr=4, data = loop - 1)\n",
    "    if debugMode: print(f\"loop: {loop - 1}\")\n",
    "    #Write output gain WITHOUT formatting to the output gain address. \n",
    "    soc.tproc.single_write(addr=5, data = gain)\n",
    "    if debugMode: print(f\"gain: {gain}\")\n",
    "    \n",
    "    #Set the size of the average buffer to nsamp (number of decimated samples) and enable the buffer. \n",
    "    soc.readouts[0].set_out(outputType)\n",
    "    soc.readouts[0].set_freq(freq)\n",
    "    soc.avg_bufs[0].config(address = 0, length = nsamp)\n",
    "    soc.avg_bufs[0].enable()\n",
    "    if debugMode: print(f\"Average Buffer Length: {nsamp}\")\n",
    "    \n",
    "    #Start tProc\n",
    "    #soc.setSelection(\"product\")\n",
    "    soc.tproc.stop()\n",
    "    soc.tproc.start()\n",
    "    \n",
    "    #Get I/Q decimated samples with the length loop * nsync where nsync is the number of decimated samples and \n",
    "    idec,qdec = soc.get_decimated(ch=0, length = (loop) * nsamp)\n",
    "    \n",
    "    if enablePrintBuffers:\n",
    "\n",
    "        #Plot everything. \n",
    "        fig,ax = plt.subplots(2, 1, sharex=True)\n",
    "        ax[0].plot(idec)\n",
    "        ax[0].set_ylabel(\"I\")\n",
    "        ax[1].plot(qdec)\n",
    "        ax[1].set_ylabel(\"Q\")\n",
    "        ax[1].set_xlabel(\"Sample Number\")\n",
    "        ax[0].set_title(\"Decimated Samples\")\n",
    "    \n",
    "    #Get I/Q accumulated samples with the number of loop iterations. \n",
    "    iacc,qacc =  soc.get_accumulated(ch=0, length=loop)\n",
    "    \n",
    "    if enablePrintAverages: \n",
    "        #Get the absolute value of the I and Q values\n",
    "        absValues = np.sqrt(iacc ** 2 + qacc ** 2)\n",
    "\n",
    "        #Get the phase for each sample\n",
    "        phases = np.arctan2(qacc, iacc)\n",
    "\n",
    "        #Plot everything. \n",
    "        fig,ax = plt.subplots(4,1,sharex=True)\n",
    "        ax[0].plot(iacc, \"*-\")\n",
    "        ax[0].set_ylabel(\"I\")\n",
    "        ax[1].plot(qacc, \"*-\")\n",
    "        ax[1].set_ylabel(\"Q\")\n",
    "        ax[2].plot(absValues, \"*-\")\n",
    "        ax[2].set_ylabel(\"Abs Values\")\n",
    "        ax[3].set_xlabel(\"sample number\")\n",
    "        ax[3].plot(phases, \"*-\")\n",
    "        ax[3].set_ylabel(\"Phases\")\n",
    "        ax[0].set_title(\"from getAccumulated\")\n",
    "    \n",
    "    return idec, qdec, iacc, qacc"
   ]
  },
  {
   "cell_type": "code",
   "execution_count": 21,
   "metadata": {},
   "outputs": [
    {
     "name": "stdout",
     "output_type": "stream",
     "text": [
      "DAC/DDS Frequency: 1.0\n",
      "ADC Gain: 15000\n",
      "Number of Samples: 384\n",
      "Loop Count: 2\n",
      "Input Type: input\n",
      "Length of samples read: 768\n",
      "Max Value: 1308.0\n",
      "Min Value: -1495.0\n",
      "Sampling Frequency of ADC: 3072\n",
      "Samples Per Period: 3072.0\n",
      "Samples Per Period After Downsampling: 384.0\n",
      "Max Buffer Size: 16384\n"
     ]
    },
    {
     "data": {
      "image/png": "[encoded data removed]",
      "text/plain": [
       "<matplotlib.figure.Figure at 0x7f74c5f208>"
      ]
     },
     "metadata": {},
     "output_type": "display_data"
    },
    {
     "data": {
      "image/png": "[encoded data removed]",
      "text/plain": [
       "<matplotlib.figure.Figure at 0x7f6c12eb70>"
      ]
     },
     "metadata": {},
     "output_type": "display_data"
    },
    {
     "name": "stdout",
     "output_type": "stream",
     "text": [
      "I accumulated samples from Python sum: 14015.0\n",
      "I accumulated samples from board: 14015\n",
      "Q accumulated samples from Python sum: 0.0\n",
      "Q accumulated samples from board: 0\n"
     ]
    }
   ],
   "source": [
    "nsamp = 384\n",
    "iterations = 2\n",
    "freq = 1\n",
    "outputType = \"input\"\n",
    "\n",
    "idec, qdec, iacc, qacc = getAvgSamples(freq=freq / 1, gain=15000, nsamp=nsamp, loop=iterations, outputType=outputType)\n",
    "\n",
    "print(f\"Length of samples read: {len(idec)}\")\n",
    "print(f\"Max Value: {np.amax(idec)}\")\n",
    "print(f\"Min Value: {np.amin(idec)}\")\n",
    "print(f\"Sampling Frequency of ADC: {soc.fs_adc}\")\n",
    "samplesPerPeriod = soc.fs_adc / freq\n",
    "print(f\"Samples Per Period: {samplesPerPeriod}\")\n",
    "nSamplesPerPeriod = samplesPerPeriod / 8\n",
    "print(f\"Samples Per Period After Downsampling: {nSamplesPerPeriod}\")\n",
    "print(f\"Max Buffer Size: {soc.avg_bufs[0].AVG_MAX_LENGTH}\")\n",
    "\n",
    "\n",
    "\n",
    "fig,ax = plt.subplots(2,1,sharex=True)\n",
    "ax[0].plot(idec)\n",
    "ax[0].set_title(\"Decimated I Samples\")\n",
    "ax[0].set_ylabel(\"Amplitude\")\n",
    "ax[1].plot(qdec)\n",
    "ax[1].set_title(\"Decimated Q Samples\")\n",
    "ax[1].set_ylabel(\"Amplitdue\")\n",
    "ax[1].set_xlabel(\"Sample\")\n",
    "for i in range(0, iterations):\n",
    "    ax[0].axvline(nsamp * (i+1), ls=\":\", color=\"r\", )\n",
    "    ax[1].axvline(nsamp * (i+1), ls=\":\", color=\"r\", )\n",
    "plt.show()\n",
    "\n",
    "numSamples = nsamp\n",
    "fig,ax = plt.subplots(2,1,sharex=True)\n",
    "ax[0].plot(idec[numSamples:numSamples*2])\n",
    "ax[0].plot(qdec[numSamples:numSamples*2])\n",
    "ax[0].set_title(\"First Loop I and Q\")\n",
    "ax[0].set_ylabel(\"Amplitude\")\n",
    "ax[1].plot(np.append(idec[numSamples:numSamples*2], idec[numSamples:numSamples*2]))\n",
    "ax[1].set_title(\"First Loop Plotted Twice\")\n",
    "ax[1].set_ylabel(\"Amplitude\")\n",
    "ax[1].set_xlabel(\"Sample\")\n",
    "plt.show()\n",
    "\n",
    "print(f\"I accumulated samples from Python sum: {np.sum(idec[numSamples:numSamples*2])}\")\n",
    "print(f\"I accumulated samples from board: {iacc[1]}\")\n",
    "print(f\"Q accumulated samples from Python sum: {np.sum(qdec[numSamples:numSamples*2])}\")\n",
    "print(f\"Q accumulated samples from board: {qacc[1]}\")"
   ]
  },
  {
   "cell_type": "code",
   "execution_count": null,
   "metadata": {},
   "outputs": [],
   "source": []
  }
 ],
 "metadata": {
  "kernelspec": {
   "display_name": "Python 3",
   "language": "python",
   "name": "python3"
  },
  "language_info": {
   "codemirror_mode": {
    "name": "ipython",
    "version": 3
   },
   "file_extension": ".py",
   "mimetype": "text/x-python",
   "name": "python",
   "nbconvert_exporter": "python",
   "pygments_lexer": "ipython3",
   "version": "3.6.5"
  }
 },
 "nbformat": 4,
 "nbformat_minor": 4
}
