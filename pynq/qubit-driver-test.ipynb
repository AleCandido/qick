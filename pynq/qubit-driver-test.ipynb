{
 "cells": [
  {
   "cell_type": "code",
   "execution_count": null,
   "metadata": {},
   "outputs": [],
   "source": [
    "from qubitdriver import qubit\n",
    "\n",
    "from matplotlib import pyplot as plt\n",
    "import numpy as np"
   ]
  },
  {
   "cell_type": "code",
   "execution_count": null,
   "metadata": {},
   "outputs": [],
   "source": [
    "q = qubit(cavityOutputChannel = 4)"
   ]
  },
  {
   "cell_type": "code",
   "execution_count": null,
   "metadata": {},
   "outputs": [],
   "source": [
    "#Set LO channel 0\n",
    "\n",
    "q.initLO('/dev/ttyACM0')\n",
    "q.setLOFreqCavity(0,9000)\n",
    "q.setLOPowerCavity(0,-10)\n",
    "q.enableCavityLO(True)"
   ]
  },
  {
   "cell_type": "code",
   "execution_count": null,
   "metadata": {},
   "outputs": [],
   "source": [
    "q.measureTOF(gain = 32767)"
   ]
  },
  {
   "cell_type": "code",
   "execution_count": null,
   "metadata": {},
   "outputs": [],
   "source": [
    "idec, qdec, iacc, qacc = q.sendPulses(outputChannel = 4)\n",
    "\n",
    "amps = np.abs(idec + 1j * qdec)\n",
    "plt.plot(amps)\n",
    "plt.title(\"Gaussian Pulse Example\")\n",
    "plt.xlabel(\"time\")\n",
    "plt.ylabel(\"amplitude\")\n",
    "plt.show()"
   ]
  },
  {
   "cell_type": "code",
   "execution_count": null,
   "metadata": {},
   "outputs": [],
   "source": [
    "freqs, amps, phases = q.singleToneSpec()"
   ]
  },
  {
   "cell_type": "code",
   "execution_count": null,
   "metadata": {},
   "outputs": [],
   "source": [
    "fig,ax = plt.subplots(2, sharex=True)\n",
    "ax[0].plot(freqs, amps)\n",
    "ax[0].set_title(\"Amplitude\")\n",
    "ax[0].set_ylabel(\"Amplitude\")\n",
    "ax[1].plot(freqs, phases)\n",
    "ax[1].set_ylabel(\"Phase\")\n",
    "ax[1].set_xlabel(\"Frequency - MHz\")\n",
    "ax[1].set_title(\"Phase\")\n",
    "for axis in ax:\n",
    "    axis.grid()\n",
    "fig.suptitle(\"Single-Tone Spectroscopy\")\n",
    "plt.show()"
   ]
  },
  {
   "cell_type": "code",
   "execution_count": null,
   "metadata": {},
   "outputs": [],
   "source": [
    "freqs, amps, phases = q.twoToneSpec()"
   ]
  },
  {
   "cell_type": "code",
   "execution_count": null,
   "metadata": {},
   "outputs": [],
   "source": [
    "fig,ax = plt.subplots(2, sharex=True)\n",
    "ax[0].plot(freqs, amps)\n",
    "ax[0].set_title(\"Amplitude\")\n",
    "ax[0].set_ylabel(\"Amplitude\")\n",
    "ax[1].plot(freqs, phases)\n",
    "ax[1].set_ylabel(\"Phase\")\n",
    "ax[1].set_xlabel(\"Frequency - MHz\")\n",
    "ax[1].set_title(\"Phase\")\n",
    "for axis in ax:\n",
    "    axis.grid()\n",
    "fig.suptitle(\"Two-Tone Spectroscopy\")\n",
    "plt.show()"
   ]
  },
  {
   "cell_type": "code",
   "execution_count": null,
   "metadata": {},
   "outputs": [],
   "source": [
    "idec, qdec, iacc, qacc = q.rabiOscillation()"
   ]
  },
  {
   "cell_type": "code",
   "execution_count": null,
   "metadata": {},
   "outputs": [],
   "source": [
    "amps = np.abs(iacc + 1j * qacc)\n",
    "\n",
    "plt.plot(amps)\n",
    "plt.title(\"Rabi Oscillation\")"
   ]
  },
  {
   "cell_type": "code",
   "execution_count": null,
   "metadata": {},
   "outputs": [],
   "source": []
  }
 ],
 "metadata": {
  "kernelspec": {
   "display_name": "Python 3",
   "language": "python",
   "name": "python3"
  },
  "language_info": {
   "codemirror_mode": {
    "name": "ipython",
    "version": 3
   },
   "file_extension": ".py",
   "mimetype": "text/x-python",
   "name": "python",
   "nbconvert_exporter": "python",
   "pygments_lexer": "ipython3",
   "version": "3.6.5"
  }
 },
 "nbformat": 4,
 "nbformat_minor": 4
}
