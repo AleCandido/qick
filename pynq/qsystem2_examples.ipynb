{
 "cells": [
  {
   "cell_type": "code",
   "execution_count": 1,
   "metadata": {},
   "outputs": [
    {
     "name": "stdout",
     "output_type": "stream",
     "text": [
      "Populating the interactive namespace from numpy and matplotlib\n"
     ]
    },
    {
     "data": {
      "application/javascript": [
       "\n",
       "try {\n",
       "require(['notebook/js/codecell'], function(codecell) {\n",
       "  codecell.CodeCell.options_default.highlight_modes[\n",
       "      'magic_text/x-csrc'] = {'reg':[/^%%pybind11/]};\n",
       "  Jupyter.notebook.events.one('kernel_ready.Kernel', function(){\n",
       "      Jupyter.notebook.get_cells().map(function(cell){\n",
       "          if (cell.cell_type == 'code'){ cell.auto_highlight(); } }) ;\n",
       "  });\n",
       "});\n",
       "} catch (e) {};\n"
      ]
     },
     "metadata": {},
     "output_type": "display_data"
    },
    {
     "name": "stdout",
     "output_type": "stream",
     "text": [
      "Warning serial library import failed.\n",
      "Warning could not load Chase AWG dll, check that dll located at 'C:\\_Lib\\python\\slab\\instruments\\awg\\chase\\dax22000_lib_DLL32.dll'\n",
      "Could not load InstrumentManagerWindow\n",
      "Warning could not load LDA labbrick dll, check that dll located at 'C:\\_Lib\\python\\slab\\instruments\\labbrick\\VNX_atten.dll'\n",
      "Warning could not load LMS labbrick dll, check that dll located at 'C:\\_Lib\\python\\slab\\instruments\\labbrick\\vnx_fmsynth.dll'\n",
      "Warning could not load LPS labbrick dll, check that dll located at 'C:\\_Lib\\python\\slab\\instruments\\labbrick\\VNX_dps.dll'\n",
      "Could not load labbrick\n"
     ]
    },
    {
     "name": "stderr",
     "output_type": "stream",
     "text": [
      "/usr/lib/python3/dist-packages/IPython/qt.py:13: ShimWarning: The `IPython.qt` package has been deprecated since IPython 4.0. You should import from qtconsole instead.\n",
      "  \"You should import from qtconsole instead.\", ShimWarning)\n"
     ]
    }
   ],
   "source": [
    "%pylab inline\n",
    "from qsystem_2 import PfbSoc, freq2reg\n",
    "from tqdm import tqdm_notebook as tqdm\n",
    "from qsystem2_asm import *\n",
    "#from averager_program import AveragerProgram\n",
    "from slab.instruments import InstrumentManager\n",
    "import time\n",
    "\n",
    "\n",
    "#qubit is on 229 ch 3\n",
    "#readout is on 229 ch 2\n",
    "#storage is on 229 ch 1\n",
    "#JPA is on 229 ch 0"
   ]
  },
  {
   "cell_type": "code",
   "execution_count": 2,
   "metadata": {},
   "outputs": [],
   "source": [
    "# Load bitstream with custom overlay\n",
    "soc = PfbSoc('qsystem_2.bit')\n",
    "im=InstrumentManager(ns_address='192.168.14.1')\n",
    "rLO=im['RF8']\n",
    "#rLO.set_frequency(8.1516e9)\n",
    "rLO.set_frequency(6.9516e9)"
   ]
  },
  {
   "cell_type": "code",
   "execution_count": 3,
   "metadata": {},
   "outputs": [],
   "source": [
    "class AveragerProgram(ASM_Program):\n",
    "    def __init__(self, cfg):\n",
    "        ASM_Program.__init__(self)\n",
    "        self.cfg=cfg\n",
    "        self.make_program()\n",
    "    \n",
    "    def initialize(self):\n",
    "        pass\n",
    "    \n",
    "    def body(self):\n",
    "        pass\n",
    "    \n",
    "    def make_program(self):\n",
    "        p=self\n",
    "        \n",
    "        rcount=12\n",
    "        rjj=14\n",
    "\n",
    "        p.initialize()\n",
    "        p.regwi (0, rcount,0)\n",
    "        p.regwi (0, rjj, self.cfg[\"reps\"]-1)\n",
    "        p.label(\"LOOP_J\")\n",
    "\n",
    "        p.body()\n",
    "\n",
    "        p.mathi(0,rcount,rcount,\"+\",1)\n",
    "        \n",
    "        p.memwi(0,rcount,1)\n",
    "                \n",
    "        p.loopnz(0, rjj, 'LOOP_J')\n",
    "       \n",
    "        p.end()        \n",
    "        \n",
    "    def acquire(self, soc, load_pulses=True, progress=True):\n",
    "\n",
    "        if load_pulses: \n",
    "            self.load_pulses(soc)\n",
    "        # Readout configuration to route input without frequency translation.\n",
    "        \n",
    "        for readout,adc_freq in zip(soc.readouts,self.cfg[\"adc_freqs\"]):\n",
    "            readout.set_out(sel=\"product\")\n",
    "            readout.set_freq(adc_freq)\n",
    "            #readout.dds_freq_reg=adc_freq\n",
    "            #print (adc_freq)\n",
    "        \n",
    "        # Configure buffer capture.\n",
    "        for avg_buf,adc_length in zip(soc.avg_bufs, self.cfg[\"adc_lengths\"]):\n",
    "            avg_buf.config_buf(address=0,length=adc_length)\n",
    "            avg_buf.config_avg(address=0,length=adc_length)\n",
    "\n",
    "            # Enable buffer capture.\n",
    "            avg_buf.enable_buf()\n",
    "            avg_buf.enable_avg()\n",
    "\n",
    "        soc.tproc.load_asm_program(self)\n",
    "        \n",
    "        reps = self.cfg['reps']\n",
    "        \n",
    "        count=0\n",
    "        last_count=0\n",
    "        total_count=reps\n",
    "\n",
    "        di_buf=np.zeros(total_count)\n",
    "        dq_buf=np.zeros(total_count)\n",
    "        \n",
    "        soc.tproc.stop()\n",
    "        \n",
    "        soc.tproc.single_write(addr= 1,data=0)\n",
    "        self.stats=[]\n",
    "        \n",
    "        soc.tproc.start()\n",
    "        \n",
    "        last_nn=0\n",
    "        while count<total_count-1:\n",
    "#             nn = soc.tproc.single_read(addr= 1)\n",
    "#             if nn<last_nn:\n",
    "#                 wrap=1\n",
    "#             else:\n",
    "#                 wrap=0\n",
    "#             count=(count//2**16+wrap)*2**16 + nn\n",
    "#             last_nn=nn\n",
    "            count = soc.tproc.single_read(addr= 1)\n",
    "            if count>=min(last_count+1000,total_count-1):\n",
    "                addr=last_count % soc.avg_bufs[1].AVG_MAX_LENGTH\n",
    "                length = count-last_count\n",
    "                length -= length%2\n",
    "                di,dq = soc.get_accumulated(ch=1,address=addr, length=length)\n",
    "\n",
    "                di_buf[last_count:last_count+length]=di[:length]\n",
    "                dq_buf[last_count:last_count+length]=dq[:length]\n",
    "\n",
    "                last_count+=length\n",
    "                self.stats.append( (time.time(), count,addr, length))\n",
    "#                 pbar.update(last_count-pbar.n)\n",
    "                #print (count,addr, length)\n",
    "                    \n",
    "        self.di_buf=di_buf\n",
    "        self.dq_buf=dq_buf\n",
    "        \n",
    "        avg_di=np.sum(di_buf)/(reps)/self.cfg['adc_lengths'][0]\n",
    "        avg_dq=np.sum(dq_buf)/(reps)/self.cfg['adc_lengths'][0]\n",
    "        avg_amp=np.sqrt(avg_di**2+avg_dq**2)\n",
    "        \n",
    "        return avg_di, avg_dq, avg_amp\n",
    "    \n",
    "    "
   ]
  },
  {
   "cell_type": "markdown",
   "metadata": {},
   "source": [
    "# Resonator Spectroscopy"
   ]
  },
  {
   "cell_type": "code",
   "execution_count": 4,
   "metadata": {},
   "outputs": [],
   "source": [
    "config={\"res_ch\":1,\n",
    "        \"adc_lengths\":[1000,1000], \"res_gain\":8000,\"res_phase\":0,\n",
    "        \"relax_delay\":10, \"frequency\": 1000\n",
    "       }\n",
    "\n",
    "class ResonatorSpectroscopyProgram(AveragerProgram):\n",
    "    def __init__(self,cfg):\n",
    "        AveragerProgram.__init__(self,cfg)\n",
    "        \n",
    "    def initialize(self):\n",
    "        cfg=self.cfg   \n",
    "        \n",
    "        self.cfg[\"adc_lengths\"]=[self.cfg[\"readout_length\"]]*2\n",
    "        self.add_pulse(ch=self.cfg[\"res_ch\"], name=\"measure\",style=\"const\", length=self.cfg[\"readout_length\"])\n",
    "        freq=self.freq2reg(cfg[\"frequency\"])\n",
    "        \n",
    "        self.pulse(ch=cfg[\"res_ch\"], pulse=\"measure\", freq=freq, phase=0, gain=cfg[\"res_gain\"],  length=self.cfg['readout_length'] , t= 0, play=False)\n",
    "        #soc.tproc.single_write(addr=123, data=self.freq2reg(cfg[\"frequency\"]))\n",
    "        #self.memri(self.ch_page(cfg[\"res_ch\"]),self.sreg(cfg[\"res_ch\"],\"freq\"),123)\n",
    "        self.synci(200)\n",
    "    \n",
    "    def body(self):\n",
    "        cfg=self.cfg \n",
    "        #self.measure(ch=self.cfg[\"res_ch\"],  length=self.cfg['readout_length'], play=True)\n",
    "        self.trigger_adc(adc1=1, adc2=1)\n",
    "        self.pulse(ch=cfg[\"res_ch\"], play=True)\n",
    "        self.sync_all()\n",
    "        self.delay(self.us2cycles(self.cfg[\"relax_delay\"]))        "
   ]
  },
  {
   "cell_type": "code",
   "execution_count": 11,
   "metadata": {
    "scrolled": false
   },
   "outputs": [
    {
     "name": "stdout",
     "output_type": "stream",
     "text": [
      "499.96875 0.046875\n",
      "{'start': 499.96875, 'step': 0.046875, 'expts': 100, 'reps': 2000}\n"
     ]
    },
    {
     "data": {
      "application/vnd.jupyter.widget-view+json": {
       "model_id": "4b64f9358aa74dafa6bf90a2bf547388",
       "version_major": 2,
       "version_minor": 0
      },
      "text/plain": [
       "HBox(children=(IntProgress(value=0), HTML(value='')))"
      ]
     },
     "metadata": {},
     "output_type": "display_data"
    },
    {
     "name": "stdout",
     "output_type": "stream",
     "text": [
      "\n"
     ]
    },
    {
     "data": {
      "text/plain": [
       "(-1, 50)"
      ]
     },
     "execution_count": 11,
     "metadata": {},
     "output_type": "execute_result"
    },
    {
     "data": {
      "image/png": "[encoded data removed]",
      "text/plain": [
       "<matplotlib.figure.Figure at 0x7f6059feb8>"
      ]
     },
     "metadata": {},
     "output_type": "display_data"
    }
   ],
   "source": [
    "config={\"res_ch\":1,\"reps\": 2000,\n",
    "        \"readout_length\":1000, \"res_gain\":5000,\"res_phase\":0,\n",
    "        \"relax_delay\":10, \"frequency\": 1100\n",
    "       }\n",
    "rspec=ResonatorSpectroscopyProgram(config)\n",
    "fstep=rspec.reg2freq_adc(1)\n",
    "fstart=rspec.adcfreq(500)\n",
    "print (fstart,fstep)\n",
    "\n",
    "sweep_cfg={\"start\":1090, \"step\": .1, \"expts\":200, \"reps\": 2000}\n",
    "#sweep_cfg={\"start\":90, \"step\": .1, \"expts\":200, \"reps\": 2000}\n",
    "#sweep_cfg={\"start\":rspec.freq2reg_adc(1090), \"step\": rspec.freq2reg_adc(0.1), \"expts\":200, \"reps\": 2000}\n",
    "sweep_cfg={\"start\":fstart, \"step\":1*fstep, \"expts\":100, \"reps\": 2000}\n",
    "print(sweep_cfg)\n",
    "#reg_pts=sweep_cfg[\"start\"]+sweep_cfg[\"step\"]*arange(sweep_cfg[\"expts\"])\n",
    "#fpts=[rspec.reg2freq_adc(f) for f in reg_pts]\n",
    "rspec=ResonatorSpectroscopyProgram(config)\n",
    "fpts=sweep_cfg[\"start\"]+sweep_cfg[\"step\"]*arange(sweep_cfg[\"expts\"])\n",
    "#fpts=[rspec.adcfreq(f) for f in fpts]\n",
    "results=[]\n",
    "for f in tqdm(fpts):\n",
    "    #time.sleep(0.1)\n",
    "    #config[\"frequency\"]=rspec.reg2freq_adc(reg)\n",
    "    #config[\"adc_freqs\"]=[int(reg)]*2\n",
    "    config[\"frequency\"]=f #rspec.adcfreq(f)\n",
    "    config[\"adc_freqs\"]=[f,f]\n",
    "    rspec=ResonatorSpectroscopyProgram(config)\n",
    "    results.append(rspec.acquire(soc))\n",
    "plot(fpts,np.array(results).T[2],'.')\n",
    "ylim(-1, 50)"
   ]
  },
  {
   "cell_type": "code",
   "execution_count": null,
   "metadata": {},
   "outputs": [],
   "source": []
  }
 ],
 "metadata": {
  "kernelspec": {
   "display_name": "Python 3",
   "language": "python",
   "name": "python3"
  },
  "language_info": {
   "codemirror_mode": {
    "name": "ipython",
    "version": 3
   },
   "file_extension": ".py",
   "mimetype": "text/x-python",
   "name": "python",
   "nbconvert_exporter": "python",
   "pygments_lexer": "ipython3",
   "version": "3.6.5"
  }
 },
 "nbformat": 4,
 "nbformat_minor": 2
}
