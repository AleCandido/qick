{
 "cells": [
  {
   "cell_type": "markdown",
   "metadata": {},
   "source": [
    "# qSystem 2\n",
    "This system includes the following components:\n",
    "* 1 output channels connected to PMOD0-3 and triggers for Readout Block.\n",
    "* 7 output channels connected to DACs.\n",
    "* 2 input channels connected to ADCs.\n",
    "* 1 instance of tProcessor 64-bit instructions, 32-bit registers.\n",
    "\n",
    "Sampling frequency of ADC blocks is given by the variable `soc.fs_adc`. Sampling frequency of DACs is stored in variable `soc.fs_adc`. Fast-speed buffers were removed to save memory space. Raw data can be captured after x8 down-sampling.\n",
    "\n",
    "Output channels driving DACs use the updated Signal Generator V4, which has the possibility to upload I/Q envelopes, and uses 32-bit resolution for both frequency and phase. The format of the control word was updated accordingly to accomodate the bits. See example asm files for a detailed description of the fields. The maximum length of the I/Q envelopes is given by the variable `soc.gens[i].MAX_LENGTH`.\n",
    "\n",
    "Readout block is actually built around two IPs: readout and average + buffer. Readout block inlcudes a digital down-convertion, FIR filtering and decimation by 8. DDS frequency is configured using a register of the readout block and it is not intended to support real-time frequency hopping as in the Signal Generator side. After frequency shifting, filtering and decimation, the data stream is sent to the Average + Buffer block, which internally can store raw samples or perform the sum of the specified number of samples. The process is started with the external trigger signal, connected to output Channel 0 of tProcessor. The user can opt to route the input, the DDS wave or the frequency shifted signal to the FIR and decimation by 8 stage. This is done using a output selection register of the readout block. Regarding the buffering capabilities, the average section of the block has a buffer of `soc.avg_bufs[i].AVG_MAX_LENGTH`.\n",
    "\n",
    "### tProcessor channel assignment\n",
    "tProcessor will be used to control the real-time operation of the experiment. Output channels (AXIS MASTER) of the tProcessor are assigned as follows:\n",
    "* Channel 0 : connected to PMOD0 0-3, and triggers for readout. Bits 0-3 are connected to PMOD0, bit 14 is connected to the trigger of the average/buffer block coming from the readout of ADC 224 CH0. Bit 15 is connected to the trigger of the average/buffer block coming from the readout of ADC 224 CH1.\n",
    "* Channel 1 : connected to Signal Generator V4, which drives DAC 228 CH0.\n",
    "* Channel 2 : connected to Signal Generator V4, which drives DAC 228 CH1.\n",
    "* Channel 3 : connected to Signal Generator V4, which drives DAC 228 CH2.\n",
    "* Channel 4 : connected to Signal Generator V4, which drives DAC 229 CH0.\n",
    "* Channel 5 : connected to Signal Generator V4, which drives DAC 229 CH1.\n",
    "* Channel 6 : connected to Signal Generator V4, which drives DAC 229 CH2.\n",
    "* Channel 7 : connected to Signal Generator V4, which drives DAC 229 CH3.\n",
    "\n",
    "The updated version of the tProcessor has 4 input (AXIS SLAVE) channels, which can be used for feedback. These are 64-bit, and the updated `read` instruction can specify channel number and upper/lower 32-bits to be read and written into an internal register.\n",
    "* Channel 0 : connected to reaadout 0, which is driven by ADC 224 CH0\n",
    "* Channel 1 : connected to reaadout 1, which is driven by ADC 224 CH1\n",
    "\n",
    "Signal Generators are organized on the array `soc.gens`, which is composed of 7 instances. Array index 0 is connected to tProcessor Channel 1, array index 1 is connected to tProcessor Channel 2, and so on. As way of example, let's assume the user needs to create a pulse on DAC 229 CH1 and DAC 229 CH3. These are connected to Channels 5, and 7 or the tProcessor, respectively. However, let's also assume that a gaussian envelope needs to be uploaded into the corresponding signal generator. `soc.gens[3]` drives DAC 229 CH1, and `soc.gens[6]` drives DAC 229 CH3.\n",
    "\n",
    "Similarly, average and buffer inputs blocks are organized on `soc.avg_bufs` array, which has two instances of the Average + Buffer block. The user can access them using index 0 and 1.\n",
    "\n",
    "### Driver and parser\n",
    "To simplify the reading of the notebook and examples, the software is divided in three files: this main notebook `qsystem_2.ipynb`, which is intended to include example code, driver file `qsystem_2.py` with specific drivers and system instantiation, and `parser.py` which separates the assembler parser."
   ]
  },
  {
   "cell_type": "code",
   "execution_count": 1,
   "metadata": {},
   "outputs": [
    {
     "data": {
      "application/javascript": [
       "\n",
       "try {\n",
       "require(['notebook/js/codecell'], function(codecell) {\n",
       "  codecell.CodeCell.options_default.highlight_modes[\n",
       "      'magic_text/x-csrc'] = {'reg':[/^%%pybind11/]};\n",
       "  Jupyter.notebook.events.one('kernel_ready.Kernel', function(){\n",
       "      Jupyter.notebook.get_cells().map(function(cell){\n",
       "          if (cell.cell_type == 'code'){ cell.auto_highlight(); } }) ;\n",
       "  });\n",
       "});\n",
       "} catch (e) {};\n"
      ]
     },
     "metadata": {},
     "output_type": "display_data"
    }
   ],
   "source": [
    "from qsystem_2 import *"
   ]
  },
  {
   "cell_type": "code",
   "execution_count": 190,
   "metadata": {},
   "outputs": [],
   "source": [
    "# Load bitstream with custom overlay\n",
    "soc = PfbSoc('../qsystem_2.bit',ignore_version=True, init_clks=False)"
   ]
  },
  {
   "cell_type": "code",
   "execution_count": 195,
   "metadata": {},
   "outputs": [],
   "source": [
    "# Start tProc.\n",
    "soc.tproc.stop()\n",
    "soc.tproc.start()"
   ]
  },
  {
   "cell_type": "code",
   "execution_count": 43,
   "metadata": {},
   "outputs": [],
   "source": [
    "###########################\n",
    "### Sine Wave Generator ###\n",
    "###########################\n",
    "# This asm file will create sine waves on channels 4,5,6,7, connected to DAC 229 CH0/1/2/3.\n",
    "f0 = 33\n",
    "tmp = freq2reg(fs=soc.fs_dac,f=f0, B=32)\n",
    "soc.tproc.single_write(addr=123, data=tmp)\n",
    "\n",
    "# Load program.\n",
    "soc.tproc.load_program(\"sine.asm\")\n"
   ]
  },
  {
   "cell_type": "code",
   "execution_count": 207,
   "metadata": {},
   "outputs": [
    {
     "name": "stdout",
     "output_type": "stream",
     "text": [
      "di_raw_sum = -7702, di_feed = -7702, di = -7702\n",
      "dq_raw_sum = -10312, dq_feed = -10312, dq = -10312\n"
     ]
    },
    {
     "data": {
      "image/png": "[encoded data removed]",
      "text/plain": [
       "<matplotlib.figure.Figure at 0x7f718a4be0>"
      ]
     },
     "metadata": {},
     "output_type": "display_data"
    }
   ],
   "source": [
    "#########################\n",
    "### Gaussian Envelope ###\n",
    "#########################\n",
    "# This asm file uses:\n",
    "# |--------------------------------------------------|\n",
    "# | tProc Out CH | DAC Tile | DAC Number | Generator |\n",
    "# |--------------|----------|------------|-----------|\n",
    "# |            6 |      229 |          2 |         5 |\n",
    "# |            7 |      229 |          3 |         6 |\n",
    "# |--------------------------------------------------|\n",
    "#\n",
    "# For readout:\n",
    "# ADC 224 CH0, connected to readout 0, bit 14 of channel 0 tProc.\n",
    "#\n",
    "# tProcessor memory map:\n",
    "# @17 : DAC frequency.\n",
    "# @18 : DAC pulse length.\n",
    "# @19 : sync value.\n",
    "# @33 : Number or repetitions.\n",
    "# @55 : Real part of average (feedback).\n",
    "# @56 : Imaginary part of average (feedback).\n",
    "xg_i = gauss(mu=150, si=80, length=300, maxv=30000)\n",
    "xg_q = np.zeros(len(xg_i))\n",
    "\n",
    "# Upload waveform.\n",
    "gen = soc.gens[5].load(addr=0,xin_i=xg_i, xin_q=xg_q)\n",
    "gen = soc.gens[6].load(addr=0,xin_i=xg_i, xin_q=xg_q)\n",
    "\n",
    "# Compute DDS frequency.\n",
    "fout = 233\n",
    "tmp = freq2reg(fs=soc.fs_dac,f=fout,B=32)\n",
    "soc.tproc.single_write(addr=17,data=tmp)\n",
    "\n",
    "# Compute pulse length.\n",
    "Np = int(len(xg_i)/soc.gens[0].NDDS)\n",
    "soc.tproc.single_write(addr=18,data=Np)\n",
    "\n",
    "# tProc sync value to separate pulses.\n",
    "Nsync = int(Np*1.4)\n",
    "soc.tproc.single_write(addr=19,data=Nsync)\n",
    "\n",
    "# Number of repetitions.\n",
    "N = 7\n",
    "soc.tproc.single_write(addr=33, data=N-1)\n",
    "\n",
    "# Load program.\n",
    "soc.tproc.load_program(\"gaussian_env.asm\")\n",
    "\n",
    "# Number of total samples.\n",
    "NTdac = N*len(xg_i)\n",
    "NTadc = NTdac*soc.fs_adc/soc.fs_dac\n",
    "NTadc_dec = int(NTadc/8)\n",
    "\n",
    "# Configure readout.\n",
    "soc.readouts[0].set_out(\"product\")\n",
    "soc.readouts[0].set_freq(fout)\n",
    "soc.avg_bufs[0].config(address=0, length=900)\n",
    "soc.avg_bufs[0].enable()\n",
    "\n",
    "time.sleep(1)\n",
    "\n",
    "# Start tProc.\n",
    "soc.tproc.stop()\n",
    "soc.tproc.start()\n",
    "\n",
    "time.sleep(1)\n",
    "\n",
    "# Raw data.\n",
    "[di_raw,dq_raw] = soc.getDecimated(ch=0, NS=900)\n",
    "plt.plot(di_raw)\n",
    "\n",
    "# Accumulated data.\n",
    "[di,dq] = soc.getAccumulated(ch=0, NS=16)\n",
    "\n",
    "# Feedback of accumulated data.\n",
    "di_feed = soc.tproc.single_read(addr=55)\n",
    "dq_feed = soc.tproc.single_read(addr=56)\n",
    "if di_feed>2**31:\n",
    "    di_feed = di_feed - 2**32\n",
    "if dq_feed>2**31:\n",
    "    dq_feed = dq_feed - 2**32\n",
    "    \n",
    "# Accumulate raw data in Python for comparison.\n",
    "di_raw_sum = np.sum(di_raw)\n",
    "dq_raw_sum = np.sum(dq_raw)\n",
    "\n",
    "# Comparison.\n",
    "print(\"di_raw_sum = %d, di_feed = %d, di = %d\" %(di_raw_sum, di_feed, di[0]))\n",
    "print(\"dq_raw_sum = %d, dq_feed = %d, dq = %d\" %(dq_raw_sum, dq_feed, dq[0]))"
   ]
  },
  {
   "cell_type": "code",
   "execution_count": 210,
   "metadata": {},
   "outputs": [
    {
     "data": {
      "text/plain": [
       "1024"
      ]
     },
     "execution_count": 210,
     "metadata": {},
     "output_type": "execute_result"
    }
   ],
   "source": [
    "soc.avg_bufs[0].AVG_MAX_LENGTH"
   ]
  },
  {
   "cell_type": "code",
   "execution_count": null,
   "metadata": {},
   "outputs": [],
   "source": []
  }
 ],
 "metadata": {
  "kernelspec": {
   "display_name": "Python 3",
   "language": "python",
   "name": "python3"
  },
  "language_info": {
   "codemirror_mode": {
    "name": "ipython",
    "version": 3
   },
   "file_extension": ".py",
   "mimetype": "text/x-python",
   "name": "python",
   "nbconvert_exporter": "python",
   "pygments_lexer": "ipython3",
   "version": "3.6.5"
  }
 },
 "nbformat": 4,
 "nbformat_minor": 2
}
