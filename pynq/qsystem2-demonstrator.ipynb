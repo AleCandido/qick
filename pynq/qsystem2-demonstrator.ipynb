{
 "cells": [
  {
   "cell_type": "markdown",
   "metadata": {},
   "source": [
    "# qsystem_2 Demonstrator\n",
    "\n",
    "\n",
    "\n",
    "#### Stared with a copy of pulse-generator-with-envelope.ipyng\n",
    "\n",
    "# Pulse Generator\n",
    "\n",
    "***Collin Bradford***\n",
    "\n",
    "Creates a series of pulses as defined by the user. User may control the pulse width, the delay between pulses, and the number of pulses. The decimated buffer is triggered and read out entirely to see the pulse waveform up to 1024 clock cycles. \n",
    "\n",
    "It should be noted that for some reason, the buffer returns with a delay of 200 samples before the data comes in. In order to see more, one can edit line 32 of the ASM program to read: `p.seti(0,1,3,200)` instead of `p.seti(0,1,3,0)` which will delay the readout such that it starts 200 samples later. This will effectively move the waveform earlier in the readout. However, the external trigger on the oscilloscope will trigger 200 samples after the waveform starts. \n",
    "\n",
    "The output and input channels can be changed using the variables defined below. To properly view the waveform from this notebook, a wire must be connected between the output channel and the input channel. \n",
    "\n",
    "\n",
    "Modified to use a gaussian envelope in I.  Two changes:\n",
    "1.  In the asm program, use `outsel=00`\n",
    "2.  In python, upload envelope with     `soc.gens[outputChannel-1].load(addr=0,xin_i=xg_i, xin_q=xg_q)`\n"
   ]
  },
  {
   "cell_type": "code",
   "execution_count": 1,
   "metadata": {},
   "outputs": [
    {
     "data": {
      "application/javascript": [
       "\n",
       "try {\n",
       "require(['notebook/js/codecell'], function(codecell) {\n",
       "  codecell.CodeCell.options_default.highlight_modes[\n",
       "      'magic_text/x-csrc'] = {'reg':[/^%%pybind11/]};\n",
       "  Jupyter.notebook.events.one('kernel_ready.Kernel', function(){\n",
       "      Jupyter.notebook.get_cells().map(function(cell){\n",
       "          if (cell.cell_type == 'code'){ cell.auto_highlight(); } }) ;\n",
       "  });\n",
       "});\n",
       "} catch (e) {};\n"
      ]
     },
     "metadata": {},
     "output_type": "display_data"
    }
   ],
   "source": [
    "import matplotlib.pyplot as plt\n",
    "\n",
    "from pynq import Overlay\n",
    "import numpy as np\n",
    "\n",
    "from qsystem_2 import *\n",
    "from qsystem2_asm import *"
   ]
  },
  {
   "cell_type": "code",
   "execution_count": 2,
   "metadata": {},
   "outputs": [],
   "source": [
    "soc = PfbSoc('qsystem_2.bit', force_init_clks=False)"
   ]
  },
  {
   "cell_type": "markdown",
   "metadata": {},
   "source": [
    "|  Address | Page,Register | Variable Name | Description |\n",
    "| --- | --- | --- | --- |\n",
    "| 1 | 0,1 | pulseCount | Number of pulses to generate|\n",
    "| 2 | 0,2 | frequency | DDS Frequency |\n",
    "| 3 | 0,3 | phase | phase |\n",
    "| 4 | 0,4 | address | address of envelope |\n",
    "| 5 | 0,5 | gain | Amplitude of output in ADUs. |\n",
    "| 6 | 0,6 | nsamp | number of samples in one output pulse |\n",
    "| 7 | 0,7 | nsync | number of samples between pulse beginnings |\n",
    "| n/a | 0,8 | temp | used to calculate values to pack bits into nsamp |\n",
    "| n/a | 0,9 | trig | the value 0xC001 that triggers the average block |"
   ]
  },
  {
   "cell_type": "code",
   "execution_count": 3,
   "metadata": {},
   "outputs": [],
   "source": [
    "inputChannel  = 0 #0 or 1 \n",
    "outputChannel = 7 #1-7 "
   ]
  },
  {
   "cell_type": "code",
   "execution_count": 4,
   "metadata": {},
   "outputs": [],
   "source": [
    "with ASM_Program() as p:\n",
    "    #Write all memory addresses to program memory\n",
    "    p.memri(0,1,1,\"Pulse Count\")\n",
    "    p.memri(0,2,2,\"Encoded Frequency\")\n",
    "    p.memri(0,3,3,\"Phase\")\n",
    "    p.memri(0,4,4,\"Address\")\n",
    "    p.memri(0,5,5,\"Gain\")\n",
    "    p.memri(0,6,6,\"nsamp\")\n",
    "    p.memri(0,7,7,\"nsync\")\n",
    "    #Set up nsamp and DAC selection register.\n",
    "    # For DDS, set outsel=01    \n",
    "    #p.regwi(0,8,0b1001,\"0b1001, stdysel = 1 (zero value), mode = 0 (nsamp), outsel = 01 (dds).\")\n",
    "    # For envelope, set outsel=00\n",
    "    p.regwi(0,8,0b1000,\"0b1000, stdysel = 1 (zero value), mode = 0 (nsamp), outsel = 00 (envelope).\")\n",
    "    p.bitwi(0,8,8, \"<<\", 16)\n",
    "    p.bitw(0,6,6,\"|\",8)\n",
    "    #Delay the start a bit\n",
    "    p.synci(1000)\n",
    "    #Trigger value for the average block. \n",
    "    p.regwi(0,9,0xC001,\"Trigger pmod0 bit0 and input channels 0 and 1\") # Trigger average/buffer blocks of ADC channels 0 and 1\n",
    "    #p.seti(0,0,9,200)  # Send the trigger bits to the input channel\n",
    "    #p.seti(inputChannel,0,0,10) # Clear the readout bit after 10 clock ticks\n",
    "    #Loop\n",
    "    p.label(\"LOOP\")\n",
    "    p.set(outputChannel,0,2,3,4,5,6,0)\n",
    "    p.sync(0,7)\n",
    "    p.seti(inputChannel,0,9,0) # Send the trigger bits to the input channel\n",
    "    p.seti(inputChannel,0,0,10) # Clear the readout bit after 10 clock ticks\n",
    "    p.loopnz(0,1,\"LOOP\")\n",
    "    #End the signal\n",
    "    p.seti(0,0,0,0)\n",
    "soc.tproc.load_asm_program(p)\n",
    "#print(p)"
   ]
  },
  {
   "cell_type": "code",
   "execution_count": 5,
   "metadata": {},
   "outputs": [],
   "source": [
    "def runner(pulseCount, frequency, gain, phase, address, nsamp, nsync, outputType):\n",
    "    \n",
    "    freqRegDAC = freq2reg(soc.fs_dac, frequency, B=32)\n",
    "    soc.tproc.single_write(addr=1, data = pulseCount-1)\n",
    "    soc.tproc.single_write(addr=2, data = freqRegDAC)\n",
    "    soc.tproc.single_write(addr=3, data = phase)\n",
    "    soc.tproc.single_write(addr=4, data = address)\n",
    "    soc.tproc.single_write(addr=5, data = gain)\n",
    "    soc.tproc.single_write(addr=6, data = nsamp)\n",
    "    soc.tproc.single_write(addr=7, data = nsync)\n",
    "    \n",
    "    # For envelope, upload envelope\n",
    "    xg_i = gauss(mu=16*nsamp/2, si=nsamp, length=16*nsamp, maxv=30000)\n",
    "    xg_q = np.zeros(len(xg_i))\n",
    "    soc.gens[outputChannel-1].load(addr=address, xin_i=xg_i, xin_q=xg_q)\n",
    "\n",
    "    soc.readouts[inputChannel].set_out(outputType)\n",
    "    soc.readouts[inputChannel].set_freq(frequency)\n",
    "    decimatedLength = int(pulseCount*nsamp)\n",
    "    soc.avg_bufs[inputChannel].config(address = 0, length=nsamp)\n",
    "    soc.avg_bufs[inputChannel].enable()\n",
    "    soc.tproc.stop()\n",
    "    soc.tproc.start()\n",
    "    idec,qdec = soc.get_decimated(ch=inputChannel, length = decimatedLength)\n",
    "    iacc,qacc =  soc.get_accumulated(ch=inputChannel, length=pulseCount)\n",
    "    return idec,qdec,iacc,qacc\n",
    "\n",
    "pulseCount = 5 \n",
    "frequency = 200\n",
    "gain = 30000\n",
    "phase = 0\n",
    "address = 0\n",
    "nsamp = 100\n",
    "nsync = 210\n",
    "outputType = \"product\"\n",
    "idec,qdec,iacc,qacc = runner(pulseCount, frequency, gain, phase, address, nsamp, nsync, outputType)"
   ]
  },
  {
   "cell_type": "code",
   "execution_count": 6,
   "metadata": {},
   "outputs": [
    {
     "data": {
      "image/png": "[encoded data removed]",
      "text/plain": [
       "<matplotlib.figure.Figure at 0x7f987360f0>"
      ]
     },
     "metadata": {},
     "output_type": "display_data"
    }
   ],
   "source": [
    "plt.plot(np.abs(idec + 1j*qdec))\n",
    "for i in range(pulseCount+1):\n",
    "    plt.axvline(i*nsamp, c='r')\n",
    "    if i < pulseCount:\n",
    "        plt.axvline((i+0.5)*nsamp, c='g', alpha=0.5)"
   ]
  },
  {
   "cell_type": "code",
   "execution_count": 7,
   "metadata": {},
   "outputs": [
    {
     "data": {
      "text/plain": [
       "Text(0.5,0,'Pulse Number')"
      ]
     },
     "execution_count": 7,
     "metadata": {},
     "output_type": "execute_result"
    },
    {
     "data": {
      "image/png": "[encoded data removed]",
      "text/plain": [
       "<matplotlib.figure.Figure at 0x7f726c6f98>"
      ]
     },
     "metadata": {},
     "output_type": "display_data"
    }
   ],
   "source": [
    "iaccSums = idec.reshape(-1, nsamp).sum(axis=1)\n",
    "qaccSums = qdec.reshape(-1, nsamp).sum(axis=1)\n",
    "fig,ax = plt.subplots(4,1,sharex=True)\n",
    "ax[0].plot(iaccSums, \"-+\", label=\"get_decimated\")\n",
    "ax[0].plot(iacc, \"x\", label=\"get_accumulated\")\n",
    "ax[0].set_ylabel(\"I\")\n",
    "ax[0].legend()\n",
    "\n",
    "ax[1].plot(qaccSums, \"-+\")\n",
    "ax[1].plot(qacc, \"x\")\n",
    "ax[1].set_ylabel(\"Q\")\n",
    "\n",
    "ax[2].plot(np.abs(iaccSums + 1j*qaccSums), \"-+\")\n",
    "ax[2].plot(np.abs(iacc + 1j*qacc), \"x\")\n",
    "ax[2].set_ylabel(\"Amplitude\")\n",
    "\n",
    "ax[3].plot(np.arctan2(qaccSums, iaccSums), \"-+\")\n",
    "ax[3].plot(np.arctan2(qacc, iacc), \"x\")\n",
    "ax[3].set_ylabel(\"$\\phi$ [Rad]\")\n",
    "\n",
    "ax[3].set_xlabel(\"Pulse Number\")"
   ]
  },
  {
   "cell_type": "code",
   "execution_count": 8,
   "metadata": {},
   "outputs": [
    {
     "name": "stdout",
     "output_type": "stream",
     "text": [
      "iacc = [6423 6490 6533 6549 6563]\n"
     ]
    }
   ],
   "source": [
    "# Make sure it works a second time.\n",
    "idec,qdec,iacc,qacc = runner(pulseCount, frequency, gain, phase, address, nsamp, nsync, outputType)\n",
    "print(\"iacc =\",iacc)"
   ]
  }
 ],
 "metadata": {
  "kernelspec": {
   "display_name": "Python 3",
   "language": "python",
   "name": "python3"
  },
  "language_info": {
   "codemirror_mode": {
    "name": "ipython",
    "version": 3
   },
   "file_extension": ".py",
   "mimetype": "text/x-python",
   "name": "python",
   "nbconvert_exporter": "python",
   "pygments_lexer": "ipython3",
   "version": "3.6.5"
  }
 },
 "nbformat": 4,
 "nbformat_minor": 4
}
