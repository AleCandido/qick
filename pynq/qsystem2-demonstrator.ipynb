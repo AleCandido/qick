{
 "cells": [
  {
   "cell_type": "markdown",
   "metadata": {},
   "source": [
    "# qsystem_2 Demonstrator\n",
    "\n",
    "\n",
    "\n",
    "#### Stared with a copy of pulse-generator-with-envelope.ipyng\n",
    "\n",
    "Demonstrate how to run a set of pulses with a gaussian envelope in I.\n",
    "\n",
    "The asm program is generated using the python variables `outputChannel` and `inputChannel`.  The document ../doc/channels.md desscribes how to map these channel numbers to physical connectors.\n",
    "\n",
    "The rest of the parameters are used in the `runner` function.  Here are the address, page, register, and variable name for these parameters.\n",
    "\n",
    "|  Address | Page,Register | Variable Name | Description |\n",
    "| --- | --- | --- | --- |\n",
    "| 1 | 0,1 | pulseCount | Number of pulses to generate|\n",
    "| 2 | 0,2 | frequency | DDS Frequency |\n",
    "| 3 | 0,3 | phase | phase |\n",
    "| 4 | 0,4 | address | address of envelope |\n",
    "| 5 | 0,5 | gain | Amplitude of output in ADUs. |\n",
    "| 6 | 0,6 | nsamp | number of samples in one output pulse |\n",
    "| 7 | 0,7 | nsync | number of samples between pulse beginnings |\n",
    "| n/a | 0,8 | temp | used to calculate values to pack bits into nsamp |\n",
    "| n/a | 0,9 | trig | the value 0xC001 that triggers the average block |\n",
    "| 8   | 0,10 | iFeedback | feedback lower |\n",
    "| 9   | 0,11 | iFeedback | feedback upper |\n",
    "| 10  | 0,12 | smo | bitpattern formed by `8*stdysel + 4*mode + outsel` |\n",
    "| 11  | 0,13 | tOffset | delay before setting trigger to on state |\n",
    "| 12  | 0,14 | tDuration | duration of trigger on state |\n",
    "| n/a | 0,15 | tEnd | sum of tOffset and tDuration |"
   ]
  },
  {
   "cell_type": "code",
   "execution_count": 2,
   "metadata": {},
   "outputs": [
    {
     "data": {
      "application/javascript": [
       "\n",
       "try {\n",
       "require(['notebook/js/codecell'], function(codecell) {\n",
       "  codecell.CodeCell.options_default.highlight_modes[\n",
       "      'magic_text/x-csrc'] = {'reg':[/^%%pybind11/]};\n",
       "  Jupyter.notebook.events.one('kernel_ready.Kernel', function(){\n",
       "      Jupyter.notebook.get_cells().map(function(cell){\n",
       "          if (cell.cell_type == 'code'){ cell.auto_highlight(); } }) ;\n",
       "  });\n",
       "});\n",
       "} catch (e) {};\n"
      ]
     },
     "metadata": {},
     "output_type": "display_data"
    }
   ],
   "source": [
    "import matplotlib.pyplot as plt\n",
    "\n",
    "from pynq import Overlay\n",
    "import numpy as np\n",
    "\n",
    "from qsystem_2 import *\n",
    "from qsystem2_asm import *"
   ]
  },
  {
   "cell_type": "code",
   "execution_count": 3,
   "metadata": {},
   "outputs": [],
   "source": [
    "soc = PfbSoc('qsystem_2.bit', force_init_clks=False)"
   ]
  },
  {
   "cell_type": "code",
   "execution_count": 4,
   "metadata": {},
   "outputs": [],
   "source": [
    "inputChannel  = 0 #0 or 1 \n",
    "outputChannel = 7 #1-7 "
   ]
  },
  {
   "cell_type": "code",
   "execution_count": 42,
   "metadata": {},
   "outputs": [],
   "source": [
    "with ASM_Program() as p:\n",
    "    #Write all memory addresses to program memory\n",
    "    p.memri(0,1,1,\"Pulse Count\")\n",
    "    p.memri(0,2,2,\"Encoded Frequency\")\n",
    "    p.memri(0,3,3,\"Phase\")\n",
    "    p.memri(0,4,4,\"Address\")\n",
    "    p.memri(0,5,5,\"Gain\")\n",
    "    p.memri(0,6,6,\"nsamp\")\n",
    "    p.memri(0,7,7,\"nsync\")\n",
    "    p.memri(0,12,10,\"smo\")\n",
    "    p.memri(0,13,11,\"tOffset\")\n",
    "    p.memri(0,14,12,\"tDuration\")\n",
    "    #Set up nsamp and DAC selection register.\n",
    "    # For envelope, set outsel=00\n",
    "    #p.regwi(0,8,0b1000,\"0b1000, stdysel = 1 (zero value), mode = 0 (nsamp), outsel = 00 (envelope).\")\n",
    "    p.memr(0, 8, 12)\n",
    "    p.bitwi(0,8,8, \"<<\", 16)\n",
    "    p.bitw(0,6,6,\"|\",8)\n",
    "    #Delay the start a bit\n",
    "    p.synci(1000)\n",
    "    #Trigger value for the average block. \n",
    "    p.regwi(0,9,0xC001,\"Trigger pmod0 bit0 and input channels 0 and 1\") # Trigger average/buffer blocks of ADC channels 0 and 1\n",
    "    #Loop\n",
    "    p.label(\"LOOP\")\n",
    "    p.set(outputChannel,0,2,3,4,5,6,0)\n",
    "    p.sync(0,7)\n",
    "    # Instead of the hardwired \"5\" and \"15\" in the next lines, use tOffset and tDuration to calculate tEnd\n",
    "    # tOffset it hardwired to be 5, and for a tDuration of 10, that would yield tEnd to be 15.\n",
    "    p.seti(inputChannel,0,9,5) # Send the trigger bits to the input channel\n",
    "    p.seti(inputChannel,0,0,15) # Clear the readout bit after 10 clock ticks\n",
    "    p.loopnz(0,1,\"LOOP\")\n",
    "    \n",
    "    # Wait and read average value\n",
    "    p.waiti(0, 1000)\n",
    "    \n",
    "    p.read(0, 0, \"lower\", 10, \"lower bits of channel 0 to page 0, register 10\")\n",
    "    p.read(0, 0, \"upper\", 11, \"upper bits of channel 0 to page 0, register 11\")\n",
    "    p.memwi(0, 10, 8, \"write page 0, register 10 to address 8\")\n",
    "    p.memwi(0, 11, 9, \"write page 0, register 11 to address 9\")\n",
    "    #End the signal\n",
    "    p.seti(0,0,0,0)\n",
    "\n",
    "soc.tproc.load_asm_program(p)\n",
    "#print(p)"
   ]
  },
  {
   "cell_type": "code",
   "execution_count": 43,
   "metadata": {},
   "outputs": [],
   "source": [
    "def runner(pulseCount, frequency, gain, phase, address, nsamp, nsync, outputType, smo):\n",
    "    \n",
    "    freqRegDAC = freq2reg(soc.fs_dac, frequency, B=32)\n",
    "    soc.tproc.single_write(addr=1, data = pulseCount-1)\n",
    "    soc.tproc.single_write(addr=2, data = freqRegDAC)\n",
    "    soc.tproc.single_write(addr=3, data = phase)\n",
    "    soc.tproc.single_write(addr=4, data = address)\n",
    "    soc.tproc.single_write(addr=5, data = gain)\n",
    "    soc.tproc.single_write(addr=6, data = nsamp)\n",
    "    soc.tproc.single_write(addr=7, data = nsync)\n",
    "    \n",
    "    # For envelope, upload envelope\n",
    "    xg_i = gauss(mu=16*nsamp/2, si=nsamp, length=16*nsamp, maxv=30000)\n",
    "    xg_q = np.zeros(len(xg_i))\n",
    "    soc.gens[outputChannel-1].load(addr=address, xin_i=xg_i, xin_q=xg_q)\n",
    "\n",
    "    soc.readouts[inputChannel].set_out(outputType)\n",
    "    soc.readouts[inputChannel].set_freq(frequency)\n",
    "    decimatedLength = int(pulseCount*nsamp)\n",
    "    soc.avg_bufs[inputChannel].config(address=0, length=nsamp)\n",
    "    soc.avg_bufs[inputChannel].enable()\n",
    "    soc.tproc.stop()\n",
    "    soc.tproc.start()\n",
    "    idec,qdec = soc.get_decimated(ch=inputChannel, length = decimatedLength)\n",
    "    iacc,qacc =  soc.get_accumulated(ch=inputChannel, length=pulseCount)\n",
    "    return idec,qdec,iacc,qacc\n",
    "\n",
    "pulseCount = 10\n",
    "frequency = 200\n",
    "gain = 30000\n",
    "phase = 0\n",
    "address = 0\n",
    "nsamp = 100\n",
    "nsync = 210\n",
    "outputType = \"product\"\n",
    "\n",
    "smo = 8*sstdysel = 1\n",
    "mode = 0\n",
    "outsel = 0\n",
    "tdysel + 4*mode + outsel\n",
    "idec,qdec,iacc,qacc = runner(pulseCount, frequency, gain, phase, address, nsamp, nsync, outputType, smo)"
   ]
  },
  {
   "cell_type": "code",
   "execution_count": 44,
   "metadata": {},
   "outputs": [
    {
     "data": {
      "image/png": "[encoded data removed]",
      "text/plain": [
       "<matplotlib.figure.Figure at 0x7f7d554da0>"
      ]
     },
     "metadata": {},
     "output_type": "display_data"
    }
   ],
   "source": [
    "plt.plot(np.abs(idec + 1j*qdec))\n",
    "for i in range(pulseCount+1):\n",
    "    plt.axvline(i*nsamp, c='r')\n",
    "    if i < pulseCount:\n",
    "        plt.axvline((i+0.5)*nsamp, c='g', alpha=0.5)"
   ]
  },
  {
   "cell_type": "code",
   "execution_count": null,
   "metadata": {},
   "outputs": [],
   "source": [
    "iaccSums = idec.reshape(-1, nsamp).sum(axis=1)\n",
    "qaccSums = qdec.reshape(-1, nsamp).sum(axis=1)\n",
    "\n",
    "di_feed = soc.tproc.single_read(addr=8)\n",
    "dq_feed = soc.tproc.single_read(addr=9)\n",
    "if di_feed>2**31:\n",
    "    di_feed = di_feed - 2**32\n",
    "if dq_feed>2**31:\n",
    "    dq_feed = dq_feed - 2**32\n",
    "\n",
    "fig,ax = plt.subplots(4,1,sharex=True)\n",
    "ax[0].plot(iaccSums, \"-+\", label=\"get_decimated\")\n",
    "ax[0].plot(iacc, \"x\", label=\"get_accumulated\")\n",
    "ax[0].plot(len(iacc)-1, di_feed, \"o\", mfc='None', label='feedback')\n",
    "ax[0].set_ylabel(\"I\")\n",
    "ax[0].legend(bbox_to_anchor=(0, 1, 1, 0), loc=\"lower left\", mode=\"expand\", ncol=3)\n",
    "\n",
    "ax[1].plot(qaccSums, \"-+\")\n",
    "ax[1].plot(qacc, \"x\")\n",
    "ax[1].plot(len(iacc)-1, dq_feed, \"o\", mfc='None', label='feedback')\n",
    "ax[1].set_ylabel(\"Q\")\n",
    "\n",
    "ax[2].plot(np.abs(iaccSums + 1j*qaccSums), \"-+\")\n",
    "ax[2].plot(np.abs(iacc + 1j*qacc), \"x\")\n",
    "ax[2].plot(len(iacc)-1, np.abs(di_feed + 1j*dq_feed), \"o\", mfc='None', label='feedback')\n",
    "ax[2].set_ylabel(\"Amplitude\")\n",
    "\n",
    "ax[3].plot(np.arctan2(qaccSums, iaccSums), \"-+\")\n",
    "ax[3].plot(np.arctan2(qacc, iacc), \"x\")\n",
    "ax[3].plot(len(iacc)-1, np.arctan2(dq_feed, di_feed), \"o\", mfc='None', label='feedback')\n",
    "ax[3].set_ylabel(\"$\\phi$ [Rad]\")\n",
    "\n",
    "ax[3].set_xlabel(\"Pulse Number\")"
   ]
  },
  {
   "cell_type": "code",
   "execution_count": null,
   "metadata": {},
   "outputs": [],
   "source": [
    "print(di_feed, dq_feed)\n",
    "print(iacc[-1],qacc[-1])"
   ]
  },
  {
   "cell_type": "code",
   "execution_count": null,
   "metadata": {},
   "outputs": [],
   "source": [
    "# Make sure it works a second time.\n",
    "idec,qdec,iacc,qacc = runner(pulseCount, frequency, gain, phase, address, nsamp, nsync, outputType)\n",
    "di_feed = soc.tproc.single_read(addr=8)\n",
    "dq_feed = soc.tproc.single_read(addr=9)\n",
    "if di_feed>2**31:\n",
    "    di_feed = di_feed - 2**32\n",
    "if dq_feed>2**31:\n",
    "    dq_feed = dq_feed - 2**32\n",
    "print(di_feed, iacc[-1])\n",
    "print(dq_feed, qacc[-1])\n"
   ]
  }
 ],
 "metadata": {
  "kernelspec": {
   "display_name": "Python 3",
   "language": "python",
   "name": "python3"
  },
  "language_info": {
   "codemirror_mode": {
    "name": "ipython",
    "version": 3
   },
   "file_extension": ".py",
   "mimetype": "text/x-python",
   "name": "python",
   "nbconvert_exporter": "python",
   "pygments_lexer": "ipython3",
   "version": "3.6.5"
  }
 },
 "nbformat": 4,
 "nbformat_minor": 4
}
