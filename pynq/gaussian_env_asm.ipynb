{
 "cells": [
  {
   "cell_type": "code",
   "execution_count": 1,
   "metadata": {},
   "outputs": [
    {
     "name": "stdout",
     "output_type": "stream",
     "text": [
      "Populating the interactive namespace from numpy and matplotlib\n"
     ]
    },
    {
     "data": {
      "application/javascript": [
       "\n",
       "try {\n",
       "require(['notebook/js/codecell'], function(codecell) {\n",
       "  codecell.CodeCell.options_default.highlight_modes[\n",
       "      'magic_text/x-csrc'] = {'reg':[/^%%pybind11/]};\n",
       "  Jupyter.notebook.events.one('kernel_ready.Kernel', function(){\n",
       "      Jupyter.notebook.get_cells().map(function(cell){\n",
       "          if (cell.cell_type == 'code'){ cell.auto_highlight(); } }) ;\n",
       "  });\n",
       "});\n",
       "} catch (e) {};\n"
      ]
     },
     "metadata": {},
     "output_type": "display_data"
    }
   ],
   "source": [
    "%pylab inline\n",
    "from qsystem_2 import PfbSoc, freq2reg\n",
    "from tqdm import tqdm_notebook as tqdm\n",
    "from qsystem2_asm import *\n",
    "#from averager_program import AveragerProgram\n",
    "#from slab.instruments import InstrumentManager\n",
    "import time"
   ]
  },
  {
   "cell_type": "code",
   "execution_count": 8,
   "metadata": {},
   "outputs": [
    {
     "data": {
      "text/plain": [
       "\n",
       "// Program\n",
       "\n",
       "      memri 1, $1, 17;\n",
       "      regwi 1, $2, 15000;\n",
       "      memri 1, $3, 18;\n",
       "      regwi 1, $4, 0;\n",
       "      bitwi 1, $4, $4 << 16;\n",
       "      bitw 1, $3, $3 | $4;\n",
       "      regwi 1, $5, 0;\n",
       "      synci 200;\n",
       "      regwi 0, $1, 16385;\n",
       "      seti 0, 0, $1, 0;\n",
       "      memri 0, $9, 19;\n",
       "      memri 0, $4, 33;\n",
       "LOOP: set 6, 1, $1, $0, $0, $2, $3, $5;\n",
       "      set 7, 1, $1, $0, $0, $2, $3, $5;\n",
       "      mathi 1, $2, $2, +, 1000;\n",
       "      sync 0, $9;\n",
       "      loopnz 0, $4, @LOOP;\n",
       "      waiti 0, 1000;\n",
       "      read 0, 3 lower $1;\n",
       "      read 0, 3 upper $2;\n",
       "      memwi 3, $1, 55;\n",
       "      memwi 3, $2, 56;\n",
       "      seti 0, 0, $0, 0;\n",
       "      end ;"
      ]
     },
     "execution_count": 8,
     "metadata": {},
     "output_type": "execute_result"
    }
   ],
   "source": [
    "with ASM_Program() as p:\n",
    "    p.add_pulse(ch=7, name=\"gauss\",  style=\"arb\", idata=gauss(mu=300, si=160, length=592, maxv=30000), qdata=None)\n",
    "    \n",
    "    \n",
    "    p.memri(1, 1, 17)  # Get frequency value\n",
    "    p.regwi(1, 2, 15000) #Set gain\n",
    "    p.memri(1, 3, 18) # samples\n",
    "    p.regwi(1,4,0x0) # b00000 -> phrst = 0, stdysel = 0, mode = 0, outsel = 00\n",
    "    p.bitwi(1,4,4,\"<<\", 16)\n",
    "    p.bitw (1,3,3,\"|\", 4)\n",
    "    p.regwi(1,5,0)\n",
    "    p.synci(200)\n",
    "    \n",
    "    p.regwi(0,1,0x4001)\n",
    "    p.seti(0,0,1,0)\n",
    "    \n",
    "    p.memri (0,9,19) # sync length\n",
    "    p.memri (0,4,33) # reps\n",
    "    \n",
    "    p.label(\"LOOP\")\n",
    "    p.set (6, 1, 1, 0, 0, 2, 3, 5)\n",
    "    p.set (7, 1, 1, 0, 0, 2, 3, 5)\n",
    "    \n",
    "    p.mathi (1,2,2,\"+\",1000)\n",
    "    p.sync (0, 9)\n",
    "    p.loopnz (0,4,\"LOOP\")\n",
    "    \n",
    "    p.waiti(0,1000)\n",
    "    p.read (0,3,\"lower\", 1) #Lower 32-bit on register $1 of page 3.\n",
    "    p.read (0,3,\"upper\", 2)\n",
    "    \n",
    "    p.memwi (3,1,55)\n",
    "    p.memwi (3, 2,56)\n",
    "    \n",
    "    p.seti(0,0,0,0)\n",
    "    p.end()\n",
    "p"
   ]
  },
  {
   "cell_type": "code",
   "execution_count": 12,
   "metadata": {},
   "outputs": [
    {
     "data": {
      "text/plain": [
       "'0100000000000001'"
      ]
     },
     "execution_count": 12,
     "metadata": {},
     "output_type": "execute_result"
    }
   ],
   "source": [
    "f\"{16385:>016b}\""
   ]
  },
  {
   "cell_type": "code",
   "execution_count": 13,
   "metadata": {},
   "outputs": [
    {
     "data": {
      "text/plain": [
       "'0b100000000000001'"
      ]
     },
     "execution_count": 13,
     "metadata": {},
     "output_type": "execute_result"
    }
   ],
   "source": [
    "bin(0x4001)"
   ]
  },
  {
   "cell_type": "code",
   "execution_count": 2,
   "metadata": {},
   "outputs": [],
   "source": [
    "soc = PfbSoc('qsystem_2.bit')"
   ]
  },
  {
   "cell_type": "code",
   "execution_count": 8,
   "metadata": {},
   "outputs": [
    {
     "name": "stdout",
     "output_type": "stream",
     "text": [
      "199.96875\n"
     ]
    },
    {
     "data": {
      "text/plain": [
       "\n",
       "// Program\n",
       "\n",
       "      regwi 3, $16, 139788288;                  //freq = 199.96875 MHz\n",
       "      regwi 3, $17, 0;                          //phase = 0\n",
       "      regwi 3, $19, 15000;                      //gain = 15000\n",
       "      regwi 3, $18, 0;                          //addr = 0\n",
       "      regwi 3, $20, 524325;                     //stdysel | mode | outsel = 0b01000 | length = 37 \n",
       "      synci 200;\n",
       "      regwi 0, $4, 7;\n",
       "      regwi 0, $31, 49152;                      //out = 0b1100000000000000\n",
       "      seti 0, 0, $31, 256;                      //ch =0 out = $31 @t = 0\n",
       "      regwi 0, $31, 0;                          //out = 0b0000000000000000\n",
       "      seti 0, 0, $31, 266;                      //ch =0 out = $31 @t = 0\n",
       "LOOP: regwi 3, $21, 0;                          //t = 0\n",
       "      set 7, 3, $16, $17, $18, $19, $20, $21;   //ch = 7, out = $16,$18,$19,$20 @t = $21\n",
       "      synci 88;\n",
       "      loopnz 0, $4, @LOOP;\n",
       "      waiti 0, 1000;\n",
       "      read 0, 3 lower $1;\n",
       "      read 0, 3 upper $2;\n",
       "      memwi 3, $1, 55;\n",
       "      memwi 3, $2, 56;\n",
       "      end ;"
      ]
     },
     "execution_count": 8,
     "metadata": {},
     "output_type": "execute_result"
    }
   ],
   "source": [
    "fout = 200\n",
    "\n",
    "with ASM_Program() as p:\n",
    "    fout = p.reg2freq_adc(p.freq2reg_adc(fout))\n",
    "    print (fout)\n",
    "    \n",
    "    p.add_pulse(ch=7, name=\"gauss\",  style=\"arb\", idata=gauss(mu=300, si=160, length=592, maxv=30000), qdata=None)\n",
    "    \n",
    "    p.pulse(ch=7, pulse=\"gauss\", freq=p.freq2reg(fout), phase=0, gain=15000, t=0, play=False)\n",
    "    p.synci(200)\n",
    "    \n",
    "    p.regwi(0,4, 7)\n",
    "    \n",
    "    p.trigger_adc(adc1=1, adc2=1,t=0)\n",
    "    p.label(\"LOOP\")\n",
    "    p.pulse(7,play=True)\n",
    "    \n",
    "    p.sync_all(t=51)\n",
    "    p.loopnz (0,4,\"LOOP\")\n",
    "    \n",
    "    p.waiti(0,1000)\n",
    "    p.read (0,3,\"lower\", 1) #Lower 32-bit on register $1 of page 3.\n",
    "    p.read (0,3,\"upper\", 2)\n",
    "    \n",
    "    p.memwi (3,1,55)\n",
    "    p.memwi (3,2,56)\n",
    "    \n",
    "    p.end()\n",
    "p"
   ]
  },
  {
   "cell_type": "code",
   "execution_count": 7,
   "metadata": {},
   "outputs": [
    {
     "data": {
      "image/png": "[encoded data removed]",
      "text/plain": [
       "<matplotlib.figure.Figure at 0x7f76355cc0>"
      ]
     },
     "metadata": {},
     "output_type": "display_data"
    }
   ],
   "source": [
    "p.load_pulses(soc)\n",
    "\n",
    "soc.tproc.stop()\n",
    "soc.tproc.load_asm_program(p)\n",
    "\n",
    "soc.readouts[0].set_out(\"product\")\n",
    "soc.readouts[0].set_freq(fout)\n",
    "soc.avg_bufs[0].config(address=0, length=900)\n",
    "soc.avg_bufs[0].enable()\n",
    "\n",
    "soc.readouts[0].set_out(\"product\")\n",
    "soc.readouts[0].set_freq(fout)\n",
    "soc.avg_bufs[0].config(address=0, length=900)\n",
    "soc.avg_bufs[0].enable()\n",
    "\n",
    "time.sleep(1)\n",
    "\n",
    "# Start tProc.\n",
    "\n",
    "soc.tproc.start()\n",
    "\n",
    "time.sleep(1)\n",
    "\n",
    "# Raw data.\n",
    "[di_raw,dq_raw] = soc.get_decimated(ch=0, length=900)\n",
    "plt.plot(di_raw)\n",
    "\n",
    "# Accumulated data.\n",
    "[di,dq] = soc.get_accumulated(ch=0, length=16)\n",
    "\n"
   ]
  }
 ],
 "metadata": {
  "kernelspec": {
   "display_name": "Python 3",
   "language": "python",
   "name": "python3"
  },
  "language_info": {
   "codemirror_mode": {
    "name": "ipython",
    "version": 3
   },
   "file_extension": ".py",
   "mimetype": "text/x-python",
   "name": "python",
   "nbconvert_exporter": "python",
   "pygments_lexer": "ipython3",
   "version": "3.6.5"
  }
 },
 "nbformat": 4,
 "nbformat_minor": 2
}
