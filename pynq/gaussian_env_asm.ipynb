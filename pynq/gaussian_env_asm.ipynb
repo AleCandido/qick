{
 "cells": [
  {
   "cell_type": "code",
   "execution_count": 5,
   "metadata": {},
   "outputs": [
    {
     "name": "stdout",
     "output_type": "stream",
     "text": [
      "Populating the interactive namespace from numpy and matplotlib\n"
     ]
    }
   ],
   "source": [
    "%pylab inline\n",
    "from qsystem_2 import PfbSoc, freq2reg\n",
    "from tqdm import tqdm_notebook as tqdm\n",
    "from qsystem2_asm import *\n",
    "#from averager_program import AveragerProgram\n",
    "#from slab.instruments import InstrumentManager\n",
    "import time"
   ]
  },
  {
   "cell_type": "code",
   "execution_count": 6,
   "metadata": {},
   "outputs": [],
   "source": [
    "soc = PfbSoc('qsystem_2.bit')"
   ]
  },
  {
   "cell_type": "code",
   "execution_count": 10,
   "metadata": {},
   "outputs": [
    {
     "name": "stdout",
     "output_type": "stream",
     "text": [
      "1089.984375\n"
     ]
    },
    {
     "data": {
      "text/plain": [
       "\n",
       "// Program\n",
       "\n",
       "      regwi 0, $16, 761954304;                  //freq = 1089.984375 MHz\n",
       "      regwi 0, $17, 0;                          //phase = 0\n",
       "      regwi 0, $19, 20000;                      //gain = 20000\n",
       "      regwi 0, $21, 0;                          //t = 0\n",
       "      regwi 0, $18, 0;                          //addr = 0\n",
       "      regwi 0, $20, 524313;                     //stdysel | mode | outsel = 0b01000 | length = 25 \n",
       "      synci 200;\n",
       "      regwi 0, $4, 4;\n",
       "      regwi 0, $31, 49152;                      //out = 0b1100000000000000\n",
       "      seti 0, 0, $31, 206;                      //ch =0 out = $31 @t = 0\n",
       "      regwi 0, $31, 0;                          //out = 0b0000000000000000\n",
       "      seti 0, 0, $31, 216;                      //ch =0 out = $31 @t = 0\n",
       "LOOP: regwi 0, $19, 20000;                      //gain = 20000\n",
       "      regwi 0, $21, 0;                          //t = 0\n",
       "      regwi 0, $18, 0;                          //addr = 0\n",
       "      regwi 0, $20, 524313;                     //stdysel | mode | outsel = 0b01000 | length = 25 \n",
       "      set 1, 0, $16, $17, $18, $19, $20, $21;   //ch = 1, out = $16,$18,$19,$20 @t = $21\n",
       "      regwi 0, $19, 10000;                      //gain = 10000\n",
       "      regwi 0, $21, 0;                          //t = 0\n",
       "      regwi 0, $18, 0;                          //addr = 0\n",
       "      regwi 0, $20, 589874;                     //stdysel | mode | outsel = 0b01001 | length = 50 \n",
       "      set 1, 0, $16, $17, $18, $19, $20, $21;   //ch = 1, out = $16,$18,$19,$20 @t = $21\n",
       "      regwi 0, $19, 20000;                      //gain = 20000\n",
       "      regwi 0, $21, 75;                         //t = 75\n",
       "      regwi 0, $18, 25;                         //addr = 25\n",
       "      regwi 0, $20, 524313;                     //stdysel | mode | outsel = 0b01000 | length = 25 \n",
       "      set 1, 0, $16, $17, $18, $19, $20, $21;   //ch = 1, out = $16,$18,$19,$20 @t = $21\n",
       "      synci 150;\n",
       "      loopnz 0, $4, @LOOP;\n",
       "      waiti 0, 1000;\n",
       "      read 0, 3 lower $1;\n",
       "      read 0, 3 upper $2;\n",
       "      memwi 3, $1, 55;\n",
       "      memwi 3, $2, 56;\n",
       "      end ;"
      ]
     },
     "execution_count": 10,
     "metadata": {},
     "output_type": "execute_result"
    }
   ],
   "source": [
    "fout = 1090\n",
    "\n",
    "with ASM_Program() as p:\n",
    "    fout = p.reg2freq_adc(p.freq2reg_adc(fout))\n",
    "    print (fout)\n",
    "    \n",
    "    p.add_pulse(ch=1, name=\"gauss\",  style=\"flat_top\", idata=gauss(mu=25*16, si=10*16, length=50*16, maxv=2**15-1), qdata=None, length=10)\n",
    "    #p.add_pulse(ch=7, name=\"gauss\",  style=\"const\", idata=gauss(mu=25*16, si=200, length=50*16, maxv=2**15-1), qdata=None, length=2*10+50)\n",
    "    \n",
    "    p.pulse(ch=1, pulse=\"gauss\", freq=p.freq2reg(fout), phase=0, gain=20000, t=0, play=False)\n",
    "    p.synci(200)\n",
    "    \n",
    "    p.regwi(0,4, 4)\n",
    "    \n",
    "    p.trigger_adc(adc1=1, adc2=1,adc_trig_offset=206)\n",
    "    p.label(\"LOOP\")\n",
    "    p.pulse(1,play=True)\n",
    "    \n",
    "    p.sync_all(t=100)\n",
    "    p.loopnz (0,4,\"LOOP\")\n",
    "    \n",
    "    p.waiti(0,1000)\n",
    "    p.read (0,3,\"lower\", 1) #Lower 32-bit on register $1 of page 3.\n",
    "    p.read (0,3,\"upper\", 2)\n",
    "    \n",
    "    p.memwi (3,1,55)\n",
    "    p.memwi (3,2,56)\n",
    "    \n",
    "    p.end()\n",
    "p"
   ]
  },
  {
   "cell_type": "code",
   "execution_count": 12,
   "metadata": {},
   "outputs": [
    {
     "data": {
      "image/png": "[encoded data removed]",
      "text/plain": [
       "<matplotlib.figure.Figure at 0x7f80d62550>"
      ]
     },
     "metadata": {},
     "output_type": "display_data"
    }
   ],
   "source": [
    "p.load_pulses(soc)\n",
    "\n",
    "soc.tproc.stop()\n",
    "soc.tproc.load_asm_program(p)\n",
    "readout_length=1000\n",
    "\n",
    "soc.readouts[0].set_out(\"product\")\n",
    "soc.readouts[0].set_freq(fout)\n",
    "soc.avg_bufs[0].config(address=0, length=readout_length)\n",
    "soc.avg_bufs[0].enable()\n",
    "\n",
    "soc.readouts[1].set_out(\"product\")\n",
    "soc.readouts[1].set_freq(fout)\n",
    "soc.avg_bufs[1].config(address=0, length=readout_length)\n",
    "soc.avg_bufs[1].enable()\n",
    "\n",
    "\n",
    "# Start tProc.\n",
    "\n",
    "soc.tproc.start()\n",
    "\n",
    "time.sleep(.001)\n",
    "\n",
    "# Raw data.\n",
    "[di_raw,dq_raw] = soc.get_decimated(ch=1, length=readout_length)\n",
    "#plt.plot(di_raw)\n",
    "#plt.plot(dq_raw)\n",
    "tpts=arange(readout_length)/soc.fs_adc*1000\n",
    "plt.subplot(111, xlabel=\"Time (ns)\", ylabel=\"Amplitude\", title=\"Flat top pulse test\")\n",
    "plt.plot(tpts,np.sqrt(di_raw**2+dq_raw**2))\n",
    "\n",
    "\n",
    "\n",
    "# Accumulated data.\n",
    "[di,dq] = soc.get_accumulated(ch=0, length=16)"
   ]
  },
  {
   "cell_type": "code",
   "execution_count": null,
   "metadata": {},
   "outputs": [],
   "source": []
  },
  {
   "cell_type": "code",
   "execution_count": null,
   "metadata": {},
   "outputs": [],
   "source": []
  },
  {
   "cell_type": "code",
   "execution_count": null,
   "metadata": {},
   "outputs": [],
   "source": []
  }
 ],
 "metadata": {
  "kernelspec": {
   "display_name": "Python 3",
   "language": "python",
   "name": "python3"
  },
  "language_info": {
   "codemirror_mode": {
    "name": "ipython",
    "version": 3
   },
   "file_extension": ".py",
   "mimetype": "text/x-python",
   "name": "python",
   "nbconvert_exporter": "python",
   "pygments_lexer": "ipython3",
   "version": "3.6.5"
  }
 },
 "nbformat": 4,
 "nbformat_minor": 2
}
