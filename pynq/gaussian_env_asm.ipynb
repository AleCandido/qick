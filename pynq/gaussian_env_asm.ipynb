{
 "cells": [
  {
   "cell_type": "code",
   "execution_count": 2,
   "metadata": {},
   "outputs": [
    {
     "name": "stdout",
     "output_type": "stream",
     "text": [
      "Populating the interactive namespace from numpy and matplotlib\n"
     ]
    },
    {
     "data": {
      "application/javascript": [
       "\n",
       "try {\n",
       "require(['notebook/js/codecell'], function(codecell) {\n",
       "  codecell.CodeCell.options_default.highlight_modes[\n",
       "      'magic_text/x-csrc'] = {'reg':[/^%%pybind11/]};\n",
       "  Jupyter.notebook.events.one('kernel_ready.Kernel', function(){\n",
       "      Jupyter.notebook.get_cells().map(function(cell){\n",
       "          if (cell.cell_type == 'code'){ cell.auto_highlight(); } }) ;\n",
       "  });\n",
       "});\n",
       "} catch (e) {};\n"
      ]
     },
     "metadata": {},
     "output_type": "display_data"
    }
   ],
   "source": [
    "%pylab inline\n",
    "from qsystem_2 import PfbSoc, freq2reg\n",
    "from tqdm import tqdm_notebook as tqdm\n",
    "from qsystem2_asm import *\n",
    "#from averager_program import AveragerProgram\n",
    "#from slab.instruments import InstrumentManager\n",
    "import time"
   ]
  },
  {
   "cell_type": "code",
   "execution_count": 3,
   "metadata": {},
   "outputs": [
    {
     "data": {
      "text/plain": [
       "\n",
       "// Program\n",
       "\n",
       "      memri 1, $1, 17;\n",
       "      regwi 1, $2, 15000;\n",
       "      memri 1, $3, 18;\n",
       "      regwi 1, $4, 0;\n",
       "      bitwi 1, $4, $4 << 16;\n",
       "      bitw 1, $3, $3 | $4;\n",
       "      regwi 1, $5, 0;\n",
       "      synci 200;\n",
       "      regwi 0, $1, 16385;\n",
       "      seti 0, 0, $1, 0;\n",
       "      memri 0, $9, 19;\n",
       "      memri 0, $4, 33;\n",
       "LOOP: set 6, 1, $1, $0, $0, $2, $3, $5;\n",
       "      set 7, 1, $1, $0, $0, $2, $3, $5;\n",
       "      mathi 1, $2, $2, +, 1000;\n",
       "      sync 0, $9;\n",
       "      loopnz 0, $4, @LOOP;\n",
       "      waiti 0, 1000;\n",
       "      read 0, 3 lower $1;\n",
       "      read 0, 3 upper $2;\n",
       "      memwi 3, $1, 55;\n",
       "      memwi 3, $2, 56;\n",
       "      seti 0, 0, $0, 0;\n",
       "      end ;"
      ]
     },
     "execution_count": 3,
     "metadata": {},
     "output_type": "execute_result"
    }
   ],
   "source": [
    "with ASM_Program() as p:\n",
    "    p.memri(1, 1, 17)  # Get frequency value\n",
    "    p.regwi(1, 2, 15000) #Set gain\n",
    "    p.memri(1, 3, 18) # samples\n",
    "    p.regwi(1,4,0x0) # b00000 -> phrst = 0, stdysel = 0, mode = 0, outsel = 00\n",
    "    p.bitwi(1,4,4,\"<<\", 16)\n",
    "    p.bitw (1,3,3,\"|\", 4)\n",
    "    p.regwi(1,5,0)\n",
    "    p.synci(200)\n",
    "    \n",
    "    p.regwi(0,1,0x4001)\n",
    "    p.seti(0,0,1,0)\n",
    "    \n",
    "    p.memri (0,9,19) # sync length\n",
    "    p.memri (0,4,33) # reps\n",
    "    \n",
    "    p.label(\"LOOP\")\n",
    "    p.set (6, 1, 1, 0, 0, 2, 3, 5)\n",
    "    p.set (7, 1, 1, 0, 0, 2, 3, 5)\n",
    "    \n",
    "    p.mathi (1,2,2,\"+\",1000)\n",
    "    p.sync (0, 9)\n",
    "    p.loopnz (0,4,\"LOOP\")\n",
    "    \n",
    "    p.waiti(0,1000)\n",
    "    p.read (0,3,\"lower\", 1) #Lower 32-bit on register $1 of page 3.\n",
    "    p.read (0,3,\"upper\", 2)\n",
    "    \n",
    "    p.memwi (3,1,55)\n",
    "    p.memwi (3, 2,56)\n",
    "    \n",
    "    p.seti(0,0,0,0)\n",
    "    p.end()\n",
    "p"
   ]
  },
  {
   "cell_type": "code",
   "execution_count": 4,
   "metadata": {},
   "outputs": [
    {
     "data": {
      "text/plain": [
       "589842"
      ]
     },
     "execution_count": 4,
     "metadata": {},
     "output_type": "execute_result"
    }
   ],
   "source": [
    "0b01001 <<16 | 18"
   ]
  },
  {
   "cell_type": "code",
   "execution_count": 5,
   "metadata": {},
   "outputs": [],
   "source": [
    "def get_mode_code(phrst, stdysel, mode, outsel, length):\n",
    "    if phrst is None:\n",
    "        phrst=0\n",
    "    if stdysel is None:\n",
    "        stdysel=1\n",
    "    if mode is None:\n",
    "        mode=0\n",
    "    if outsel is None:\n",
    "        outsel=0\n",
    "    mc=phrst*0b10000+stdysel*0b01000+mode*0b00100+outsel\n",
    "    return mc << 16 | length\n",
    "    #return (stdysel << 15) | (mode << 14) | (outsel << 12) | (length <<0) # f'stdysel = {stdysel} , mode = {mode} , outsel = {outsel}, nsamp = {nsamp}'\n"
   ]
  },
  {
   "cell_type": "code",
   "execution_count": 6,
   "metadata": {},
   "outputs": [
    {
     "data": {
      "text/plain": [
       "589842"
      ]
     },
     "execution_count": 6,
     "metadata": {},
     "output_type": "execute_result"
    }
   ],
   "source": [
    "get_mode_code(phrst=0,stdysel=1,mode=0,outsel=1,length=18)"
   ]
  },
  {
   "cell_type": "code",
   "execution_count": 7,
   "metadata": {},
   "outputs": [],
   "source": [
    "soc = PfbSoc('qsystem_2.bit')"
   ]
  },
  {
   "cell_type": "code",
   "execution_count": 8,
   "metadata": {},
   "outputs": [],
   "source": [
    "fout = 200\n",
    "with ASM_Program() as p:\n",
    "    #p.memri(1, 1, 17)  # Get frequency value\n",
    "#     p.regwi(1,1, p.freq2reg(fout))\n",
    "#     p.regwi(1, 2, 15000) #Set gain\n",
    "#     p.memri(1, 3, 18) # samples\n",
    "#     p.regwi(1,4,0b01001) # b00000 -> phrst = 0, stdysel = 0, mode = 0, outsel = 00\n",
    "#     p.bitwi(1,4,4,\"<<\", 16)\n",
    "#     p.bitw (1,3,3,\"|\", 4)\n",
    "#     p.regwi(1,5,0)\n",
    "    p.set_wave(7, freq=p.freq2reg(fout), gain=15000, length=18, stdysel=1, mode=0, outsel=1, t=0, play=False)\n",
    "    p.synci(200)\n",
    "    \n",
    "    p.regwi(0,1,0x4001)\n",
    "    p.seti(0,0,1,0)\n",
    "    \n",
    "    p.memri (0,9,19) # sync length\n",
    "    p.memri (0,4,33) # reps\n",
    "    \n",
    "    p.label(\"LOOP\")\n",
    "    #p.set (6, 1, 1, 0, 0, 2, 3, 5)\n",
    "    #p.set (7, 1, 1, 0, 0, 2, 3, 5)\n",
    "    p.set_wave(7,stdysel=1, mode=0, outsel=1,length=18,play=True)\n",
    "    \n",
    "    p.mathi (3,19,19,\"+\",1000)\n",
    "    p.sync (0, 9)\n",
    "    p.loopnz (0,4,\"LOOP\")\n",
    "    \n",
    "    p.waiti(0,1000)\n",
    "    p.read (0,3,\"lower\", 1) #Lower 32-bit on register $1 of page 3.\n",
    "    p.read (0,3,\"upper\", 2)\n",
    "    \n",
    "    p.memwi (3,1,55)\n",
    "    p.memwi (3, 2,56)\n",
    "    \n",
    "    p.seti(0,0,0,0)\n",
    "    p.end()"
   ]
  },
  {
   "cell_type": "code",
   "execution_count": 9,
   "metadata": {},
   "outputs": [
    {
     "data": {
      "text/plain": [
       "\n",
       "// Program\n",
       "\n",
       "      regwi 3, $16, 167772160;                        freq\n",
       "      regwi 3, $19, 15000;                        gain\n",
       "      regwi 3, $21, 0;                        t = 0\n",
       "      regwi 3, $18, 0;                        addr\n",
       "      regwi 3, $20, 589842;                        stdysel = 1, mode = 0, outsel = 1, length = 18\n",
       "      synci 200;\n",
       "      regwi 0, $1, 16385;\n",
       "      seti 0, 0, $1, 0;\n",
       "      memri 0, $9, 19;\n",
       "      memri 0, $4, 33;\n",
       "LOOP: regwi 3, $18, 0;                        addr\n",
       "      regwi 3, $20, 589842;                        stdysel = 1, mode = 0, outsel = 1, length = 18\n",
       "      regwi 3, $21, 0;                        t = 0\n",
       "      set 7, 3, $16, $17, $18, $19, $20, $21;                        ch = 7, out = $16,$18,$19,$20 @t = $21\n",
       "      mathi 3, $19, $19, +, 1000;\n",
       "      sync 0, $9;\n",
       "      loopnz 0, $4, @LOOP;\n",
       "      waiti 0, 1000;\n",
       "      read 0, 3 lower $1;\n",
       "      read 0, 3 upper $2;\n",
       "      memwi 3, $1, 55;\n",
       "      memwi 3, $2, 56;\n",
       "      seti 0, 0, $0, 0;\n",
       "      end ;"
      ]
     },
     "execution_count": 9,
     "metadata": {},
     "output_type": "execute_result"
    }
   ],
   "source": [
    "p"
   ]
  },
  {
   "cell_type": "code",
   "execution_count": 10,
   "metadata": {},
   "outputs": [
    {
     "name": "stdout",
     "output_type": "stream",
     "text": [
      "di_raw_sum = 55965, di_feed = 55965, di = 55965\n",
      "dq_raw_sum = -16862, dq_feed = -16862, dq = -16862\n"
     ]
    },
    {
     "data": {
      "image/png": "[encoded data removed]",
      "text/plain": [
       "<matplotlib.figure.Figure at 0x7f68242470>"
      ]
     },
     "metadata": {},
     "output_type": "display_data"
    }
   ],
   "source": [
    "#########################\n",
    "### Gaussian Envelope ###\n",
    "#########################\n",
    "# This asm file uses:\n",
    "# |--------------------------------------------------|\n",
    "# | tProc Out CH | DAC Tile | DAC Number | Generator |\n",
    "# |--------------|----------|------------|-----------|\n",
    "# |            6 |      229 |          2 |         5 |\n",
    "# |            7 |      229 |          3 |         6 |\n",
    "# |--------------------------------------------------|\n",
    "#\n",
    "# For readout:\n",
    "# ADC 224 CH0, connected to readout 0, bit 14 of channel 0 tProc.\n",
    "#\n",
    "# tProcessor memory map:\n",
    "# @17 : DAC frequency.\n",
    "# @18 : DAC pulse length.\n",
    "# @19 : sync value.\n",
    "# @33 : Number or repetitions.\n",
    "# @55 : Real part of average (feedback).\n",
    "# @56 : Imaginary part of average (feedback).\n",
    "xg_i = gauss(mu=150, si=80, length=300, maxv=30000)\n",
    "xg_q = np.zeros(len(xg_i))\n",
    "\n",
    "# Upload waveform.\n",
    "gen = soc.gens[5].load(addr=0,xin_i=xg_i, xin_q=xg_q)\n",
    "gen = soc.gens[6].load(addr=0,xin_i=xg_i, xin_q=xg_q)\n",
    "\n",
    "# Compute DDS frequency.\n",
    "\n",
    "tmp = freq2reg(fs=soc.fs_dac,f=fout,B=32)\n",
    "soc.tproc.single_write(addr=17,data=tmp)\n",
    "\n",
    "# Compute pulse length.\n",
    "Np = int(len(xg_i)/soc.gens[0].NDDS)\n",
    "soc.tproc.single_write(addr=18,data=Np)\n",
    "\n",
    "# tProc sync value to separate pulses.\n",
    "Nsync = int(Np*2.4)\n",
    "soc.tproc.single_write(addr=19,data=Nsync)\n",
    "\n",
    "# Number of repetitions.\n",
    "N = 7\n",
    "soc.tproc.single_write(addr=33, data=N-1)\n",
    "\n",
    "# Load program.\n",
    "soc.tproc.stop()\n",
    "#soc.tproc.load_program(\"gaussian_env.asm\")\n",
    "soc.tproc.load_asm_program(p)\n",
    "\n",
    "# Number of total samples.\n",
    "NTdac = N*len(xg_i)\n",
    "NTadc = NTdac*soc.fs_adc/soc.fs_dac\n",
    "NTadc_dec = int(NTadc/8)\n",
    "\n",
    "# Configure readout.\n",
    "soc.readouts[0].set_out(\"product\")\n",
    "soc.readouts[0].set_freq(fout)\n",
    "soc.avg_bufs[0].config(address=0, length=900)\n",
    "soc.avg_bufs[0].enable()\n",
    "\n",
    "time.sleep(1)\n",
    "\n",
    "# Start tProc.\n",
    "\n",
    "soc.tproc.start()\n",
    "\n",
    "time.sleep(1)\n",
    "\n",
    "# Raw data.\n",
    "[di_raw,dq_raw] = soc.get_decimated(ch=0, length=900)\n",
    "plt.plot(di_raw)\n",
    "\n",
    "# Accumulated data.\n",
    "[di,dq] = soc.get_accumulated(ch=0, length=16)\n",
    "\n",
    "# Feedback of accumulated data.\n",
    "di_feed = soc.tproc.single_read(addr=55)\n",
    "dq_feed = soc.tproc.single_read(addr=56)\n",
    "if di_feed>2**31:\n",
    "    di_feed = di_feed - 2**32\n",
    "if dq_feed>2**31:\n",
    "    dq_feed = dq_feed - 2**32\n",
    "    \n",
    "# Accumulate raw data in Python for comparison.\n",
    "di_raw_sum = np.sum(di_raw)\n",
    "dq_raw_sum = np.sum(dq_raw)\n",
    "\n",
    "# Comparison.\n",
    "print(\"di_raw_sum = %d, di_feed = %d, di = %d\" %(di_raw_sum, di_feed, di[0]))\n",
    "print(\"dq_raw_sum = %d, dq_feed = %d, dq = %d\" %(dq_raw_sum, dq_feed, dq[0]))"
   ]
  },
  {
   "cell_type": "code",
   "execution_count": null,
   "metadata": {},
   "outputs": [],
   "source": []
  },
  {
   "cell_type": "code",
   "execution_count": null,
   "metadata": {},
   "outputs": [],
   "source": []
  }
 ],
 "metadata": {
  "kernelspec": {
   "display_name": "Python 3",
   "language": "python",
   "name": "python3"
  },
  "language_info": {
   "codemirror_mode": {
    "name": "ipython",
    "version": 3
   },
   "file_extension": ".py",
   "mimetype": "text/x-python",
   "name": "python",
   "nbconvert_exporter": "python",
   "pygments_lexer": "ipython3",
   "version": "3.6.5"
  }
 },
 "nbformat": 4,
 "nbformat_minor": 2
}
